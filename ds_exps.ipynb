{
 "cells": [
  {
   "cell_type": "code",
   "execution_count": 6,
   "metadata": {},
   "outputs": [],
   "source": [
    "from experiment import Experiment\n",
    "import torch\n",
    "import numpy as np\n",
    "import dynamical_systems as ds\n",
    "import matplotlib.pyplot as plt\n",
    "import tasks"
   ]
  },
  {
   "cell_type": "markdown",
   "metadata": {},
   "source": [
    "# Double well"
   ]
  },
  {
   "cell_type": "code",
   "execution_count": 28,
   "metadata": {},
   "outputs": [],
   "source": [
    "exp = Experiment(task='double_well', model='DSModel', epochs=50, n_examples=2000, timesteps=100, depth=1, lr=1e-3, task_kwargs={'clip_val': 2})"
   ]
  },
  {
   "cell_type": "code",
   "execution_count": 29,
   "metadata": {},
   "outputs": [
    {
     "name": "stdout",
     "output_type": "stream",
     "text": [
      "Training...\n",
      "Epoch 1/50\n"
     ]
    },
    {
     "name": "stderr",
     "output_type": "stream",
     "text": [
      "100%|██████████| 50/50 [00:04<00:00, 12.40it/s]\n"
     ]
    },
    {
     "name": "stdout",
     "output_type": "stream",
     "text": [
      "Train loss: 1.1694594812393189, Test loss: 0.7504543662071228\n",
      "Epoch 2/50\n"
     ]
    },
    {
     "name": "stderr",
     "output_type": "stream",
     "text": [
      "100%|██████████| 50/50 [00:03<00:00, 13.60it/s]\n"
     ]
    },
    {
     "name": "stdout",
     "output_type": "stream",
     "text": [
      "Train loss: 0.6504567909240723, Test loss: 0.6394384503364563\n",
      "Epoch 3/50\n"
     ]
    },
    {
     "name": "stderr",
     "output_type": "stream",
     "text": [
      "100%|██████████| 50/50 [00:03<00:00, 13.19it/s]\n"
     ]
    },
    {
     "name": "stdout",
     "output_type": "stream",
     "text": [
      "Train loss: 0.5355527412891388, Test loss: 0.46140605211257935\n",
      "Epoch 4/50\n"
     ]
    },
    {
     "name": "stderr",
     "output_type": "stream",
     "text": [
      "100%|██████████| 50/50 [00:04<00:00, 11.75it/s]\n"
     ]
    },
    {
     "name": "stdout",
     "output_type": "stream",
     "text": [
      "Train loss: 0.4750146669149399, Test loss: 0.4452507793903351\n",
      "Epoch 5/50\n"
     ]
    },
    {
     "name": "stderr",
     "output_type": "stream",
     "text": [
      "100%|██████████| 50/50 [00:03<00:00, 12.68it/s]\n"
     ]
    },
    {
     "name": "stdout",
     "output_type": "stream",
     "text": [
      "Train loss: 0.4151521795988083, Test loss: 0.3800670802593231\n",
      "Epoch 6/50\n"
     ]
    },
    {
     "name": "stderr",
     "output_type": "stream",
     "text": [
      "100%|██████████| 50/50 [00:04<00:00, 11.85it/s]\n"
     ]
    },
    {
     "name": "stdout",
     "output_type": "stream",
     "text": [
      "Train loss: 0.3764284297823906, Test loss: 0.3492109477519989\n",
      "Epoch 7/50\n"
     ]
    },
    {
     "name": "stderr",
     "output_type": "stream",
     "text": [
      "100%|██████████| 50/50 [00:04<00:00, 10.35it/s]\n"
     ]
    },
    {
     "name": "stdout",
     "output_type": "stream",
     "text": [
      "Train loss: 0.3784861555695534, Test loss: 0.3141598701477051\n",
      "Epoch 8/50\n"
     ]
    },
    {
     "name": "stderr",
     "output_type": "stream",
     "text": [
      "100%|██████████| 50/50 [00:05<00:00,  8.58it/s]\n"
     ]
    },
    {
     "name": "stdout",
     "output_type": "stream",
     "text": [
      "Train loss: 0.30494760125875475, Test loss: 0.3000223636627197\n",
      "Epoch 9/50\n"
     ]
    },
    {
     "name": "stderr",
     "output_type": "stream",
     "text": [
      "100%|██████████| 50/50 [00:05<00:00,  8.39it/s]\n"
     ]
    },
    {
     "name": "stdout",
     "output_type": "stream",
     "text": [
      "Train loss: 0.3185689604282379, Test loss: 0.363696813583374\n",
      "Epoch 10/50\n"
     ]
    },
    {
     "name": "stderr",
     "output_type": "stream",
     "text": [
      "100%|██████████| 50/50 [00:05<00:00,  8.94it/s]\n"
     ]
    },
    {
     "name": "stdout",
     "output_type": "stream",
     "text": [
      "Train loss: 0.47918168395757677, Test loss: 0.3066372871398926\n",
      "Epoch 11/50\n"
     ]
    },
    {
     "name": "stderr",
     "output_type": "stream",
     "text": [
      "100%|██████████| 50/50 [00:05<00:00,  8.79it/s]\n"
     ]
    },
    {
     "name": "stdout",
     "output_type": "stream",
     "text": [
      "Train loss: 0.2932242316007614, Test loss: 0.2528142035007477\n",
      "Epoch 12/50\n"
     ]
    },
    {
     "name": "stderr",
     "output_type": "stream",
     "text": [
      "100%|██████████| 50/50 [00:05<00:00,  9.28it/s]\n"
     ]
    },
    {
     "name": "stdout",
     "output_type": "stream",
     "text": [
      "Train loss: 0.2582369154691696, Test loss: 0.21957102417945862\n",
      "Epoch 13/50\n"
     ]
    },
    {
     "name": "stderr",
     "output_type": "stream",
     "text": [
      "100%|██████████| 50/50 [00:05<00:00,  9.28it/s]\n"
     ]
    },
    {
     "name": "stdout",
     "output_type": "stream",
     "text": [
      "Train loss: 0.209114933013916, Test loss: 0.2118096649646759\n",
      "Epoch 14/50\n"
     ]
    },
    {
     "name": "stderr",
     "output_type": "stream",
     "text": [
      "100%|██████████| 50/50 [00:05<00:00,  9.49it/s]\n"
     ]
    },
    {
     "name": "stdout",
     "output_type": "stream",
     "text": [
      "Train loss: 0.2033238397538662, Test loss: 0.18993785977363586\n",
      "Epoch 15/50\n"
     ]
    },
    {
     "name": "stderr",
     "output_type": "stream",
     "text": [
      "100%|██████████| 50/50 [00:05<00:00,  9.66it/s]\n"
     ]
    },
    {
     "name": "stdout",
     "output_type": "stream",
     "text": [
      "Train loss: 0.1849876020848751, Test loss: 0.16721446812152863\n",
      "Epoch 16/50\n"
     ]
    },
    {
     "name": "stderr",
     "output_type": "stream",
     "text": [
      "100%|██████████| 50/50 [00:05<00:00,  9.06it/s]\n"
     ]
    },
    {
     "name": "stdout",
     "output_type": "stream",
     "text": [
      "Train loss: 0.17724932298064233, Test loss: 0.18721850216388702\n",
      "Epoch 17/50\n"
     ]
    },
    {
     "name": "stderr",
     "output_type": "stream",
     "text": [
      "100%|██████████| 50/50 [00:05<00:00,  9.21it/s]\n"
     ]
    },
    {
     "name": "stdout",
     "output_type": "stream",
     "text": [
      "Train loss: 0.16898778483271598, Test loss: 0.14729733765125275\n",
      "Epoch 18/50\n"
     ]
    },
    {
     "name": "stderr",
     "output_type": "stream",
     "text": [
      "100%|██████████| 50/50 [00:05<00:00,  8.73it/s]\n"
     ]
    },
    {
     "name": "stdout",
     "output_type": "stream",
     "text": [
      "Train loss: 0.1730433402955532, Test loss: 0.14191609621047974\n",
      "Epoch 19/50\n"
     ]
    },
    {
     "name": "stderr",
     "output_type": "stream",
     "text": [
      "100%|██████████| 50/50 [00:05<00:00,  8.75it/s]\n"
     ]
    },
    {
     "name": "stdout",
     "output_type": "stream",
     "text": [
      "Train loss: 0.1463220453262329, Test loss: 0.12940539419651031\n",
      "Epoch 20/50\n"
     ]
    },
    {
     "name": "stderr",
     "output_type": "stream",
     "text": [
      "100%|██████████| 50/50 [00:05<00:00,  8.93it/s]\n"
     ]
    },
    {
     "name": "stdout",
     "output_type": "stream",
     "text": [
      "Train loss: 0.16884430579841136, Test loss: 0.14706052839756012\n",
      "Epoch 21/50\n"
     ]
    },
    {
     "name": "stderr",
     "output_type": "stream",
     "text": [
      "100%|██████████| 50/50 [00:05<00:00,  9.62it/s]\n"
     ]
    },
    {
     "name": "stdout",
     "output_type": "stream",
     "text": [
      "Train loss: 0.1381378560513258, Test loss: 0.1281362622976303\n",
      "Epoch 22/50\n"
     ]
    },
    {
     "name": "stderr",
     "output_type": "stream",
     "text": [
      "100%|██████████| 50/50 [00:05<00:00,  9.15it/s]\n"
     ]
    },
    {
     "name": "stdout",
     "output_type": "stream",
     "text": [
      "Train loss: 0.13487510949373246, Test loss: 0.12347505986690521\n",
      "Epoch 23/50\n"
     ]
    },
    {
     "name": "stderr",
     "output_type": "stream",
     "text": [
      "100%|██████████| 50/50 [00:05<00:00,  9.72it/s]\n"
     ]
    },
    {
     "name": "stdout",
     "output_type": "stream",
     "text": [
      "Train loss: 0.13604701951146125, Test loss: 0.11533977091312408\n",
      "Epoch 24/50\n"
     ]
    },
    {
     "name": "stderr",
     "output_type": "stream",
     "text": [
      "100%|██████████| 50/50 [00:05<00:00, 10.00it/s]\n"
     ]
    },
    {
     "name": "stdout",
     "output_type": "stream",
     "text": [
      "Train loss: 0.11521286342293025, Test loss: 0.10547804832458496\n",
      "Epoch 25/50\n"
     ]
    },
    {
     "name": "stderr",
     "output_type": "stream",
     "text": [
      "100%|██████████| 50/50 [00:04<00:00, 10.26it/s]\n"
     ]
    },
    {
     "name": "stdout",
     "output_type": "stream",
     "text": [
      "Train loss: 0.12829529851675034, Test loss: 0.10517990589141846\n",
      "Epoch 26/50\n"
     ]
    },
    {
     "name": "stderr",
     "output_type": "stream",
     "text": [
      "100%|██████████| 50/50 [00:05<00:00,  9.71it/s]\n"
     ]
    },
    {
     "name": "stdout",
     "output_type": "stream",
     "text": [
      "Train loss: 0.11999624975025654, Test loss: 0.10111508518457413\n",
      "Epoch 27/50\n"
     ]
    },
    {
     "name": "stderr",
     "output_type": "stream",
     "text": [
      "100%|██████████| 50/50 [00:05<00:00,  9.34it/s]\n"
     ]
    },
    {
     "name": "stdout",
     "output_type": "stream",
     "text": [
      "Train loss: 0.09967639610171318, Test loss: 0.09636881202459335\n",
      "Epoch 28/50\n"
     ]
    },
    {
     "name": "stderr",
     "output_type": "stream",
     "text": [
      "100%|██████████| 50/50 [00:05<00:00,  9.61it/s]\n"
     ]
    },
    {
     "name": "stdout",
     "output_type": "stream",
     "text": [
      "Train loss: 0.08891916621476412, Test loss: 0.09183167666196823\n",
      "Epoch 29/50\n"
     ]
    },
    {
     "name": "stderr",
     "output_type": "stream",
     "text": [
      "100%|██████████| 50/50 [00:05<00:00,  9.52it/s]\n"
     ]
    },
    {
     "name": "stdout",
     "output_type": "stream",
     "text": [
      "Train loss: 0.09170709336176515, Test loss: 0.09378539025783539\n",
      "Epoch 30/50\n"
     ]
    },
    {
     "name": "stderr",
     "output_type": "stream",
     "text": [
      "100%|██████████| 50/50 [00:05<00:00,  9.43it/s]\n"
     ]
    },
    {
     "name": "stdout",
     "output_type": "stream",
     "text": [
      "Train loss: 0.08608457408845424, Test loss: 0.0858045145869255\n",
      "Epoch 31/50\n"
     ]
    },
    {
     "name": "stderr",
     "output_type": "stream",
     "text": [
      "100%|██████████| 50/50 [00:05<00:00,  9.54it/s]\n"
     ]
    },
    {
     "name": "stdout",
     "output_type": "stream",
     "text": [
      "Train loss: 0.13423025127500296, Test loss: 0.10392874479293823\n",
      "Epoch 32/50\n"
     ]
    },
    {
     "name": "stderr",
     "output_type": "stream",
     "text": [
      "100%|██████████| 50/50 [00:05<00:00,  9.52it/s]\n"
     ]
    },
    {
     "name": "stdout",
     "output_type": "stream",
     "text": [
      "Train loss: 0.09182645253837109, Test loss: 0.08623187243938446\n",
      "Epoch 33/50\n"
     ]
    },
    {
     "name": "stderr",
     "output_type": "stream",
     "text": [
      "100%|██████████| 50/50 [00:04<00:00, 10.08it/s]\n"
     ]
    },
    {
     "name": "stdout",
     "output_type": "stream",
     "text": [
      "Train loss: 0.0927703595533967, Test loss: 0.07894796878099442\n",
      "Epoch 34/50\n"
     ]
    },
    {
     "name": "stderr",
     "output_type": "stream",
     "text": [
      "100%|██████████| 50/50 [00:04<00:00, 10.17it/s]\n"
     ]
    },
    {
     "name": "stdout",
     "output_type": "stream",
     "text": [
      "Train loss: 0.09015463054180145, Test loss: 0.10047991573810577\n",
      "Epoch 35/50\n"
     ]
    },
    {
     "name": "stderr",
     "output_type": "stream",
     "text": [
      "100%|██████████| 50/50 [00:05<00:00,  9.82it/s]\n"
     ]
    },
    {
     "name": "stdout",
     "output_type": "stream",
     "text": [
      "Train loss: 0.08885627623647452, Test loss: 0.07754704356193542\n",
      "Epoch 36/50\n"
     ]
    },
    {
     "name": "stderr",
     "output_type": "stream",
     "text": [
      "100%|██████████| 50/50 [00:05<00:00,  9.57it/s]\n"
     ]
    },
    {
     "name": "stdout",
     "output_type": "stream",
     "text": [
      "Train loss: 0.07518277443945408, Test loss: 0.07014311850070953\n",
      "Epoch 37/50\n"
     ]
    },
    {
     "name": "stderr",
     "output_type": "stream",
     "text": [
      "100%|██████████| 50/50 [00:05<00:00,  9.42it/s]\n"
     ]
    },
    {
     "name": "stdout",
     "output_type": "stream",
     "text": [
      "Train loss: 0.07542713051661849, Test loss: 0.08938490599393845\n",
      "Epoch 38/50\n"
     ]
    },
    {
     "name": "stderr",
     "output_type": "stream",
     "text": [
      "100%|██████████| 50/50 [00:05<00:00,  9.38it/s]\n"
     ]
    },
    {
     "name": "stdout",
     "output_type": "stream",
     "text": [
      "Train loss: 0.07605530921369791, Test loss: 0.0742202028632164\n",
      "Epoch 39/50\n"
     ]
    },
    {
     "name": "stderr",
     "output_type": "stream",
     "text": [
      "100%|██████████| 50/50 [00:05<00:00,  9.34it/s]\n"
     ]
    },
    {
     "name": "stdout",
     "output_type": "stream",
     "text": [
      "Train loss: 0.07834845826029778, Test loss: 0.08206526935100555\n",
      "Epoch 40/50\n"
     ]
    },
    {
     "name": "stderr",
     "output_type": "stream",
     "text": [
      "100%|██████████| 50/50 [00:05<00:00,  8.82it/s]\n"
     ]
    },
    {
     "name": "stdout",
     "output_type": "stream",
     "text": [
      "Train loss: 0.07060172010213137, Test loss: 0.06446530669927597\n",
      "Epoch 41/50\n"
     ]
    },
    {
     "name": "stderr",
     "output_type": "stream",
     "text": [
      "100%|██████████| 50/50 [00:05<00:00,  9.95it/s]\n"
     ]
    },
    {
     "name": "stdout",
     "output_type": "stream",
     "text": [
      "Train loss: 0.05770512420684099, Test loss: 0.06441359966993332\n",
      "Epoch 42/50\n"
     ]
    },
    {
     "name": "stderr",
     "output_type": "stream",
     "text": [
      "100%|██████████| 50/50 [00:05<00:00,  9.34it/s]\n"
     ]
    },
    {
     "name": "stdout",
     "output_type": "stream",
     "text": [
      "Train loss: 0.06363206423819065, Test loss: 0.06547858566045761\n",
      "Epoch 43/50\n"
     ]
    },
    {
     "name": "stderr",
     "output_type": "stream",
     "text": [
      "100%|██████████| 50/50 [00:05<00:00,  8.78it/s]\n"
     ]
    },
    {
     "name": "stdout",
     "output_type": "stream",
     "text": [
      "Train loss: 0.05689838707447052, Test loss: 0.05841442942619324\n",
      "Epoch 44/50\n"
     ]
    },
    {
     "name": "stderr",
     "output_type": "stream",
     "text": [
      "100%|██████████| 50/50 [00:05<00:00,  8.66it/s]\n"
     ]
    },
    {
     "name": "stdout",
     "output_type": "stream",
     "text": [
      "Train loss: 0.05618241399526596, Test loss: 0.06238747388124466\n",
      "Epoch 45/50\n"
     ]
    },
    {
     "name": "stderr",
     "output_type": "stream",
     "text": [
      "100%|██████████| 50/50 [00:06<00:00,  8.32it/s]\n"
     ]
    },
    {
     "name": "stdout",
     "output_type": "stream",
     "text": [
      "Train loss: 0.05598542768508196, Test loss: 0.056487709283828735\n",
      "Epoch 46/50\n"
     ]
    },
    {
     "name": "stderr",
     "output_type": "stream",
     "text": [
      "100%|██████████| 50/50 [00:05<00:00,  8.93it/s]\n"
     ]
    },
    {
     "name": "stdout",
     "output_type": "stream",
     "text": [
      "Train loss: 0.047289325240999464, Test loss: 0.05703983083367348\n",
      "Epoch 47/50\n"
     ]
    },
    {
     "name": "stderr",
     "output_type": "stream",
     "text": [
      "100%|██████████| 50/50 [00:05<00:00,  8.63it/s]\n"
     ]
    },
    {
     "name": "stdout",
     "output_type": "stream",
     "text": [
      "Train loss: 0.04517375878989696, Test loss: 0.0694475993514061\n",
      "Epoch 48/50\n"
     ]
    },
    {
     "name": "stderr",
     "output_type": "stream",
     "text": [
      "100%|██████████| 50/50 [00:05<00:00,  9.60it/s]\n"
     ]
    },
    {
     "name": "stdout",
     "output_type": "stream",
     "text": [
      "Train loss: 0.08892560351639986, Test loss: 0.35864630341529846\n",
      "Epoch 49/50\n"
     ]
    },
    {
     "name": "stderr",
     "output_type": "stream",
     "text": [
      "100%|██████████| 50/50 [00:05<00:00,  8.93it/s]\n"
     ]
    },
    {
     "name": "stdout",
     "output_type": "stream",
     "text": [
      "Train loss: 0.09731875464320183, Test loss: 0.06252940744161606\n",
      "Epoch 50/50\n"
     ]
    },
    {
     "name": "stderr",
     "output_type": "stream",
     "text": [
      "100%|██████████| 50/50 [00:05<00:00,  8.64it/s]\n"
     ]
    },
    {
     "name": "stdout",
     "output_type": "stream",
     "text": [
      "Train loss: 0.05193918503820896, Test loss: 0.05186331644654274\n",
      "Done.\n"
     ]
    }
   ],
   "source": [
    "exp.train()"
   ]
  },
  {
   "cell_type": "code",
   "execution_count": 30,
   "metadata": {},
   "outputs": [
    {
     "data": {
      "text/plain": [
       "<Axes: xlabel='x', ylabel='V(x)'>"
      ]
     },
     "execution_count": 30,
     "metadata": {},
     "output_type": "execute_result"
    },
    {
     "data": {
      "image/png": "[encoded data removed]",
      "text/plain": [
       "<Figure size 640x480 with 1 Axes>"
      ]
     },
     "metadata": {},
     "output_type": "display_data"
    }
   ],
   "source": [
    "fig, ax = plt.subplots()\n",
    "ds.plot_potential_1d(exp.model, (-2,2), ax=ax)\n",
    "ds.plot_potential_1d(ds.double_well, (-2,2), ax=ax)"
   ]
  },
  {
   "cell_type": "code",
   "execution_count": 31,
   "metadata": {},
   "outputs": [
    {
     "data": {
      "image/png": "[encoded data removed]",
      "text/plain": [
       "<Figure size 640x480 with 1 Axes>"
      ]
     },
     "metadata": {},
     "output_type": "display_data"
    }
   ],
   "source": [
    "_,t,x0,_,_,_ = exp.generate_data()\n",
    "t = t[:10]\n",
    "x0 = x0[:10]\n",
    "ze = torch.zeros(10, 100, 1)\n",
    "\n",
    "with torch.no_grad():\n",
    "    y = exp.model(ze, x0)\n",
    "    y = y.detach().numpy()\n",
    "t = t.numpy()\n",
    "x0 = x0.numpy()\n",
    "\n",
    "for i in range(10):\n",
    "    plt.plot(t[i], ls='--', color='black')\n",
    "    plt.plot(y[i], color='red')"
   ]
  },
  {
   "cell_type": "code",
   "execution_count": 32,
   "metadata": {},
   "outputs": [
    {
     "ename": "AttributeError",
     "evalue": "'DSModel' object has no attribute 'get_metadata'",
     "output_type": "error",
     "traceback": [
      "\u001b[0;31m---------------------------------------------------------------------------\u001b[0m",
      "\u001b[0;31mAttributeError\u001b[0m                            Traceback (most recent call last)",
      "\u001b[1;32m/Users/avalente/Documents/these/LRU-experiments/ds_exps.ipynb Cell 6\u001b[0m line \u001b[0;36m2\n\u001b[1;32m      <a href='vscode-notebook-cell:/Users/avalente/Documents/these/LRU-experiments/ds_exps.ipynb#X12sZmlsZQ%3D%3D?line=0'>1</a>\u001b[0m exp\u001b[39m.\u001b[39mmodel_name \u001b[39m=\u001b[39m \u001b[39m'\u001b[39m\u001b[39mdouble_well_d1_1\u001b[39m\u001b[39m'\u001b[39m\n\u001b[0;32m----> <a href='vscode-notebook-cell:/Users/avalente/Documents/these/LRU-experiments/ds_exps.ipynb#X12sZmlsZQ%3D%3D?line=1'>2</a>\u001b[0m exp\u001b[39m.\u001b[39;49msave()\n",
      "File \u001b[0;32m~/Documents/these/LRU-experiments/experiment.py:88\u001b[0m, in \u001b[0;36mExperiment.save\u001b[0;34m(self)\u001b[0m\n\u001b[1;32m     82\u001b[0m \u001b[39mdef\u001b[39;00m \u001b[39msave\u001b[39m(\u001b[39mself\u001b[39m) \u001b[39m-\u001b[39m\u001b[39m>\u001b[39m \u001b[39mNone\u001b[39;00m:\n\u001b[1;32m     83\u001b[0m     torch\u001b[39m.\u001b[39msave(\u001b[39mself\u001b[39m\u001b[39m.\u001b[39mmodel\u001b[39m.\u001b[39mstate_dict(), \u001b[39mf\u001b[39m\u001b[39m\"\u001b[39m\u001b[39msaved_models/\u001b[39m\u001b[39m{\u001b[39;00m\u001b[39mself\u001b[39m\u001b[39m.\u001b[39mmodel_name\u001b[39m}\u001b[39;00m\u001b[39m.pt\u001b[39m\u001b[39m\"\u001b[39m)\n\u001b[1;32m     84\u001b[0m     exp_dict \u001b[39m=\u001b[39m {\u001b[39m\"\u001b[39m\u001b[39mtask\u001b[39m\u001b[39m\"\u001b[39m: \u001b[39mself\u001b[39m\u001b[39m.\u001b[39mtask,\n\u001b[1;32m     85\u001b[0m                 \u001b[39m\"\u001b[39m\u001b[39mtimesteps\u001b[39m\u001b[39m\"\u001b[39m: \u001b[39mself\u001b[39m\u001b[39m.\u001b[39mtimesteps,\n\u001b[1;32m     86\u001b[0m                 \u001b[39m\"\u001b[39m\u001b[39mN\u001b[39m\u001b[39m\"\u001b[39m: \u001b[39mself\u001b[39m\u001b[39m.\u001b[39mN,\n\u001b[1;32m     87\u001b[0m                 \u001b[39m\"\u001b[39m\u001b[39mmodel\u001b[39m\u001b[39m\"\u001b[39m: \u001b[39mself\u001b[39m\u001b[39m.\u001b[39mmodel_class,\n\u001b[0;32m---> 88\u001b[0m                 \u001b[39m\"\u001b[39m\u001b[39mmodel_architecture\u001b[39m\u001b[39m\"\u001b[39m: \u001b[39mself\u001b[39;49m\u001b[39m.\u001b[39;49mmodel\u001b[39m.\u001b[39;49mget_metadata(),\n\u001b[1;32m     89\u001b[0m                 \u001b[39m\"\u001b[39m\u001b[39mlr\u001b[39m\u001b[39m\"\u001b[39m: \u001b[39mself\u001b[39m\u001b[39m.\u001b[39mlr,\n\u001b[1;32m     90\u001b[0m                 \u001b[39m\"\u001b[39m\u001b[39mn_epochs\u001b[39m\u001b[39m\"\u001b[39m: \u001b[39mself\u001b[39m\u001b[39m.\u001b[39mn_epochs,\n\u001b[1;32m     91\u001b[0m                 \u001b[39m\"\u001b[39m\u001b[39mbatch_size\u001b[39m\u001b[39m\"\u001b[39m: \u001b[39mself\u001b[39m\u001b[39m.\u001b[39mbatch_size,\n\u001b[1;32m     92\u001b[0m                 \u001b[39m\"\u001b[39m\u001b[39mhistory\u001b[39m\u001b[39m\"\u001b[39m: \u001b[39mself\u001b[39m\u001b[39m.\u001b[39mhist\n\u001b[1;32m     93\u001b[0m                 }\n\u001b[1;32m     94\u001b[0m     \u001b[39mwith\u001b[39;00m \u001b[39mopen\u001b[39m(\u001b[39mf\u001b[39m\u001b[39m\"\u001b[39m\u001b[39msaved_models/\u001b[39m\u001b[39m{\u001b[39;00m\u001b[39mself\u001b[39m\u001b[39m.\u001b[39mmodel_name\u001b[39m}\u001b[39;00m\u001b[39m.json\u001b[39m\u001b[39m\"\u001b[39m, \u001b[39m\"\u001b[39m\u001b[39mw\u001b[39m\u001b[39m\"\u001b[39m) \u001b[39mas\u001b[39;00m f:\n\u001b[1;32m     95\u001b[0m         json\u001b[39m.\u001b[39mdump(exp_dict, f)\n",
      "File \u001b[0;32m~/miniconda3/envs/lruexp/lib/python3.11/site-packages/torch/nn/modules/module.py:1614\u001b[0m, in \u001b[0;36mModule.__getattr__\u001b[0;34m(self, name)\u001b[0m\n\u001b[1;32m   1612\u001b[0m     \u001b[39mif\u001b[39;00m name \u001b[39min\u001b[39;00m modules:\n\u001b[1;32m   1613\u001b[0m         \u001b[39mreturn\u001b[39;00m modules[name]\n\u001b[0;32m-> 1614\u001b[0m \u001b[39mraise\u001b[39;00m \u001b[39mAttributeError\u001b[39;00m(\u001b[39m\"\u001b[39m\u001b[39m'\u001b[39m\u001b[39m{}\u001b[39;00m\u001b[39m'\u001b[39m\u001b[39m object has no attribute \u001b[39m\u001b[39m'\u001b[39m\u001b[39m{}\u001b[39;00m\u001b[39m'\u001b[39m\u001b[39m\"\u001b[39m\u001b[39m.\u001b[39mformat(\n\u001b[1;32m   1615\u001b[0m     \u001b[39mtype\u001b[39m(\u001b[39mself\u001b[39m)\u001b[39m.\u001b[39m\u001b[39m__name__\u001b[39m, name))\n",
      "\u001b[0;31mAttributeError\u001b[0m: 'DSModel' object has no attribute 'get_metadata'"
     ]
    }
   ],
   "source": [
    "exp.model_name = 'double_well_d1_1'\n",
    "exp.save()"
   ]
  },
  {
   "cell_type": "markdown",
   "metadata": {},
   "source": [
    "# Flip-flop"
   ]
  },
  {
   "cell_type": "code",
   "execution_count": 105,
   "metadata": {},
   "outputs": [],
   "source": [
    "exp = Experiment(task='flip_flop1', model='DeepLRUModel', epochs=20, n_examples=2000, timesteps=100, depth=1, lr=1e-3,\n",
    "                 skip_connection=False, task_kwargs={'p': 0.01})"
   ]
  },
  {
   "cell_type": "code",
   "execution_count": 106,
   "metadata": {},
   "outputs": [
    {
     "data": {
      "text/plain": [
       "DeepLRUModel(\n",
       "  (layers): ModuleList(\n",
       "    (0): SequenceLayer(\n",
       "      (LRU): LRU(d_in=1, d_hidden=128, d_out=128)\n",
       "      (layers): ModuleList(\n",
       "        (0-1): 2 x Linear(in_features=128, out_features=128, bias=True)\n",
       "      )\n",
       "    )\n",
       "  )\n",
       "  (output_layers): ModuleList(\n",
       "    (0): Linear(in_features=128, out_features=1, bias=True)\n",
       "  )\n",
       ")"
      ]
     },
     "execution_count": 106,
     "metadata": {},
     "output_type": "execute_result"
    }
   ],
   "source": [
    "exp.model"
   ]
  },
  {
   "cell_type": "code",
   "execution_count": 107,
   "metadata": {},
   "outputs": [
    {
     "name": "stdout",
     "output_type": "stream",
     "text": [
      "Training...\n",
      "Epoch 1/20\n"
     ]
    },
    {
     "name": "stderr",
     "output_type": "stream",
     "text": [
      "  0%|          | 0/50 [00:00<?, ?it/s]"
     ]
    },
    {
     "name": "stderr",
     "output_type": "stream",
     "text": [
      "100%|██████████| 50/50 [00:02<00:00, 23.06it/s]\n",
      "/Users/avalente/miniconda3/envs/lruexp/lib/python3.11/site-packages/numpy/core/fromnumeric.py:3504: RuntimeWarning: Mean of empty slice.\n",
      "  return _methods._mean(a, axis=axis, dtype=dtype,\n",
      "/Users/avalente/miniconda3/envs/lruexp/lib/python3.11/site-packages/numpy/core/_methods.py:129: RuntimeWarning: invalid value encountered in scalar divide\n",
      "  ret = ret.dtype.type(ret / rcount)\n"
     ]
    },
    {
     "name": "stdout",
     "output_type": "stream",
     "text": [
      "Train loss: 0.2736857192218304, Test loss: 0.15225161612033844\n",
      "Epoch 2/20\n"
     ]
    },
    {
     "name": "stderr",
     "output_type": "stream",
     "text": [
      "100%|██████████| 50/50 [00:02<00:00, 24.86it/s]\n"
     ]
    },
    {
     "name": "stdout",
     "output_type": "stream",
     "text": [
      "Train loss: 0.10456881411373616, Test loss: 0.07854554802179337\n",
      "Epoch 3/20\n"
     ]
    },
    {
     "name": "stderr",
     "output_type": "stream",
     "text": [
      "100%|██████████| 50/50 [00:01<00:00, 25.02it/s]\n"
     ]
    },
    {
     "name": "stdout",
     "output_type": "stream",
     "text": [
      "Train loss: 0.05949413076043129, Test loss: 0.041856732219457626\n",
      "Epoch 4/20\n"
     ]
    },
    {
     "name": "stderr",
     "output_type": "stream",
     "text": [
      "100%|██████████| 50/50 [00:02<00:00, 20.18it/s]\n"
     ]
    },
    {
     "name": "stdout",
     "output_type": "stream",
     "text": [
      "Train loss: 0.027185538560152055, Test loss: 0.016536898910999298\n",
      "Epoch 5/20\n"
     ]
    },
    {
     "name": "stderr",
     "output_type": "stream",
     "text": [
      "100%|██████████| 50/50 [00:02<00:00, 19.27it/s]\n"
     ]
    },
    {
     "name": "stdout",
     "output_type": "stream",
     "text": [
      "Train loss: 0.01202566197142005, Test loss: 0.008024143986403942\n",
      "Epoch 6/20\n"
     ]
    },
    {
     "name": "stderr",
     "output_type": "stream",
     "text": [
      "100%|██████████| 50/50 [00:02<00:00, 22.71it/s]\n"
     ]
    },
    {
     "name": "stdout",
     "output_type": "stream",
     "text": [
      "Train loss: 0.012807613664772361, Test loss: 0.006279214285314083\n",
      "Epoch 7/20\n"
     ]
    },
    {
     "name": "stderr",
     "output_type": "stream",
     "text": [
      "100%|██████████| 50/50 [00:02<00:00, 20.56it/s]\n"
     ]
    },
    {
     "name": "stdout",
     "output_type": "stream",
     "text": [
      "Train loss: 0.0074869808799121525, Test loss: 0.009380469098687172\n",
      "Epoch 8/20\n"
     ]
    },
    {
     "name": "stderr",
     "output_type": "stream",
     "text": [
      "100%|██████████| 50/50 [00:02<00:00, 21.64it/s]\n"
     ]
    },
    {
     "name": "stdout",
     "output_type": "stream",
     "text": [
      "Train loss: 0.004883791997563094, Test loss: 0.004206412006169558\n",
      "Epoch 9/20\n"
     ]
    },
    {
     "name": "stderr",
     "output_type": "stream",
     "text": [
      "100%|██████████| 50/50 [00:02<00:00, 22.00it/s]\n"
     ]
    },
    {
     "name": "stdout",
     "output_type": "stream",
     "text": [
      "Train loss: 0.005881723976053763, Test loss: 0.0032200512941926718\n",
      "Epoch 10/20\n"
     ]
    },
    {
     "name": "stderr",
     "output_type": "stream",
     "text": [
      "100%|██████████| 50/50 [00:02<00:00, 21.16it/s]\n"
     ]
    },
    {
     "name": "stdout",
     "output_type": "stream",
     "text": [
      "Train loss: 0.0038840955804334953, Test loss: 0.0032200871501117945\n",
      "Epoch 11/20\n"
     ]
    },
    {
     "name": "stderr",
     "output_type": "stream",
     "text": [
      "100%|██████████| 50/50 [00:02<00:00, 21.62it/s]\n"
     ]
    },
    {
     "name": "stdout",
     "output_type": "stream",
     "text": [
      "Train loss: 0.004069053830462508, Test loss: 0.008006634190678596\n",
      "Epoch 12/20\n"
     ]
    },
    {
     "name": "stderr",
     "output_type": "stream",
     "text": [
      "100%|██████████| 50/50 [00:02<00:00, 21.58it/s]\n"
     ]
    },
    {
     "name": "stdout",
     "output_type": "stream",
     "text": [
      "Train loss: 0.007226638832362369, Test loss: 0.0033111011143773794\n",
      "Epoch 13/20\n"
     ]
    },
    {
     "name": "stderr",
     "output_type": "stream",
     "text": [
      "100%|██████████| 50/50 [00:02<00:00, 21.52it/s]\n"
     ]
    },
    {
     "name": "stdout",
     "output_type": "stream",
     "text": [
      "Train loss: 0.003506876828614622, Test loss: 0.0028838999569416046\n",
      "Epoch 14/20\n"
     ]
    },
    {
     "name": "stderr",
     "output_type": "stream",
     "text": [
      "100%|██████████| 50/50 [00:02<00:00, 21.31it/s]\n"
     ]
    },
    {
     "name": "stdout",
     "output_type": "stream",
     "text": [
      "Train loss: 0.0040764277044218035, Test loss: 0.0025645969435572624\n",
      "Epoch 15/20\n"
     ]
    },
    {
     "name": "stderr",
     "output_type": "stream",
     "text": [
      "100%|██████████| 50/50 [00:02<00:00, 18.20it/s]\n"
     ]
    },
    {
     "name": "stdout",
     "output_type": "stream",
     "text": [
      "Train loss: 0.0034592691535362975, Test loss: 0.0023692508693784475\n",
      "Epoch 16/20\n"
     ]
    },
    {
     "name": "stderr",
     "output_type": "stream",
     "text": [
      "100%|██████████| 50/50 [00:03<00:00, 14.51it/s]\n"
     ]
    },
    {
     "name": "stdout",
     "output_type": "stream",
     "text": [
      "Train loss: 0.010918447711737826, Test loss: 0.0045599061995744705\n",
      "Epoch 17/20\n"
     ]
    },
    {
     "name": "stderr",
     "output_type": "stream",
     "text": [
      "100%|██████████| 50/50 [00:02<00:00, 19.94it/s]\n"
     ]
    },
    {
     "name": "stdout",
     "output_type": "stream",
     "text": [
      "Train loss: 0.0027998768814723007, Test loss: 0.0029438072815537453\n",
      "Epoch 18/20\n"
     ]
    },
    {
     "name": "stderr",
     "output_type": "stream",
     "text": [
      "100%|██████████| 50/50 [00:02<00:00, 19.74it/s]\n"
     ]
    },
    {
     "name": "stdout",
     "output_type": "stream",
     "text": [
      "Train loss: 0.006634901053039357, Test loss: 0.0025213698390871286\n",
      "Epoch 19/20\n"
     ]
    },
    {
     "name": "stderr",
     "output_type": "stream",
     "text": [
      "100%|██████████| 50/50 [00:03<00:00, 16.37it/s]\n"
     ]
    },
    {
     "name": "stdout",
     "output_type": "stream",
     "text": [
      "Train loss: 0.0042202110939979325, Test loss: 0.0022646335419267416\n",
      "Epoch 20/20\n"
     ]
    },
    {
     "name": "stderr",
     "output_type": "stream",
     "text": [
      "100%|██████████| 50/50 [00:02<00:00, 17.31it/s]\n"
     ]
    },
    {
     "name": "stdout",
     "output_type": "stream",
     "text": [
      "Train loss: 0.0069006030750460925, Test loss: 0.003603314282372594\n",
      "Done.\n"
     ]
    }
   ],
   "source": [
    "exp.train()"
   ]
  },
  {
   "cell_type": "code",
   "execution_count": 108,
   "metadata": {},
   "outputs": [],
   "source": [
    "x, y = tasks.flip_flop1(n=32)\n",
    "\n",
    "x = torch.zeros(2, 100, 1)\n",
    "x[0, 1, 0] = 1\n",
    "x[0, 50, 0] = -1\n"
   ]
  },
  {
   "cell_type": "code",
   "execution_count": 109,
   "metadata": {},
   "outputs": [
    {
     "data": {
      "text/plain": [
       "torch.Size([2, 100, 1])"
      ]
     },
     "execution_count": 109,
     "metadata": {},
     "output_type": "execute_result"
    }
   ],
   "source": [
    "x.shape"
   ]
  },
  {
   "cell_type": "code",
   "execution_count": 110,
   "metadata": {},
   "outputs": [],
   "source": [
    "lru = exp.model.layers[0].LRU"
   ]
  },
  {
   "cell_type": "code",
   "execution_count": 111,
   "metadata": {},
   "outputs": [
    {
     "data": {
      "text/plain": [
       "<torch.utils.hooks.RemovableHandle at 0x147792b10>"
      ]
     },
     "execution_count": 111,
     "metadata": {},
     "output_type": "execute_result"
    }
   ],
   "source": [
    "saved_units = torch.zeros(2, 100, lru.d_hidden)\n",
    "def _hook(m, i, o):\n",
    "    with torch.no_grad():\n",
    "        saved_units.copy_(o)\n",
    "lru.register_forward_hook(_hook)"
   ]
  },
  {
   "cell_type": "code",
   "execution_count": 112,
   "metadata": {},
   "outputs": [],
   "source": [
    "out = exp.model(x).detach().numpy()"
   ]
  },
  {
   "cell_type": "code",
   "execution_count": 113,
   "metadata": {},
   "outputs": [
    {
     "data": {
      "text/plain": [
       "[<matplotlib.lines.Line2D at 0x147a5bf90>]"
      ]
     },
     "execution_count": 113,
     "metadata": {},
     "output_type": "execute_result"
    },
    {
     "data": {
      "image/png": "[encoded data removed]",
      "text/plain": [
       "<Figure size 640x480 with 1 Axes>"
      ]
     },
     "metadata": {},
     "output_type": "display_data"
    }
   ],
   "source": [
    "plt.plot(out[0, :100, 0])\n",
    "plt.plot(x[0, :100, 0])"
   ]
  },
  {
   "cell_type": "code",
   "execution_count": 120,
   "metadata": {},
   "outputs": [
    {
     "data": {
      "text/html": [
       "<video width=\"1200\" height=\"400\" controls autoplay loop>\n",
       "  <source type=\"video/mp4\" src=\"data:video/mp4;base64,AAAAIGZ0eXBNNFYgAAACAE00ViBpc29taXNvMmF2YzEAAAAIZnJlZQAAyqBtZGF0AAACrgYF//+q\n",
       "3EXpvebZSLeWLNgg2SPu73gyNjQgLSBjb3JlIDE2NCByMzA5NSBiYWVlNDAwIC0gSC4yNjQvTVBF\n",
       "Ry00IEFWQyBjb2RlYyAtIENvcHlsZWZ0IDIwMDMtMjAyMiAtIGh0dHA6Ly93d3cudmlkZW9sYW4u\n",
       "b3JnL3gyNjQuaHRtbCAtIG9wdGlvbnM6IGNhYmFjPTEgcmVmPTMgZGVibG9jaz0xOjA6MCBhbmFs\n",
       "eXNlPTB4MzoweDExMyBtZT1oZXggc3VibWU9NyBwc3k9MSBwc3lfcmQ9MS4wMDowLjAwIG1peGVk\n",
       "X3JlZj0xIG1lX3JhbmdlPTE2IGNocm9tYV9tZT0xIHRyZWxsaXM9MSA4eDhkY3Q9MSBjcW09MCBk\n",
       "ZWFkem9uZT0yMSwxMSBmYXN0X3Bza2lwPTEgY2hyb21hX3FwX29mZnNldD0tMiB0aHJlYWRzPTEy\n",
       "IGxvb2thaGVhZF90aHJlYWRzPTIgc2xpY2VkX3RocmVhZHM9MCBucj0wIGRlY2ltYXRlPTEgaW50\n",
       "ZXJsYWNlZD0wIGJsdXJheV9jb21wYXQ9MCBjb25zdHJhaW5lZF9pbnRyYT0wIGJmcmFtZXM9MyBi\n",
       "X3B5cmFtaWQ9MiBiX2FkYXB0PTEgYl9iaWFzPTAgZGlyZWN0PTEgd2VpZ2h0Yj0xIG9wZW5fZ29w\n",
       "PTAgd2VpZ2h0cD0yIGtleWludD0yNTAga2V5aW50X21pbj01IHNjZW5lY3V0PTQwIGludHJhX3Jl\n",
       "ZnJlc2g9MCByY19sb29rYWhlYWQ9NDAgcmM9Y3JmIG1idHJlZT0xIGNyZj0yMy4wIHFjb21wPTAu\n",
       "NjAgcXBtaW49MCBxcG1heD02OSBxcHN0ZXA9NCBpcF9yYXRpbz0xLjQwIGFxPTE6MS4wMACAAAAk\n",
       "i2WIhAAS//73rd+BTcBA7Wu6Vzi0y6uUND1R9pSmeLZIAAADAAADAAADAAADAdMp0IaqI4cP9B4A\n",
       "AAMAAAlv8v+Gwr/oQgdMN7Pp2R6dFF+FnbbgownM32+C+hDstRExpgSYgnn7oZUtKSQDgspr50EA\n",
       "ARFwOTeEB8d4iiCjkIJEz04Hg7TMzp9qjKdH+b7zbIlf+R3qFakohnKzFt3P78s7lZDYVkCmLjpO\n",
       "tDpPj0PDswsd00we+c6rzajFkYnznPQYAuVY9hzetdkap2DQ1H2VukHmaxkkjrGcdbz0O8ii3k6W\n",
       "e9VR8qx+4s6IfAF6lePg5JQQddNpXqSNZe83gnn+qnqtPg60nDPNPHoXachvF6/hAeTf+WHh0Syy\n",
       "3nHpmrJRDImOwfawhDHXh91EPgy50L6JHTbxlu4dPIxRsbepgbgOJGaAzkeTV6RH5WIlhmJOLI2O\n",
       "4PpTTGH/3MhGaD0ACmu+Dj2wxJVVR/eipgbST8saROhUXhmdubbpiinhM1kH6I2L0VMELzfohegA\n",
       "1dC7rwj3yccwXRALiDy//kw3q8dSjNL3A6GPqhGvRUXxRX7KliGogRJuEbYk/u2rb3m7GUjAyZYO\n",
       "gEZZcmET80RbBny3pX5kFVy2DbUqDHxuCobuvLxkUJ5csFXIS2o9P67EsUmU1LrttzwvWfW/qW6R\n",
       "DsCCHgjS4qyjud1O6/vrPV80opxz5liuR7wSYihRo4AAACW/hcH7Oq9A0OkQ/yzwGwiTiL7leOco\n",
       "8KsLT86zivUWlMSOJVv4YGx7T6fGG50ElQdnU7A0crXo1iM8nToT/YmxY9KoOpczerO4uJ7qN3zz\n",
       "1GTbkQzoNz3vW7FSSNGBJOrmIbUpcyaKY1kd44AOU0j4G4EPbxohFDQEaobbcfuAo6QtaR4tu3Oe\n",
       "StASAesrnsY+PysB1XCpEvFSg3nu/S5FVYAkSPeFCcbWswcn+rXS9c84nQ/3RXB+kCdebvcf/Onf\n",
       "x6R7EptN5PDMxCgnFPcW+bbv3/oDa+cQo/fyKtMAkJ+huijmBnDiUpmrJoqmmcWNZ2dKplGIB4ZZ\n",
       "1uE68Mt6PgIk6EzSQBkLCMAvQ3an1ybI1MY3pO+1AABZzzXBYlexUZeKue9GlEeDEPHTQ+5DMo1f\n",
       "jILtGXxohkTpz+GMbVqQZCC5gUNwGfiQmW8twrksPeXelOsl4OFJCF0cyscmGNRQ/Dglp6hbHLVe\n",
       "17gSZjPHJwPUcQ/m9AbgEOTncsSQ4kAvbLv7n9a0cNNnx5I6pDi0a2EetF5fZwBEGjazDAU4CvIL\n",
       "tCMvJ2+FjP+COZ+9RgNtmgtzAJOIFXMmoOE1bPodX7MjnhJjIogUOY1Ce5WCbV/KW+NkbE0IS0DA\n",
       "thIvsJUqh3XfOUAWCKVI0GIQdZT7lwLM6+qbg27EyvCQghplWyszGBrLonroj4vYzSTEyg9jodVR\n",
       "+IbFrLEobeZjzbzhqU/ZiXCX8hZmlgGza47iyWpEkAPJ/izB2+AKx05BzAHk1d+jY3A+jI8crQD5\n",
       "49/6C76DJ6VM2Ekc5SKfNkl65ZT1aoAzVIl85vinl54f0+CTzuTvG5HkvsVU2e9P95iIxUQhRryg\n",
       "nMvExR9vgQDYZHn0ersgBNSPDVC/8Odu1moKNjABb9Dl6RLETB/JDBHj/SuCZ3vH5/J34nDgdRMK\n",
       "Z1i6kxJij6oKPfftIrCndDQU4ooZyufkPUbGWid5pFEPpZW0nFhc1X4O3q3SBGPFtELPiwnqxInD\n",
       "L89q3xszDzw6hhK0BZL+58+k71Q1zsL8xlpBBL9c8BQYFJukvUMN2/Qpsirfy10yN45lcl/2J/uc\n",
       "FKjf04CHGgzJvQNLgTKZqZKSeBAtkoTwk+NNPMRs0QJwfvB7qgofJRjdWEXb9np9fgVkH9eZWt6j\n",
       "bXNiH63xkQAaBhokXhTYpRmkVuuLYT7rse9E/d1mXf5+V4A+0VLm41E8DLZNAhQStyKuR8pGCeR7\n",
       "5H8g7oEepPaxHnIl5mchtd6VxBJZp3bIqeP8iFngP/wtXvKJQDFZW089dYH8scHV3QBBxhCYwI+F\n",
       "9UKmBvRGfNY2NQo3H/tu8M6shYWk9Vxup1cBmhmeZM4cemFA6GI501jZyGdPcRx0XkxWmVf+Dgkd\n",
       "4+gCnz77YF/bUUE/UY3OSPk9wfBf+0JKxzeHfZow/6hbvnRAkYze1itto4TfbSzHDMTpL9QtMTqm\n",
       "7p3YlOTqEOi6iLatdBrJASU84qwdXJen7kwjBWI2BLyRgACnbLMf+P9MEtHvTjzzhryzp0l+I+Ej\n",
       "iouweLUaOYupV7wVh/+BmJnZajKz5gbuhjy1SLVMvrX2fVlZzqzlNFAuYFPMzGAOUczZBGOvX33K\n",
       "CRBvfrISK5zZfOHFffvju4YmMVk/eiSb3Iy2TjWqLwYB7l57pk6KKxW7FB4ubq6FMJg8vhCYe11P\n",
       "2CbiKAw2XikxcMd3TlyHfhXUoCi29u6EldOER1Bx8nQz0Ios7wzYl9FvfgBQSKQxY/vNNfoZXfVL\n",
       "f6efyRjtatTXW54Rznx+oeRGmmMj89bdo4L9FxrhF8+YWjcvMoVoUDoSCMI7S7hCY1msBho+ibaH\n",
       "ZXCXs5GkNuHgnct8pysEykG178aVdsfBfQkpJKcJqQhhA1QFf2tfMPaWTn6SzeYxp5DLqenXL+JN\n",
       "o1Aahuy+4Yh36+1fIcxuNy1hkwZGrKjxIh8fc/mXfVEXPtv2wc/pt1WAfHsK0O612CuVRa6sm+hj\n",
       "GXmoBUEMM+5c7KrdO4/ObnZY7WdjQJCKrIiSOO2aQnEehN21F55xez1jwI4LepzMHFVDLD9++YVZ\n",
       "/OtphdxrveZ9X8B2qkEOXb6602pJTz0zMyOPcF0Zghu4vj+9XToU4U1HNjo97Sct52smeAAETlJL\n",
       "+65+krAyN0QsUXqB3wRerVc5eBiN7HQBtQNDo5sd8zKjJTZKsyPrwDc5mYDfDf8MgkYKRxDva7DX\n",
       "dZuvb5amaR/0lbA96K6b9pxNRslZowYjZdQ4h4Z2tYuzWNvMacj+yjcQiJiYXotByPuG8YObRJx8\n",
       "qwNFAIT1aUU3MmGYWGxgFXIbYQoCkuSqhG1qQXZ2L4Y72jG20wHdODfbkfRvTMY+a8oG15OtYpnR\n",
       "PY0VtrMmMZRtUGYHsiROd3BYKJo6pD+08VpPBMquvfwqWlvVCwqDjdFTQZIvPJck9sQNu/E7MgOa\n",
       "uBVyZ2wZOmdhS+KVMiaaLNQpEujO9NP8WRUVOJRQVUkGm8fsg4B1XIHIH6V8YPoIgYgSzaYJcLmA\n",
       "B75sqZmN+iVB+4qBHpSPyKvWoeW8o8FHw5tDnyEMPuzs6YlLQSya///8B9gyk3B+f/4XvtfsxqSP\n",
       "0tkAS8Lg29Kd/WScAXpWYQDBJ5ARKulbZdGJIxZQjt3F0oVoBonOcZhzvk9ZfVnn6oolor5nXbxP\n",
       "+r0dssUi6b0hUsRJFfSD0673IeE7MdGF6WM7Am+0rXuDrJk2VLvuOn5Yuo8bQQdkqTIDg/DHqnq8\n",
       "xd4GiMbnSu/RTz73m5P3ZWiyxlfMXN2Z1zh1KZHJZl7vIBmhXLQwqHbemRgYYu56ERWka804CPhD\n",
       "iRf7vPViiuIV5B/uBYMPo98acqG4P7aFveJiJWUS1tL8Xb1kfJfcjiGkh/HstUrlgDzzgpZthR4p\n",
       "tvbZvSpCFK0l3aePTg1y5UQf61wMekux3d1oNn0WWI7tOX+xBbX/8zeWkxUBR0R89S4Kxf/DFocq\n",
       "F6SemAikclTvxQIrTxXxhGq1uJJOJ+sqYdFOpuvVQF9opObOrwysb6rUoHfXWUgy/+St79mZyayv\n",
       "PmdhfSS9B3EkkjXiV1bH3/e7lECoRl5T9uRL7UM9WpBi1q01aor0zNIq0afxGb1uihE8YEJvkZLr\n",
       "Hj0pGyW8vmL4k9PbdR6V1ZzjSlvaCaQQ/EZwBfyXU4nT6h+nrfZJlU17j/ML/nQrfV0BdaL8ack9\n",
       "xbUz77xQ5+oYviLR9citTvFKwMyEKhsi7XV+mVvNXmKxXP9UkhUAAgdz7MFyWh//rSeqEsRdjzTz\n",
       "t3U+wYuxPdJWmYU4vLRLt2iIO4sxpUPyCDbJYr4W2w5NOaTx0Ty6CxG02eXl9nSP/uj8Vaz5KXL7\n",
       "N7cMhM/VTcyoTZbPOeNvxKaaNUBNFQaNITxNJLDSa+mEtdkww/jXHYdy/yKY+Ijp5ItHmcHjCpyj\n",
       "fcJjYmjO38XS2HNywezY9SZwnUhd4V7Me0cbBRfELBmw7lLQxwMd+K4nkOpImruT5VlNNYMz2LLu\n",
       "D4k1AQYO3v7Y+EvQvA4LxYtHjgdyIu5LiERIEWUeuOPH+kgDfpsGZJf8kzK+CBVutgipanImS84H\n",
       "RfKtHHKxJmj6zGRsTX1sPRG1cm9nfLyL+/sj7/SLugGfyXU6e29xCM5JuokhQHE9w/OtNGi+QTKo\n",
       "zMMLv9N7Wn5i2FfEOQZziyNCTmJ/tyzAAAwvvAE9ht8HgDAAb7JpNRoLEDNmuaZ0uxP18SfF6laN\n",
       "pzJJ25GYARCVlGgpssWRwScYlZDKNKYwNjcR8PSiQPCiMm8cDS2HmMxyHFsioQJ8P8HyJlK5MVnu\n",
       "0KbQDiyFB+khly82gdp2cfBLJXzqNepSphaHhEnd35gQe8ep23OBkdkX2YFCNbsYB6M8eCLkOlkr\n",
       "JEPlCHsOIU9YU9T3OpG4Ou/ErfMh0FhpyEA0yKdsFw3+yztbdjSdMeEMNSAF8lryU0QWfKTlPS40\n",
       "wo/pjcKcVtWssKJTPAijiIU78KiK7sDQP/EQypfrENrvVeXQ859gbPvTv4fNqhqS7u/DvPs/sM2r\n",
       "nY7zLM9gTkt+FLsZeTZrabyGy3pKtDabCh0BJRnZtl2vPvjs5K+9Ws92oqpaCBb/SRXb77J2vCCN\n",
       "lIwBM9Qy2Ry7mD2G9DP941rZOaNeEbsLeaETHxLzGWFKKMfuOmQ/0kUhVPpYGuV6fK04wQ5JkqOS\n",
       "9UwYfziNKzP8M2CBVjJYIq5U8Y8kWncnf4jZ47KF8M5EApoK3H/eytBsKNgc4TTdbfTJVv//VEWf\n",
       "yqpyLfF2XZI68GJTqbr6eDnxu22UJtAVDDIpIG6Tl/XwaxI/90G2HIaazyUqpMc8Xe0//UcKIg5f\n",
       "77oxDHpUXVvC6+k37A0/8yESSfGJWKG/TTJ3PtAPlY4aNHrukRrfKZ9pEVbDqxaJpPzpXO0CKJeM\n",
       "Hj7ZUOi01RDyXTJyBoIBewJuzFttZvCv3ZLenxXSaOLkGkQmwZUMr4uAjdc8tCBy0CojoVQMr5U0\n",
       "ETDX8hpFzKq/QUgsJ/DjeuDi3fhr1vlIiWHrVvEBrRPv2+fwwCquQFbH8XBVZ1AYZKWo4qgPFCi7\n",
       "0Ca2q1mKIZd9lT/PUArSQyW5HwXQGvUxCX2ruz/0azHAAFqd7Xy0FEHMA0Xg/cHaHFAOHd+yHSLE\n",
       "DhaANJmbY/lF898qwlQRwoAmcPeGJEjsJyPq1yfvNMoPg3N5satzA6v8GpRSmzqjErStSs/7sbQg\n",
       "riV/8XBwkfq0ck1HhGY3umkjVcRlULgzZ1Fb2PQA73wYVcAWV5T8Uru4u9uH0HA+pIM5MNxbtYmt\n",
       "NRqTg9/y5SCORKwS7LWqlXRf/+NpAyW9FCnU4nrhIE5Uj9BOKYEfkb6NPi5Y33Pkd5CHeWGMg8T7\n",
       "W7iU/WFRrDVLIKYs1JtTJpey9JtqbZQX4pYdGZ75fs7kSteeeCtLBDKkKs2yPzfmk20X1EJQUUKL\n",
       "biNlYKIadfcQumScjIKYkgfOs+T8hP96lHdu6B3LFATEl9z459dvPuRjavB8aTq18IkOnpC4OTSX\n",
       "hpa4B+E1NKeptpo6+ioR/UAa4k8UpszllVPyJnzbuq+YT9xbw9kf+rhKoIwkEr//wXT1LAZILhJ4\n",
       "cSV8ikpAJvgz+NTojCTBTn9d6NieBuNT6NX5B4RzRTbrkXA1KIuftM21D3HcGf14b3Ott/WZpNbt\n",
       "XUMiL8z+WlBZAMk5reSc56rmmbJDh2Ij6yh6Lf/v1YOV1hOFSb9OE6iaRDuYHNIMDo5d5ifGGzdC\n",
       "eLWLkUE5ivMQgFei3w7fbnBfjDp23Ep6NVsGf/+Ie9dwgQi1bH0gwfPdnRDA2tPMlJ00Irse6u69\n",
       "+cPHtwB74N2AAaguVSYHSdr8oA48ZjzHapZ4de2O2oCiQGGNHYTKMNtCXtTrlDhKrO3ZbZhsMnHP\n",
       "krsjIy8AEBuqr99wZwjXmi+zvUNPZQ9PzidIf4QHw+L7htkYrzP1kn6PnALS5IwyxrQn6SSD4PJU\n",
       "1dylpzhDP7jRrh48u63W8fWNYzxubNG43okUz06hJxFmS94cBfwusBuKIB7chcJhIztO7hnnEL2Q\n",
       "rhAQ5nMp34S9HTVEv5GZefsLOBwIdfGSxhHEHw5siEpTrt5GyODk+HQbhBDJ6daFkw/cE20DLzj5\n",
       "46dECP09JAZdouVVdMv+QD4uboAGkWHmMr6qu2yKu/SNpxaEdvQVin/2YKDhipssFQvElCAs7XWp\n",
       "0GieQw6IUs4aGhKQJCeH+Mo3SDglkx0W7EDrN+SgK02qzdKNwZSghcLErom5V8gt2ggPBQOM1f6i\n",
       "VDB7xjF4ZzI0KxmIErzqQ0uY5UhbmOTX9Emv43PRfzeRvDyltddhEwTZDj4073GIZbu9jSMMVXeC\n",
       "cugRMjbOSTLJyX1+ijJpSFILhs2zvhZzAo3hnVHU+jEQt3B4R1BJtwtVSlVA2/W1+4Z3vvkKl32a\n",
       "guPlBQctvGzvRxWM5mM2Cb1DJOvx+dEkmgC8q5dQDw8K+PjhgYAAACdeWnKzlOWlwRMBTQ+6rV27\n",
       "4sUbsxg3BrkYgtPVyG3zY5X3m39QgQuJnnUfrVg5HYj33A27dtOoEPiY/WF6SXAG/BQ9ZHPJLNPu\n",
       "xk5QiSqX0sF+Zc+diJs/84aev5Ec/GV4qwS3SwCPg3FwAkKV/AAl9wH7eUfld0NJ8isnINN/+gAg\n",
       "Ugz29Tzw5YL/rQMZdwScUGLr5/olBoST2+InR/Qoj8rgu3J+DsQDHCVTKYVjxq3dOa7aP1dPWujv\n",
       "Wb3XvdonCKMXmPoUPGC0jwwqYnRTT4p/LDm7s/wyHssFMpajUmOIwJM3I23MT3tjFxk75Np1dN20\n",
       "sLu3ie5wUOpe+LnFge8AyjPxpmTc8lqdU3bagMlbrmxZm6JpVjkt4f5zRtP0w1yxov6OQY2hpNLO\n",
       "3/UFuwGEc2V0dCNpeUglTwT8GciHLyfOGe7fCDbmzZ/aXranQ9kqWK6pd70BwfOBLY2AvTh9t3NE\n",
       "8GNHgcmlNg9k/+0TFaDEVIqZvBSBdqwAGTx4AB1gBdZY+T/QosHHw3mWdFZ+MNwZT38n4QE5lNtm\n",
       "7b+OT2m3jOVozzohFv9YV+WfRtYqkVDrn2BgaerIsCaURGRyCMebKwvqW9/BXpmIrZPHxp5KenRo\n",
       "SccDW8b3oZwuvvfyBh5ZCswhzk72qc7GPd+Tsnu+6JY8+0oki1hN4FB/ZRdvDbeLmji5TAc69iTz\n",
       "1bGR4ZYdO34YOgevQ3/j3HZpKMopHihFBBfnAcEI3PTE3WsYwn182tAzg3igN0l6m8PhLK1gC7Gq\n",
       "JsH4W5zV7c6v0BpaMw05t08f58o/pxZXcJBds2roZQEjdqNeDbfp/LnI5WLF7lo3EoNt6gYT1zNm\n",
       "g/YAEMsS/KMuwWd4qtPHPcGJ8Pw0FzXHr/8EAcLxSKKPgYZ0f6e2nJWghFgUcqVaJVNtvObKWZfR\n",
       "NcQv/Oy8WWM59FYqenlxsA90Oy7YcQ/O+20WYJ1SpZ/wXr9n109pFoH5VkXjk6Nx0yrXKco0re6U\n",
       "yVCilS8wQqbDQhE3vy/Dnn8WLlWajxo8k97LZI9xZBeYWZ+S76rSVPv5idPOywhTAwTTQvTthyUJ\n",
       "G1sbrYYJfXisur1Q4Qq+AcKre5QcTCOhFm0ubefGyAmEzbq8/MnwpHhkijwU/RG92N1uBO2puatz\n",
       "uEhBYlgXA02vXyGXMVwsbVxaJAykoMFnvlOja46KFsBIHwN1XAg8Bmc0Z5voQXU3RaQvqK+Ue6yG\n",
       "p215qZp/sFbgDmnIFAoWi4EKyyzmMSIO+PjUbvIP7q5dN5O48m4IAACCXwUq5ROBQcHJMAImu200\n",
       "dK/xCz/WjmVSa/R1kFvY5l9AClriawX/85aZBf0fBdKFWAsvrMJ+yIDzZo0iQ8joGtdXwpvYfaJO\n",
       "1Xq7dEvYHik6z+FsBXHOqiZLj/qdLE196cpSP1EmpHbMTtKH8u7fMurS8I0BABsR4tW7MXgY3oS8\n",
       "T1OXp95tI23kHdb8Sp+hFljU2xMe8EW9uS5mwxSkX5jRDp3F6kJ2nOrT5rMyPvIJPoiq8DdTrRNb\n",
       "yY+w9SanvwUwBuHbLt6DLjpeJ2Cl1MB0AqogKlXzi5zPJw+noUImKcOwUh7mhN8/n19pPgaw02/Q\n",
       "FLQi6XJveCrriE1GZrmYo+K5Bm7KZGDqLyfXLGE493Rj3w4T0GfW3Rzciz0azc4twhsKhpeG1LjJ\n",
       "ZO9DAg1epIl4QYmEXdCf3MDYVa4UkucInDYo5zz2eZ0IuvByiZA+jaQMfwuIiupIi+tWyajkvRdK\n",
       "Y9NyFgkg/BOiVicuaqHGo69hvYoqO7+VCzkKuWF/D8FCLB3d7QDQGsQ4O3BhR8GXlgXzlXaxTbwv\n",
       "Hor7XmSkWjxQ1TnQLU2sbRB+Igi7v3CQZsWbKUu4nJTUZURUPsMqwrEeHX5Uu7N1PYKnTCGFd4TF\n",
       "2LSHm4gJzY6KFbX4fv2u7A4wRoxJgp9ZE1Lbw13JuzyQYPsB7E0RRpoazca/c0EDbIUdUOx+DgRY\n",
       "rfPefGnaoUAaX4qbQON+Yw5C31PRGuZ+IBj0mOsLFT95DS4TpuPH6qJ8CJWXHGgeMdX0ilnrLssg\n",
       "EWhSPhOGzp7jjCKmKD64EDbbu0vDRML8Xcm3v47KY4FVwpqPtY///I4bwjSGBffMwcemNUh0vnJ/\n",
       "IKA26rXf/zFG42QNbCpp0VH6y4fZYzSW3SXciGPQKgPVi4ydLPTk7rMlSH/+ziec4H7lgsbJa42R\n",
       "QC2fGH+G39I/nmYWtxC08866uHqrqVrKxZWK1nCiWoB/kl+a8b14qdSXXJGJEhtA2ras5yl80KI9\n",
       "prn1ixoBt279bz8wWyvr5T94sjAOv69u4p/IQE5nBTAr9PH7sNModh1iNXfi3bANvNo1ZAjVvi7X\n",
       "V0n1SMZ36Saejg52CgueU7yYOKbcR0xidwt2EHSmGQ0SlTTjIbm+DADQJEb3QQIbhLUU04rsG+fs\n",
       "ZpYbb13sH/igtC67u/jLBaxQyigFUhbA06C/MtsT0R+yGv3JKX4YEx/rMSy8GoSmv9xf/nVOpVls\n",
       "R7kHEE2P9cnDDUKPziBP2rYj9DK342q8VuBa410LVz4wyxAbvXFr9UGPfCv5zkmpyCvtaIzmJK+/\n",
       "vxcPSNY+cRpkNEnGwli4l/4mkJ3WGqpWkv3fHAiGAQ39dKax1Kuy8rkG5OALRNtYvRVVZ/2ezs/P\n",
       "vhottlbfD6rF1taPWakSEe0vrb3t7BIGhFOfUnsU5sHqe7HVfzqJkPORIylO064kn6XJX08S8OnN\n",
       "2r9cHdTXs4FhL1GHx6ngffeqVanvmggs1+siJtDfqa8dCCc0mtUPI+tLriXR9g/AgOYkDazod6vy\n",
       "IRzkQWwyx9TXN5y3XBMBp051fj5rH4a/afMjxGwohMO/CgNg681/dKbFfDoBvEwXkv+Ui0bIkWZH\n",
       "UqLbSdLsKEKG3A93TMXF6XiFsF28vzxAmr1oMlSYW6+efl4nHAN9T00OkjbJbaxU4KLB2UdfBYDu\n",
       "jg2l8J8S8L5Op/IIbtyaCYLXMP81u8JlQahH8Hc7L3wWDcOE3iJ276ZQTvrYw+STc1AVLGHbzMdy\n",
       "64uH9sc08XPL1nXkSNEiTdz6WZzbLVqh9+usVAOXV3x3ToK4RkPb70SztjF+UPjL0cripWjYyohr\n",
       "SnimVbrxiCtyZK55InD6/k7lXkTDihz5mXkSGMgWdmiKUjw+YweAQueNWOyUxfjVIxhZY0n+Bpr7\n",
       "LWfXp7PWpf3+PyeVBdmTq7pvwZtBAnq4lZRaXxQN4TvnKLuhinfLe/BjoSR4j2cRpiYQ8mGDlTK9\n",
       "Oyf/AZYpJ2dwblMeeN5SGxWetv210x8qJRIY71AFmw/nWPrbnYFNxHGxnJrwPJkqQWn1s/Uhh/TF\n",
       "phiHY9IwYXgqP77+eGDlgtk+xAjcKQOmzntOXNPTWhJklTHqNO2mC0yryIgwI3thz7sivdPLi+Ez\n",
       "MJltrXJXAJHXpnRCr2BZXFTzgHcNe7TihIowqb5KiYgnxELxe2UpQpSbIMbGDu50MNiHiybabXoH\n",
       "mm3nmL85h32d3dseC+onS80ehmeMtveljV3S3EKxAeq0a0orRJY8bgX2gHxUrpt4NqbkETukF4bn\n",
       "y8nWhBZ/YWLFioWupHk4p9CRFBvbu8afQPIBUG4rugIPunC99FFpp436/tfORlNocLydxS/OJSLf\n",
       "hcByKS6ZpODtd4oiKzmO3FqlrMbLvu43akowrJG0EwCEuRMUc5YRlZM1Sr2HK3NNp91/lkxTowrO\n",
       "sGaRWKrAhhEelqxNQxtxgExtnAuF9I/KkvCbBooABqu/1d6QMIRHUWmIqOdxlxFSfwButWXDqboX\n",
       "qGm+Bn0Q+J7e4EzTgDtOqWitvLljXeWO54P/vC50LTg7uX6Qams/4k89wAmSQpxsWnmPQuY33jgE\n",
       "9+Q0ZXBaa2A+0Zi5USYPHFxRnUwX0uxA5BJxoM6SkPejdwTOhchoAiiGoxwjW4WkQeib0ljV+GOB\n",
       "eI4c6vxKkoz3G7XhEft2hvh6mNBmid+5AYaKrLMKSQTI2JciFYuUGyXddsWcUZedQtzbjaAcjTcx\n",
       "yV0LBVzH3Mck2vFyBomPaFRKmSjkgzCBg0sO1uGaYxjBuTeIEiN62iWItheEHs5xQjM5k2DKcxGN\n",
       "jKY/JdoNNcNUdyAt5Yxxmkpo+scB4w6Qz2lwkrwF7P3mytPN3UdqM6bHCRVOTaojfgpjAjt73JWp\n",
       "cVvpWaMQyMgeTJV8LkB1KZc7iL/4XP61gOAM+ipnEsfC+vIZDuKj4io7xuInLJ1Ixpi/8ZpYC23e\n",
       "HNYhvXXX+cp8ALBYAfRkJnYUt7TfabOJ6mbPYlFRz+kCajSr/SvP9TCI9omtVFWUCKsVFQnZXhhi\n",
       "F0IxIHgMyssPHxKSjoPB+M0Xkaqjm0GsitFvYGARB53t8B/x59woP+Y3rwQL+mG9KqHr1Upk5VOx\n",
       "fCzPVehopsDoZhDIZ1OiD+rVKim0xPJMgnQLU77216LQUVugqoQdCT2i4ZNSaR+7jbXgRqiuPc/6\n",
       "BZR9YiOhRqFvmHipXKqvNKLterRZDWPHmgXqSgJWXrgO4+fiWbArGzHHUoPPrWjvE916TpQXGQ5H\n",
       "FzSDwz/+wEbj2sCE47aFt1Enc3MFrCgGj31YycDaLTi8RBV65XWMAdHVqRr2Z5rCeIsgZGfgRiS9\n",
       "3WAxM3/RryeVpzG6cmTnjVjslOp3u+aqwYAf165e57qWkaa9NO8T+6t7azWNUtSZr2pFJh76e3co\n",
       "/LQ73r3JPh6svHJFpfEbjXXpU4gKG5Dyh3NPVWDj5z4UzZqgjHrbU6B1AOutLC+r7f3OnOo7gsDr\n",
       "HLsOs1X+1CuHkzrBWNXxM6+VL1WlFDFp1mNpeUcGSM4owOOJy0G90WV+cvk/XXO5MN5mVQKcMLVK\n",
       "LHXV6kBCmaq8jyjrTiA91Piy9jWGr1Ba4CkZisUlaWI5ku25fuVdMv+a99/rtJA8pPEEj1nK+4cY\n",
       "muFwdp52XBt2KWOfZfAzDA366VCVC9JD80G5pwC1xbHm5s1ApV0Cn0S3k6F77e4Y66buE1qIigL+\n",
       "mIDVl7+P36m5fLmWXNPdLWaRWRyFS86KvWuBL0atdwg6B0yhDHeFxVWjMwWauKIUou1X5WYX4pUe\n",
       "nSbZ6KACfSHJllNlndQN4eo1gEbzloTJZmvcPcGiuRKXA/ID6//j/mw91SRBCVhfcvEi9chwArI1\n",
       "HIC2mrZScmBffT9h18CCZisXmkSpoRoi3/y+XR8JCyGgfbsZln+W6Y6z/je7v6wKeq9QbNc6vE8V\n",
       "YK2K3ReuQNmt258BCMcjd3Y5au1mPGiJFVDwPCKL1t8hbQVCz9I2/UVsSLaq3WboMMDT9Sn2anhU\n",
       "o7+b3KK9aHop7Ye9ltN0j2kO1z2x3RVn7kov36JZj41E2xroLupV8Hr7o5IoWRwAqfhEfcFle4jk\n",
       "+ZAlW68o5MJv/Ag+4vpjHlqr2t4XbZcGw1GEzMGLK8AAA21CdG8Tzny0HaBVLGO0fkfQvY2M0bOU\n",
       "0vNOvtcJMzMfbzdyPHzCpePvxKv3RVjJnD4Hjy5XLi6L1o4Qm+mg/C+fdrjHxWAJBoWZPdjDzl4g\n",
       "L/sot2V2Dctw8o1fDC1vPFpu0xsRfR+tF/bG8d51JnxJsn9oXl1RrnkObxaMCz5TzA9LPgOkaOfk\n",
       "BA9OjD1cJFm8w5qDEjPOQ9m7sqkPrOj7aiP26iKYs66dmmA2AfzoPMcHYj88PfsUp93YUWeImwlp\n",
       "TT9+9zIgA+cAAARnQZoibEEv/rUqgABOGXlADouKGsi0nNioN/S7dKk9O1edGMFOJ0+v1rTM0FoL\n",
       "h9kZXHL7noY2wjBplxv6RE0vv/mgPVxG3Zmtpxe5Y55i6yDIrSOYeH+B8b/hwPq79H/jLfKfbxqe\n",
       "yAqJJzq7wzmboCD30agVkbrcchCdllagFtawCc3cabpR8wBOjacu1yi4qNdWLbiJwsJ0gplKTQAS\n",
       "WTqHEdF0Br6IKeEegokxQJcPK8PNJ4r8RLn7CAajiO+zfydpLelhWhiXUuWaAK3K48JETI9I3xOZ\n",
       "HnDEHWmj5INi5crw00EAFvBieH8FVsYynHg5CdHKjE1T+G4SObodbU7aGfQ9AcIeVwqGArfCQprp\n",
       "Js0/5vaWOS2jvTJmzVlA5AgahE0xysWyOuWxxmtIioJrZnK9OyGSD92BRN/nQsJ9lY0ezxJyrwPd\n",
       "W69CkmDh2AwswUugkwnFUBMV3+XY3ejRIJUQbWt+/6/t4ojEbQaMK9tHQXFNiytINOAAkZF7zu/O\n",
       "1wYmcoyjkVmxBqpMdjrHZYaP8ihTy+QYyPyKV/8lNUq4z2x5i2sj3+MvK2q6cECm+p3v/jxgAPKu\n",
       "xSS1rcT/sHYlyFKMM1cDhtFhxj0bY1sj1990GzhQOkdeMwXWcbjF2+0E1lCPymwsCI6WB3MMlHSe\n",
       "G9bSMqe9vY+Hj9T/uTqcc8tbYrBHBbSQiXrYWHthPHNan7CUsvlh8KJLmJn82ewk7L7LBxV+tROq\n",
       "vYDwMcvHKyJ7RTIb1JqhqqufVBx50RpcVzd++chf+3ihHhGeAC/HSnWxvEK44M2NL+sXWDk6istj\n",
       "qvX8m6fH4CHAwniHnTMtLRx55Ae4I6pnAN9KobeyN3W7fqFxGh/rNnFuKsDSGXVfQWiIJhvb/lvZ\n",
       "GWlmtSUQCHSt/OJ3LNH/yp/ZwR3zgRjOekXmzlVyjoMKhxwWiqoL/4Vs0DTKhkX89M1GL15ob+CD\n",
       "UABu2tPhvXRRNELn1sZOvl6/9a2BNDNep/RE+LlFKPxkBosLK3gK1Jd4sJz3MCi495GC0QRdwwkK\n",
       "7DaBeCBiZGbkLkYSamXKGrwTkebI6u4D5GXrc+7Lb36fvTbphxTLou5QN9CP1WCGwDDu9xVyer7D\n",
       "Kjgf7w25CRA/76h8XROgJ5N6Rrfvs/O1VmP467/pYUhdeociN55+hY5/B/JNw31bS2yNJOnA2dGU\n",
       "mtHiYI1rbWnSu+dhD49h7ZjTA0/z7qJtja8PZuyHzm8euWtuxtyEz11Y1/0ZrSuEfbriwGDVCWZq\n",
       "i412TLazpYT1tIHc2D6DksiX128mjHwFA6LNuJz5lQoIqFBLyAsyFwjtaKdPN9DaTXLkUOcPULuh\n",
       "kaBrcVR0+SxlEmsDpWOYKo8apVf+gRTmLBVZlxWiD2wYFzCseR+Rk0FbyZ/kiWC6UpDCay/iCfKQ\n",
       "IyphFhU09xq34YmBIx7ttjgNzds2XsVQ8TDjgDFGcgB8Gd9HgQjiQf9mWwMB1uME8cXdrimSC/wA\n",
       "AABQAZ5BeQ//AADX/9rwMI2kixfpcbfh+ajUlhuEy4FX3LMXg3nEEZk3SdFS+lZFuN15+Nttxkla\n",
       "XWVnmcZXzcqASIR4cG1aDsYHEF3zLadWG9EAAAXWQZpDPCGTKYQT//61KoAAThAs1CpdACPQsznL\n",
       "XOVZxebsIQqkVvYO9cIyUEA6PB0ld2cVSXzb8I5zCL/ErN3JYApbe9QeqoKwMY9AiDh9ERGEWGzd\n",
       "aFchPmBpEPOANnaYPH6PP5ZpV5jak91Gv/4dG7/nk95QEb4q+Ex7uJbwS+KsrAEfIEWK7ohkg0rO\n",
       "1lQzZU1xernvdT6LtN151WV5yGAehA6/ie1d0P65flo+NVJDBuV2yQjXIwF39QixnE8k6s68y+Ji\n",
       "PiOHeNiX7Ge5qKgSbUR7DiJhbKI9fTE/yi40MT2vrLs00OGCJv3wv8HxbRiq4U4zBRCo6PktPgq/\n",
       "+n2LsU2pdI7pASuqy2GnLhVmmgaAeZIlLCNn3RcNOeGPhjf6jKVOVpIxLyP5lems552kPgARVm9g\n",
       "Zc23xBtBD8gVmJqD1JYxMIDnjZj49k417+pPiKLqGUBfiZ/OzihHnTVsoElUp689RSyPQohF1O3M\n",
       "M5sMM9m2LhUwaa1mHQfkLbx3AyRY0Z8nz6GJCSeiU8/q+ZyMCOc5hSFsELaADKioudLevfhVevs+\n",
       "PRxF1AUdnioxzWnQE6aYoBaFb2nl2m3nlBaibUGwRJ3tNnnfB9GArIs6K944A9Z1/x4Alzi6JCkS\n",
       "1nj8TknK1QrymGVpjmtD8B4wR+Ndb7MgwT8dOPBprnSsMVftUcL9iaj+3WpHkilzlhdIt4beqiEr\n",
       "+CcSwKsi9ajtUQ7gQj4OMZioY7AZ7NlpSc8pP2ZQF+l6ZqXvawovu5UzVeFm0OrZpBXaxGO89sgx\n",
       "0ON04HS3dhJf4hHKFEuUHO6IMSZ6SOWmnP9WkxKpJvdFi1t3VsnQqJO2Q20wBEi7cJbudRcr5CTw\n",
       "PN9Dc8mTjvRRDAlmAEZrxm1eC7Qc8ub23/sOJhjw1R9sz56rmnEfx+IB6Z7+t9Zxfw9CYABeyWoG\n",
       "DZAW78mzZWwWKWWwaemKw8Xmve5SViZqqlBc0Zt34Lj0e3zSQdjQwElXYBhb5Oy6Y0QNxxFYxHY+\n",
       "F8qhkhPn63D5cYbksj11DVk96ICTkp5L6qldsSfzRQ6S6GzpDyXyGeKHzBro4evgoKkQfY39ykrj\n",
       "SnMy2pGQlURIe2DIFdPhVSkHDyRhFVmJlK1MmOQv2O2kqqUfYySLBZTU5R9YJ435x8+SRLkfQcH7\n",
       "RtEwGeZiPfB5Q4UqHPWCksxrLQF4IcRIoRXUyRQLIHGAAOFnH4q0lHscKfiYaOJyaIrajIFyd8oK\n",
       "/mBCFXxJQnsHTHr5IPKTqWFZ0NVp8s2i0HdjCl90aT8tzSGn3EhyEpgEWgGESxPx5nxyMOe6q31E\n",
       "lGRalQHRcPiPW0bAfJ+EZ+Tt2BGfZQ3EzrDTFVKPiml6UVVSDSx1aLcFkKsqvMEm4zOb03Y6+yEk\n",
       "01aN7Z1P2HBEB3C9FUNifTh2WHh9WPNz1s4ZlnLjOLaaz1u3Cdcu6r79QxAfCXbtN1zbH8zZEsjz\n",
       "GqCdnF+13NxHpTWOI2HYvOKZ22IzIP04gHt5e7KDhKub7PeEI6mGOQQDCuhS/f93eTUaPZNaw1ve\n",
       "dhR6Ct457mqpIHVNnbR5lHqdVM99MF37D0ICj4nspybDLug3wS8J4MPp61LROjhtOe9B/tgCl1Wa\n",
       "5qXG/ZFgrSyYz1zev4xKZVlCixCFU7rL0gr9dlC8LZ2TfbaEFm+rwdZcSNdg57weEmAPQ5oTfVCb\n",
       "yUTND0cQsasTbgmnsWd3sFP975x9c78bDVPmekLlDVKyMirwbikZRvE/Yf8PG7ZLZXMILY9eG2j+\n",
       "CFG2Gol6iWSZmPe/YHP3GQcoSGVMyhfUMVqUZFBsW85J2SH7X0MP4rZ854qQJ/+608hgFjwc/Rfc\n",
       "jpMe3GNEUE3+SY8t0WhC8+4bh/04Zt7sO/bYiT1VYHuDIeqRI1KKEswBRk4d8bdkeQMGP0aRd7i1\n",
       "gE47HZuO7K1L+g7b1SRzitsmTGxpRX8aadAeiqZaYmaSuKcMeaAI8MUkAAAFGUGaZknhDyZTAgl/\n",
       "/rUqgABOG8ggBepDiOje8WQO3vnz/GULroERb/qBHdI0SoMqLQmO9Uokgfx06nbcibDlfEo0vwLJ\n",
       "YznKdyWAGpYRVAcZ4C1zY9Nt/LAh1lFXuzJplSNpV0+QyyUQif/QI1JNbUNO7Kz2zxqXWiOJ4vPp\n",
       "IRjtgUaFJ4ETInU7u3H86/iYp2REsL4zLfzWTJ4w2KDr3/iOuUNS0D39IKGClfwykedqpCv8FI7M\n",
       "Zlwya9Xsr8R95rRPMPaAH00r6Mlb+vs12sjP0+NrYbvbyrWv3MaZWnHLgZCxvOA3yrAxrZJx5rx/\n",
       "bbBnq6XITkPqcLWvVjR0hUyKo2iXL98hh7x8PKP72K/SC0xUiOUPJQvC7Muqn7vOc+1DzhTn9elu\n",
       "6kytUkB/V7qvOc5HlJ8k1doHo+tkdiCHL6WTSqUXs8D12q2MlNBaIHveWuFLQrSVA8bvHKwxBReT\n",
       "14YpNbQA0wmfWmAfXwPvSf77DHcZVlGH7ItRqsdvPax8cl0p4UpqUSOujXskNTkBmfROTykT37R1\n",
       "TXxiPbTuzMCgS+Y4gKnqewq7DfC3appnYr+kla291DHmwaG92zsbzvX8O6xuzX7RkpQwLLiZ960O\n",
       "FLLVHt+aX7EgGNiH043NJs8liV2eWEsoJGq8qnrE6BFFrEpCI+mcb1x3+/YUQ0u9rLE40QnfE74M\n",
       "YNoparzhplVsYae47d3HS2gCRG5sd1GiV+S4jyNgmWfBPkNM7QxlD+vhf1eray83mxpTFl+Azw2w\n",
       "k2K2F2BsNU6XDNLk+iWB9PIQfyHv1vl8JaQE0g4QU0l9guaPW9ue1itfS2Y/q2CZUY/+7oFbTXcT\n",
       "lHJfAnovy8PB4zyMzkTVUDmwCBod/bYIoCK1njYSy6zmLl61zBNAmLvvKsrE7u6ybdP8ZIZTHpuf\n",
       "fdtW+6gOzcaPCe9noe2/aiTezUqcgSoOjFKuGw3C4bsZUHl+bS1e3dnsSZt05i3RsOgnlDkXoy31\n",
       "NPEKe49rn6UEXd1P1JKR/wgQZLmTKy4o8h5ENtGz5o/36S2H7kmV72ZhJb1E8I4vFiIZwb5+BdOg\n",
       "uXhhLzrrKNWwsSnKd+BX5ML4thd837mNuseBFlpT61Ea9j81XcL34jx7gWgMCflS4eknRyTSuBRk\n",
       "gZsuZCv8JcUKYTeRmffMdXazYtIOYbLPu1qiMgEDo3XRwkZFVwoTr2gNeYTLRLBe4R/4gmRESqIj\n",
       "CpiqYjZqtXTgeVmFc/9nQej8Gt/LsrfmZTZhS8JZ9Qts4+l7BCeu1h44lZqTjaiiTUei4ad0Eyq/\n",
       "jM8z5LJIHZe9LIS78XWkVfXk8NlBM327VA5MSIe7RusLc7/c9mGoXY8nPbmNG0u6/T4o9Dfu7DMG\n",
       "BVbU5P5MK2jdUOVc7oCLbuBvlDy+iuEEW0TpX1Le1lXfwm25YcfDuU/7etZhjmS7Er9N9FqRRNBK\n",
       "VZCooBUyOUj2xTlvAN7S8IJCbaE5mUgE4SE7ZKNlDelB5OP+8OuXPtlKfWMGnHqLZnupK27JcHbh\n",
       "l7WWkE54Au8UuJ7QOUQc+N0cmsLF9wpVH97S6jYc7nVqP8YAwiQo7kaqoQS0b7PsCZJJtOqwfRQ/\n",
       "1mhroI3c14kmJKMYtyEJW3+CjzW7pqCo0WNheIY1Ay1RwyePfn/eSlOeISOtZ59gbzVCywZcd50b\n",
       "z+sO45+PDjNenawH9Dnl2Dg3rpKBzZWh0srceIlfIejoLvi78wAD0wAAAK1BnoRFETwQ/wAAYehy\n",
       "VuV5WkgANVfGBgnAW3vvxn76mAkk3G9nU8f+Gj79VPzymVbOqQWDt6HUQ0sdN8rRKypEBaY8OGsk\n",
       "C5aAYPGo+8pjpfMJ7U8/6XD5iVsPlsPwDgtYPXIttgJftlhpCHJYlXaGVjNdm2UHFR4Yqw6yCNey\n",
       "W9k2QYFC5bIkAtskrtbG0cWgSx67pSnfbolLIhfDdOPTTQ94D3GYGzOVz6z0gQAAANYBnqVqQ/8A\n",
       "ANCauBDWT7m3TwRxD9boAFLtzV4zSz8LDXhAFaVnLzOL7Ybxnv0fz1+35SWy29SW31L4xkDVBUek\n",
       "mFgA+zmYz+kRlDfNFZtXTl26vZ8lVCG9IiSyhjYbBI4Ugd5ql6JS9CiZsB5iLAhuSwmT9KeNhyoM\n",
       "RBnTtXx92cgOWESTJ6KNj5WNFcxvU5D2gfT/qeaOwqiqYJlqIEvRlzTLFZXb2ud20naDQn9NbbAD\n",
       "0HlCgtZqBmPAJ1cMrSohkBJeNLpDJ8d+wAPh4mwgR+KbYYB5AAAD6UGaqEmoQWiZTBTwS//+tSqA\n",
       "AEwbyCAH3lDbxkRUjPJFZDSbqlpQFCGaIXeyFrj3knKSDfMYaIOv4oVzXh5xB3OsWB/hf//omRwS\n",
       "FQ4GQr5f8T0kHY1IaF4u/BhCmFSSPr3b/eguzh5HI4G59qSkJzv7uhkqb0rPfRQViPUirIj9Pn2+\n",
       "SbDa0/rfYSw97kv0jLYgvgO5bu5GluLR8mX7ceLJxITgYf2uQ8l7Kk8jfT49ywC7y6qBmG5wcSIV\n",
       "3aKvVC3VLDXiQIYhLRIyn9xxLQJNhZbQW+YuVK5vurftwlVgpTebQrE3W1+FT5P9seop1SVkEJnx\n",
       "wI2mCb0MpFiAqYWw8d9Q0h9bfg/sAHYEQ+MxXhxTk0vKXrg6aCHyzQ9i+z/S91qxC7AXPM9cPmMC\n",
       "mAKxd/Q86WwF1aew38pJbHdNSofpjMLuYzWVi1EJBqCasno0T8yeB4Q+OD0JEOZZ5Xkzv/9RAPmj\n",
       "qRU+fJsM2V8ekPBDpkushksB15A7KAef8CEfrAiurNdzz9GCX0aGEP9IlPkBawdmF2Mj8N+ATmU7\n",
       "MY6coRkg8hlsZN76rsuuYxP2O8ew5Dzy1c8IEIlqXz068LAYv+a/QDLiVNEyIUExYozk5fDN1Bz2\n",
       "r8FaFq4qj62f8HoNJDXkoEmRNDPdNYIKsdzGUzQ7KiS0X0NqY06iVPnAbmClIg3n9U5vR9FmIRiF\n",
       "7NnnC1uZBYs5yeRzgc98Jl3Ex5VbsP33Kgl10LstlfdEYp45YHnRIniEsn9gZocfsdL452u1znGn\n",
       "r0UhBOIEjlhwhpF+vFiXw4MdVZ6F+AazPWfWA3TIWtrosQW2G9Olc7R6Dr8ncmH/BBBtOrbJHK6N\n",
       "FxTGs0P1AzxtApXp/3czS+bAnYmTTG5J2zgrzNOJQK82yuACoZhLlq2NdlFZWXMO1PIAVfPtlVsE\n",
       "A7cBuzwhK6dwhuukqNgIr3aDi28XxJoH0RAheC7WM7nhdKgi2B//+DVYBbgrY8HihcAZQjsl2Rty\n",
       "XtbjdB8UoQhODkuIIUqb2gsKTK+Lgp6728t7YHHfNswkcfJsYCVj79kdZsjUjzJQK0/RGdiLplsU\n",
       "RhYXP2tFJBc7sMZZ2aAPDPfwpjEAjFGqgc4yYCvCewWEHXG0XyQ2KnR0D9RQN5ZTZx1kmYGM7gTh\n",
       "ARtW6EEvkOpqbtVyfb8c+a6pSMDlRckzI2OR8fCZWzn8wOh9k8XQDnGWiuHbvOgI7LZOKON0w2VJ\n",
       "33UYUr2rsv5LXg7u0gQ9MwFK2Na5iWMdyAKqAXzcPncAnRt5zowOv5Wn7GsPgC4XSNQ0YY3deCXw\n",
       "lW0JIQkwkyf0Qd4AAAj5AAAA2QGex2pD/wAA0uZ6qNaAD4xUu1/xIBLz/jWrdqKJ2+DUf93s7WB3\n",
       "uRQP7K9TN0G2AUg3A/RXabmE33JBcS2t7cgYuTn+63/fQks5mslavlWRsyZINdCGZk/gc2YpivmS\n",
       "J0tFFem30Utl/CBOjY1sLJElAczKM1267TpBSysefJOv9yonBQnY1REt1mb+QbC8HBh5jpHtqDxJ\n",
       "LxgC8LutSbBFCmAtXeOHGhjTdSfZ0Imh6k6Oi2pd7NkTIKNMr8Tm/yfPSstF809Jpzpx+2HfJr1w\n",
       "JFDjoYRMEQ8AAAOdQZrKSeEKUmUwUsEv/rUqgABKGKWIBMcqriVO2U8CRMYvkGpBdYC5Zhu2UKci\n",
       "3q+gHnTzj5BSQ+ulvPDDlAMDGIXypB77WWRJKqTS1fw+GtTUk3oXOZhs5r3cBy5G57HehoaMb//S\n",
       "2PQ2zj1D39FON14v/KsReJwurfPtz43grd0uaa+9QCXgp0xFShZ7WhPnQeJU6b6HERhIMNy/+QOj\n",
       "fSPRXkc3ZJHYK+cbrewEucfhAqZv76wB1WvrU4gF/TriqpZDcSiyqRhPmYTB8AmBtpRFnBqKPtbo\n",
       "My41K1CoXuiW3r7Gwdjh0jBbZdww/nc/mjR2J9K1pL1xL89UDo8cqoWkQTsRL71cVDnqDTHgRCwF\n",
       "f+x0tcoV3EcLK57LNx3UMOKvEaxa2HuB4L2Ax5xiG96VgaOSTTwDc57gbA8Y/n7wi/zqaK/NR7ov\n",
       "vauC4C4jsdKwhuNJ+abS05TvYxfv6N2MzlF+xNAfZ/tblAONyu353OVxgX/AgZ9s3JPSCbL613gP\n",
       "r05/fFV40HxWUE9tFG0tVz/qTH9TIUuQTCliXr8VrXc3NqMVoPLFfsbGMbPcVvDVfKjvAOXqgjTO\n",
       "F2eQ/J0EdEYp8j21d8y0l6MoNwQGSstRs2K9cy1pEFkH4bKq6z3TSWfgSYMr3IgnkGsEBa0RGued\n",
       "aY1XbQndbPCtAcgqVCWByQUetr6BgcdLPD1NXGlBExkEyQWmtsmnvlV71hWUtSNXisDdvqlf0Ytc\n",
       "Ml8ZEOdklSrDpCAgSuvQWfsXRHDr9+18O0pzQB1oXrhHHbbNJo5N09xmGuHkRpm5C0M7m2oid8Nf\n",
       "VWFz3NgykVsf5yMA28aveUfKBKicqR4Gu5znCCfadJVAMvRB28akePyUmr+6l9V0+uTrLvB6YFtu\n",
       "QvDaA+Hdvrr9Bl7LexsNBTieKTRf7SnftnkKCmndG+vlupPHXreHohiVqi+6zzHi7Wma0H2cW/7f\n",
       "31zHe900nHKajMQPBn/iWZJc9Ry2ib0KmC0FkrJli1lSFyCv2Glv92JpMbKKtx1FADr+JsAAhTg0\n",
       "xKgya00ZpNKyxKDhSbNp7UyQmYS5/ni2XxtxxYAEqxyHTyTSYAw4Nsjb2EjkG1kA6yB127BeTLNL\n",
       "PvfMJyg1scwnReCuWQi0mLOBBzknTmpXxpxpUa09r0DByTxd/4+IJPsIQ9aDlEBGh1CWy43CTFli\n",
       "o0ivmJ7XhQ20zT8HSSeu8fbo4Hb/fAACXgAAAQMBnulqQ/8AAM2yV7BmACFNve+hNKQVQuh0W4so\n",
       "p4fbBsv6j3uax70PjmDICcmBA2D2Ja9laM6ug/rUClKl9FvZ/4YA5wG88AkD3JEGTrsa0Hxwwcp9\n",
       "NXMouwsqyq6GqBqA89Hk7dQrVnBK0grpb8v8AD7wjkj4rR27rL7QXtE5Bxnpy8ymVT7706BQHM2s\n",
       "3/wfSlx6VgJ12dNjz4LNwEoSJjryF8HFDCkL67RjG6F12S+EuFz+dh3G0VPZAZgUEif/t6/K5GG9\n",
       "F1owgAFsfywUiza4q4VxoMmxEOS1Gbv76VWHkG7nm/zEFPq/YnWB3wbWAGZFOJHybs5ZwPMcjDn/\n",
       "oH+BAAADzkGa7EnhDomUwUTBL/61KoAAShvIIAhKeozR/eKvHFXPUdQDyOQSZ1W97NA6xYHqT39y\n",
       "vvnJEt1+Q/MrjaGfDG9P4DNrLIfN4KPUOiYPjNoo4kUQzJwiZyJON/eLU0O7KmKelf/7wDLIn0ot\n",
       "9uOqGgEOk1hYnzrkc+0XJaCK6x1/OaSePr0QdpHQfy9BSkz/BlHvAeUW2QTzD8p5Z/x12528xCU0\n",
       "2bmVu8aMxQqMBR32szVx2Ibh0Wl77tHHvR3qASZNaBBamQcrbIHcCCwDc1wBxvKU8S8/fL88YL3r\n",
       "ZNC7xot6/3X8Bv0zdYTG7WyYQCEKs/EPpP/IdnuUuyWEfcN7mmgw7b1jCkmsuzgZlN7o1m0MfiPz\n",
       "wyy0+QFPTfJ865WbdYEBJfbLjcuxezzcyn2eMCzjom7Brr7Ki5rMiRS7kzt+wdwU934kGSciKeQ2\n",
       "irSCVj9M+VaB28FZR1pcJ7V1DCbqiHCJJGFCIRmxQGC7RLfOZsuAl6XAqsnjFY0uLhUUizvRTFxf\n",
       "Aw7/sHhTgF+IdzfpUn3mfaXpK8u/ho8Rj2SNRVIxgg80lHYGV/66vnC8XvuF9WVhQHqEz2cd0JKd\n",
       "FfB4FYZgvRoRGwZRuEQ9yMvJvpUMU4ybd2eqL8jvFNVNZOVcFeiN3qReLIEnefzrt9LhbSE319/x\n",
       "qUGu1pg3jS5/uCj2QK1fbtPj1/5gxo635wC6NIR7B4B8L2WF9iKKFgtacgy1CPzCvERPQ1Sj2xaj\n",
       "THy8G7e9BT37hl5B9pKW/1wr4hQebsJfHBiETBginJwl1qnCoOfT4tXL99LAzj+bv+RxQ2+fXQSz\n",
       "ZS6tuQ8ZoP6rvAWqxErRXewn0XSxdtUXPa/EI/lAVzia9LLODF4w2jQHRogOMoDIRK4p6kkKd9Rw\n",
       "YdPMdCL7s4NVV0V0EDtU/IBZeqFUKYGelb8PRpAI2TCDo2MfKKnpiM9A+fwvl1saSJO6RzlCiVWs\n",
       "DgrYBsv+NHvOKH+f6Hxwc/6WZfCIKCU4ufg9Buy2XWwPAngraalOznfn1uQ17m2UQ3+bW/XY+0aY\n",
       "bw2Qgx9FyRJ9JohETwEJ8teKUEv17gr0WaOwuKveU9SSK/WYn5vyVyxgdNSdjzbLLl62PugCs5ST\n",
       "gqOSgsAlkIQ9DwxuLsOOoORhNq04R6NQPOKhCMFJ9eCN6nhZPA1tLISCAN+VDzXL0J8PVm0DuDDA\n",
       "/bPKPOIUF4KVSMc+/gCl2TuWGOiqxTqS8y5d0CbcIibR3pFXPDr6/Znhx5TVf3EQHJ9cg4yeAn88\n",
       "5Yyk+LV91lMgAB9wAAAA7gGfC2pD/wAAzeZ3enoAJ1tPXo188TQFcVjR3JJD9WqA+/+485oeJRNr\n",
       "H9lQoMc40Rk2qn9/brbyDWpCzTVbpPq1W+cBDwsDEK7SX/4nEr142D2ZcQ8caEj8wXU2loGlZtka\n",
       "7i1S8ehp6gUGb1Nd3tWum4cf680G4ORJFXhpTdUYWyqevZYUaYxFzf+bs6txcyJFaciJ/nHXhOR5\n",
       "CeHiyzhTFMfx4wGgC1JD58lRPJx3IGYOgIwRHnp4scWDdJu0fWk9gMTpHzFe0F/moyiB/Q8g199w\n",
       "9+7cdc5nCt8TKfF14kNys2sA9hBkKrEYW0AAAAGGQZsNSeEPJlMCCf/+tSqAAEgZViABunVpWkkE\n",
       "DvWZwqgn8bw4cb0lXcCjEEbmZMFKPGbkcm+R3AkNuUuq8TzyR0q2IbRPAaH1zPHofmcOABXDN83f\n",
       "MLUUcrPq0vYgi9n/4Hy6hbYOA//9zN+Yp8YuKtXmYXMINFIGL2M1DyeQVsvHYi5qyGZtCmPX94lM\n",
       "OOQqeG4XZ+VKSvz5DuOe4cleQBJPnwFKqORO83lffwdj4V2nca7CEb37FGSVr9x4HZorgbIxcka6\n",
       "G+hNGNyyhMDFEPxl38BK4B/YJwtWKj357JwOPDVmHPqSFY9pxk2TWORIkEyWKuzRnFW7QOFRoDva\n",
       "MEOGaqsSMR/h7ijrJPcEqZ8UuLjlwVZ6osSGlh0JKNmMxyoTpnbyCNMPGDc2Fl+ewxodlumiCQ5i\n",
       "4FKfTZHLVcJRlbHCBO/RRhmQTwoc+OnmKFalCpCxEm9TLbZX/v1tkAvgGos9XAqh30ZVwToTZO87\n",
       "oPk0A5eybCk9gCPva5uZclAAAIGBAAAB/EGbLknhDyZTAgn//rUqgABIEJPquwf4gBVLg5xiFEMO\n",
       "9aAhA5/qYrtKVuinXc7DkPZMDU7YXoeJWaS+Uf6fhczezzFd/0bvDE9bvx3tLw/VZVeve6FwBivf\n",
       "N00sl6+hP33hqjJz/1dvcOveaGdNCq84rM3IJL/Ji5WJPY62umOIMOsXvA92vWJKuDk4y7VgFGMs\n",
       "M9H9RCHmwDRTyOFkeBBmuw37Y2Z0mP07Xz5gHy97FN5DNkIcXlOtaIEEu7Fc1TF/cDGzZ+kho/8S\n",
       "DKT0z6GpRYY2oLKlCsX3LlmsnBHOVl42DWxr1iOwuxVduL0ZhMhpFFsQ6qAF94XTQ1OQXT36aQlU\n",
       "+Y2dgQbfc2SWubX60c/5xqAdAEN+hgNOd0JFiC91wGn657gTNkiJc6w8HEPObyowKilWMu9UPtYm\n",
       "Jz7llvNgzoWsXVzU8ysiWJ4yOSAo6PbGjpJpgtCOPHI/8NonyDcwu5MyNNfzVVCI9aCOGuUlaBx/\n",
       "AYa5gTyBcgXB4BbUUdS2mO9eeblJj5gZuQpsqOjP97pGehSS3OLCIryXqZEs9jcMq6KnNUQCgdMg\n",
       "FQ9MGzUw5cX3IlKHEYQV9xBELkM/2daNLfcK7k+6zYOrecc0aIwsodnkeEOg5yyHwt8y1VhMJgln\n",
       "5cExKkUModG0YX8f2tWyXPAAAm8AAAThQZtSSeEPJlMCCf/+tSqAAEhOQ7AgANnlPWmQrH2+oWJ/\n",
       "J/uX8Ss52+XVPxxHObEOlTe4eSMeQDHmOSgq0IJLvYmHs5pWpl5bg+9vFd3ADgASZO/4+GbXBh84\n",
       "9akJ3tKrrYW4tRKKo6I43nkppQvQ/DVhWc+BEm3+46zNwpAT0tudQUmcaurchnueiqL+EihXc+HU\n",
       "gOHcD3sLXjAuldQsjPa3vJQvLlnGdK/PKUL/9hjW5IZuvYhG4idQzeBo9AH8QRIuLay8qKZMmhIk\n",
       "ZdFKTSJKZLKP0WK6zfRVcBjn2CleqQgqK9rCaHUMjwh7mq1PJuxjrgkZZ655ItTzT8EEutWcC32q\n",
       "7hqTZCXp2dP8v+Iwn+4whBM+oxJVBzaDhx80pFXu3Zz8V/CsyYbLmpm3cFf2fn1NlOlRZHdHb13p\n",
       "is9003lrBd15wrsehrL0tZpbnOORdw9uZsv1cUh1kB96fHim99F67LwhYT2KGjsT62wVIuXBxxqu\n",
       "Drk9Q10OSPE0zM2vYJZQ2Utb53gEQQoZhg0gfM83thdxX0/cS30dSSZnY9uUNhosqYDiUFvAcD/f\n",
       "kj+ysCmXM0/V1wiYzwGCnipNhPu4EF9iCtT3ZCg6HctgVZG/gVYeKfc0O/t0oT0yG70i+5Vz4C69\n",
       "1HhrfkmfmA9q5SHfrrOlEcFaDPUhlFRWZkwN9jdE2Sddypbljtnad03WFr2+tY+4yIYnGi3KJ1Pe\n",
       "j6KEHSUM8nYnDx373jCLE7yDdDuJ6T9AJRYm2RWJKtg9eK6+AUAisGTIYvDp/Kw2tXPom8sq5yIm\n",
       "UbsmZWSmAkEaDqXCNpvSpQNQwQCq4hKWAIJ1XBs7TeGQT4V6ANvnc+/hFasuzD5S591TNE7R+ujY\n",
       "gmRI6qOQqdyzJvPc/95Uv2HGg+BYFsnkA/DudsmmZXEKY0nMAWigwytW897CvPzW40sCpUnBHesK\n",
       "JHBJjw/tGnWvwdYWCTQdvXuvYkEF9q3NYXmHs/MgU3uD735eoi+nYRqxHWuzfHPI3hEDQCtzUMiE\n",
       "PYW/ht9q9r+iyISb1lGc5LnJMJxhCioacmYAaG5zwqdQfcOHGhwDssoWe4XHafI5lJTebebCnxmH\n",
       "/QReIU7atn4+Mu6yTwuevMd+iV/4aNnzn1acgmywnYwHyRCBBzrBkfeFQT+mcU5LdRdTq8Tq0AUN\n",
       "eo0Aca/JObXrUy60bw0RakDmvrki+P1bWWvCLs9NfYpOBAApOM4c+guy8BEczNRPMpZdHhYIt56c\n",
       "UUVEvCQ8cVj9j6iVrJGAyuNlsYIeaXZrT2cXYMq1krtGRjysSiAmr/KnaavdkofgbgYYqFxY3eai\n",
       "+xBmvrrPNaDaHNuGzmDs71LyDL4C9U3s4DdU85zHIG79d1lEGW9OHN+OQ3xMjVmtLccQ6rThd9Lh\n",
       "ZjLBl8mrjI24P77COarLmkKEq/94yE4lT+IR+sBJgDeragfQoIEEbsFtET3atPVXoRUOxdNOwUPS\n",
       "5sxwqVZXdx0jZkcj4chpFx9PXGdTrr/iEEQR196bmCXACvi+MNRaZAdEn7vphVc5xKNwUVasu1e0\n",
       "kEV7kr4+WFer4pUvzWoEyP6Oz25mQKcgK59QVMqiZ8RfoUnEfcmJpSM1w5ZGRHF3VVkABRJjPgJR\n",
       "x3d+h/KAsWiudp8Ce2MHgJOI2QAAAMhBn3BFETwQ/wAAWr5XW2+ABtV5Egv3+Rmx/+eeA3+i/VGt\n",
       "PCDRLJeE9MMA9b0qL9JNeQiQspKFdHid7FiaRunrA6+0uyF4gn+++jvEIhva8MjnRZ31HaLGFSrd\n",
       "txdAR6lPJKCSXO55x7rRN0JNymnya9jkLnzbLV/4r5wcS2UOkKjGjwPYL7nxNNzfRohB5hMAOkfI\n",
       "AMcoP8MEWBPUwNMgd+boUYLhjzjxNCtb+jzsw2EMlyThvz38nr2u+BelPqqPrDYkZWowIAAAANwB\n",
       "n490Q/8AAMjdGl6aNQAJWXgFkn1q1oewN4f7SwP5wkvZ9tWhURNhZkFnfuAjc+9H9BdwqDzmZtBU\n",
       "VC4+ETlkhXxCWvAB/bt2OE+PvTmgy41p0267dlIy+C1jXM9wmOc+2GqnmjCoYftRZ3J2m0vHqZqa\n",
       "cIaABIa/70Zx8QsXNWDRqeXwa5gFuO6yRAP6aA73Dk+7dTwIYZcSi1cTaAYIj4N8dJ5Hu2vveJxt\n",
       "S28+04gopZyH0CZmUoghSuKQSraeX/n67oomhASO1SvyqJokAAmKqwJSmBhpvCqgAAAAtwGfkWpD\n",
       "/wAAwcTy7QXd5z5QF2acBNDefFrJQNUxjBVveicAdKrYgcfOl/MaBdOtm9CI82lcPV8UWaaRmVSD\n",
       "a9BEVeShxHaHOsgHWV7/VJqBHq83nZ6AFp6OVVnWFB79VqKHLb3wNNuusl+7h18eifMgikGqVxG5\n",
       "dkag0aNGD1jCqLSEUqQUxtPHX+HhzTfxOPeLw9kzTuHoe70DTZnKyHpXnO3zfCFB2pJv+fABoApQ\n",
       "Ubm4pBkP8QAAA8dBm5ZJqEFomUwIJf/+tSqAAEYbyCAISpMqtU/PbFNdbiSdcEO9iUgPs1Ra77Px\n",
       "oBQLBTn6zK6HvyMe7Pepxc+GAE5OIfXFaRS+Ul+ndGCifEzOmAmFYBgeNjzzNYPMkwKEJTqZz0yy\n",
       "HUt1gh6Nke862MpbJIEgkRTh/b86IH/07FdOJWq4GQOG3nSU1XnAVyEdhnRPTedxkUuhUo9lA8t0\n",
       "DfwkLS48oO3J2bykW+h3J1slIDiMxXWxkqxND9ywxJeG6/w8cZlQ0jZiWzMjP4jK7tS+NavcvtE4\n",
       "Fwb/zM/EjL2lUP536Mc2hF+1IS9bhpdyk5JZeQW0/z4tLrKkvmmaCvn1LgVgXz3833VfzNOwATiA\n",
       "q7ftudzXWOEL/lYl06f3ZTRXXP5jodamu4oIzvkN6ZvjPNeT8HXfKjtD0uUpkh6xQfekBlDwct1o\n",
       "lNQneCbOaM7ORdxM5rvwh5fgNNzI4ZIS4f1cufnTcwL9F2OdEzmyX7xcwPPrd7yoYNEFXLZEkMay\n",
       "caW2A/G2DpcvfflCUgqC4xIHplp2XkSNoLcKG5TPK5isBs3+lDR33SQ273GrYMVWYT+i5mbxinGQ\n",
       "eYqGDbUM7iEREUZE+Tt2hbnH89ctXUtDSRFU5imtGeSOjuS8xK4DrWBO3InXtd7NX5UcM+OoL1+V\n",
       "vg/fNcNQhKRboSa0TeBTtjv6r8XQ9Iv1imzepsjPNIuXXMotW1wqrf8a/m4InGixPRNX0Lsfe85G\n",
       "IZp80Up25dLOS4G0Dqfrl16ppUIVutWZIRwkqjStt/QZn0CAQ7+wlsOdHZe64A9C70S7O/8y7xeR\n",
       "m7L+ZfbB5RQcLSEL2C5qEdTjFuek7BEm2d1r+YBzf3Te2JhpWnnhxw0RetgW3xo6KNyJFpeErMBJ\n",
       "o4kx9m4xwtZ6FzxtX6mu+C9JZ4ULDImB2TmIQK2xg3vsCyOMwUQ1+7SnE4IbVthPXCmDvAWpndw8\n",
       "qje+m7jyxY/o9/z/8xO7IMVscGt46El0t7wSPCZ46TlYgdmtuWzyD3NCOG45xY1VHqNqP82Er/6G\n",
       "W0qVPUGDKGQiKp3vUHqWzD505g6oOpw5+qPwYOCZn4AvSUjzIBJcP5ilV2a12b+o+EIzZXZQqTk1\n",
       "hs/+7WT3Jjf9rif3ruhVI+vUElPIhxzMgZgIGBydO6OhlrEeYFsLrJfMGgMv+/cKS0NCUjbT6R4M\n",
       "XFZniEIkYU8MyOobvSY5u3kalGYmFRbVSqc8Q9h2GEEUj09Al8aKUUClokyW7TQpE+EakcfTbIaj\n",
       "ld6AAOW4z8EvAAAAtEGftEURLBD/AABYfldbb4AJarhng/g7toatsImUIRgjfrOiez6imFafzoWa\n",
       "6ZPnsFSjBhem67W7lG12qjyq7x7P7hClKuzFBPwKSFhlOwbvKTmLwTN28CqyFuUdd9BXS/NT6bNS\n",
       "bvt2HKrdH6s9WY6J10xvHzotRuUGs5IRkCX/NX/mbBnFYybzCh24TfA9CdkqmKcHUua7a5if/slK\n",
       "p0Awmd+9twy0bo47ACS1ArYNA1FMKAAAAKIBn9N0Q/8AAMPdFi5YmBEgAmjOKFszPbMZiQfRq+ot\n",
       "Va7hv4hl/6pNTeLEoH+8EUUgbG9kfnmIwnh6PIe3cJGqxrCYk9AkCbhjZuEVzX9f9+5F86UvXRAo\n",
       "vAim1UmzbQuBeGkzLWD5capEPhcqHguu0wKn4h53f2/IcdMVCCL3HwUOCRez6N5kSV+4YbiasYLb\n",
       "WsELaXaDkAhkaySUDci2CDkAAACoAZ/VakP/AAC8fnfnhyQqACH1Usl3hAgHx1gTbPPlwlz9J5Bv\n",
       "4QJDjLMguXwtzruRqXP4I3Ku8so0SlVR23u/NUOD1zrC9CSdR2Um9bMA8hkzjq4jMxDxaTd5FLsl\n",
       "wrhjNlEehs6r5RPDp5AgmyBqakxK6BT+V1pPd5n2zcp3aQ5OMdce984C2BRNktzloNmOa+/L8tu2\n",
       "vpWoHQ1SGPbgKZvdwaZfPNSAAAABqUGb10moQWyZTAgn//61KoAASBwQIAitLSHoLJRSyy4vgQEG\n",
       "/XSkQ2GTFalQVv3yvtmbQm7RUJjfGYMi/fS99evjM6LxMp85gA9/C9Pb0mG8hEi2I1oIszRJsHIG\n",
       "dxDfg4JkSDIAIhFtl2EMAouR55a6wkIbAIW389bu8rts3XrI8CaHlnLCpWoNkqK8LRPLJG3pJ704\n",
       "XKatH687GDFF7OQM2CSBErarmynZzortgaVh02jazV/khM+iR+UJOWMtiT7ESkKhYrx23DRKw0Vy\n",
       "ZMrQXCo4hlQuGsZFdXYJHZE96+OoKpsTWu4srvOn0aX08uBgyT5XJoYCou1Wo2ClzG+s+s+rtHZw\n",
       "LyeDc+QJBjfbX7lwUmeg6Nd4cA6KH5nxM/rZ10M4orbHjvu8jx8I78NUEH8fByeK4vbaqSjIFKzp\n",
       "4ctyUvoPH7CBfNybJqF/Q5tPq1qsGLZWBTtgRKmHAH0xI/s1YTtJRouy8F2xcfUkYAyN+ItL9aj8\n",
       "DG4TDlVimLDqNFNZLrsyOeCNtNYIBxsAzcyrFR8ZHPckjM97z2AADjtPYwpClreBAAACq0Gb+Unh\n",
       "ClJlMFFSwT/+tSqAAEYcFuABti3qxf+8mYgSPaPQ0A1EJbGexg3PHAA9JQClwr4n4ulgzLVh74qm\n",
       "hyi1qSx4M+2vOTwx+lEtMkeXLsIlBbJGzJ/lFBZB9u+lukFmPCB5CISjJVPeEnD9r3+ckLW8rzv3\n",
       "atgrEY5ajukOxp0GS/Zhu5uTF6qOYR8hkA4iufIuC2LTgOB24mgkVWtDpebFKamiJjwah0NFYyjN\n",
       "0nMUr0+8I48jUdRy6xz49jiaJtIVH2EaxKjIcn4iCIf8vmvOcnjoFKgwuCT4uGlxrwl6o2zDFhKY\n",
       "wcAtpo9leLC4K3lQoT1XSUFd1feOgZmGmjd3p/VbDU15uG9aMloSJEMfeedGjADtF9yh+ezEFf/B\n",
       "PMSswh88BYnp3BXScJ8Hr0z3H042U8y4HCB82gOsF/R3b3pPOBJNw3Of3S3P1CpMdmL5+WEZ9r8T\n",
       "NPsJd6QQ1N5cN12zwP3YI3+cr7QJBQUvvnqxx/85vwxcPP4MyWkw2Vbk+/mX7iIhxBKR1Rkf/xUM\n",
       "vhyM/x8ZxT/nparQLOepeN++Kgwot0FXul4CD2P2udfpBCaBy0StGpnXq/7YPOu7IsJRhNZF1wPv\n",
       "kRnXak2b68cYBHgwTyepSU6LEf5XraUTpu1fPy2EAsIUgVnnBQBF4UfMUI6nTGojGdjxtK4LroBH\n",
       "lz1IdUsTfZj4YOOpXwE3RXSsneTODWa/Z28bnC5ItMSd53R+cnZFrTowYdt3Ch/lnFxzdt97uC7y\n",
       "4hnYNUCNHPKS79DnXmLTGORLoWYa2v2gTlLORsiuQSVy1jAYHZSxmdKZwfkqDplFkkn9++LrdXai\n",
       "bV8VoWaaYCCULClZBBvqAnAi/6f3Fe60OoquI6R4MbyJdWIcL7oBpiYWphU4kOqgAAN7AAAA1AGe\n",
       "GGpD/wAAuAz+xAB92jpJQEkKCXIT/UDhst/fcYAp3HZq+/WDaR0Os/9o9qxgqOSO2B7kYEWcmbFF\n",
       "Xp1gpN/wXiF8pPoHbS4IH99H8ulGagKadvnejtUxcA0dQ4VnlMYt5CiWJStH2YEa0SJzHvHndusx\n",
       "saYY7esbvjVngSQtCOfG1tveIZByhOUbtXEbWwiEAlMzUeZeKHw8QJ/6Hk2kvEXpg8XD540NsIgZ\n",
       "Dnd5iDvC60JQFyMrzz7oadKXbmapHvj/mLSKo1tf8QNELmD2IULKAAADfUGaHUnhDomUwIJ//rUq\n",
       "gABCHDXQBfLj9Yw6xNVPpNDHglpU6GHNGNd5eGDgCQCUS7whExaYnnH31SDksqQrsABT5VioTZGR\n",
       "fkUO28eB8NMgvz1dU2imuiq3FfYK5/see3tpehC+senJqdLGxZeqFfP/a+l6GR8pUNbS5O+ADM5S\n",
       "AEtbdJbUI1EQuT8wGkncGYflyu6mvXKNo6NLRoNNOUWWPPqPfr6Gs3qbELToDMosqoUIIvDr8nmO\n",
       "dJML7D5A6dIgqgT7HxnHQtyyYwbo+DMefrIP478NqCFcmAVrMEpymRAfQmhCz95P/sIlxBVNw+4G\n",
       "QnnqDFdxLklD+x+oZQ9CyeaiLFY1Givvpe5DpkaG5HkEizoZKYQ55EfA7OJO1DYQ+MHmkUIX5sQN\n",
       "+spoO3bJVjhtAxOWLUz7l3fzfT5nOucibrL5WWWA7wEaalNAs6LKfUPb7W6lt9emIsotGwdkcHdV\n",
       "+1H/sv0S8AWD0UMDS2KrcYWJLTwO2Z8EcQG7qXpNGpfl7hWPjsck6OuM+60wI9osxqJWd2EfXtW5\n",
       "A1yhDwtki7Bg5e6BAu4dQroo9Bj8N+oHZLnJDwKs7kI9S0XQqJNKagzZlzFPMu1I9tQ5rCt9FT1r\n",
       "+jTh5fJhx577abmUUzFyp2kFZpv0kQITzh8ZCUZTdR3UoyOca57IEKYvV9YLIP5hwIGVNz9AbhHY\n",
       "ZgPiJ+I2vCShObw1hQ6Xlm/0Ugjj7wWX2vZ7imGmvquqWsSnxmwcYpk6PCyxqE4W1E3PrtS3TVLY\n",
       "M2l4sjz6pU72FKnXwEyqaB2EmuzABW9gs3UEioD1FDZMLcxp0ow47vDAGmjdCIMld/IzUBievyUZ\n",
       "tWHtBdcqqWPlVl1OPvgc5NFABUCDdQQfwITZja72c9vbrJlyo+T0A4FRhtQP3b/ocW0/+oJC34HF\n",
       "5aGlme5P1mhD4ILM3EJW89C5maDr78rFATHRG/8bzbU9E9xeLEuku6irMb87Hn7RsIgxKuopnflL\n",
       "/XPB59sF0QV0jyKy2qfHZ1EH0CrS2gUKZvTXWiNflQjvPE6T8otZdbDtShqw7+ClHn/mtCLttGGC\n",
       "KezHrLKiSxRCqtZdAsZDX0YfvrlIyNO4mna8TUw2z4Wr06uu1PCCbbVsnruCklcWYFCrWUL99kIJ\n",
       "MoOMT94237thLczbcRopXGSavXjgAAJfAAAAk0GeO0UVPBD/AABT/ldbb4AH51r6C994vZ6uKS18\n",
       "+a2YvqvMbQxlkjBgyYmECcg45RavNM51A3h5wNibtqx233qWJUT4njWZxXyWEnvY/KK83V9IOrjZ\n",
       "ffjQGgvZdY0O1ILxqZWFWx4cI864YdxwpAjPh8SUlV+fv+PPHMbSGokmgVhUt1xgkJ3hTxAoZg0M\n",
       "vBKj4AAAALYBnlp0Q/8AALoLc+LqACdap2kNImt8pShdkk1rCNa9Eh3OZRoZPLBcHBwgpo/2qKJj\n",
       "joCUyP09d1gx37MHOT48kTXmE5Q4TIgpQBs/A/PxtqZArvFi773DaKNHUYYuYFg8M4z/rARMjW1p\n",
       "a8UInB3xLz1Kzb3kf5EwY/fgTOLdGJtL41hq8QGMoz6Es1OrspqDX+/GhnP+yH5pfaan7dfvzr5o\n",
       "pZOguO6oCuC26sAugsgDQ9LJBwAAAKkBnlxqQ/8AALNw/lnHoQslfhnmk4sLHTAs0KyUDVMX57lc\n",
       "9XQALBYzmyUhKrna+BzfGNT89G0UtK4PWsQHdBB/Cs4sbN9l7YyRZBSM/n9bZj53mgA2QPNx3Sav\n",
       "+y7xyFq3jDkUrVKIx+nziLcudT7R5sCbOFUIRanWXEODWzP+N6ONu9AyORczI0SzrFm8LXIpPAUR\n",
       "BOj2+oq0uZtv+WmAiplcBmrCyI+BAAACKkGaX0moQWiZTBTwU//+1oywABCHI1wArzCJWf01X14C\n",
       "qE8KKt2fnFXVpboNgC/nUOl7U+hC1AhQHGIAAmKcoMibMVMcyWdtQl+UqdgYURIn0Hd/fDDPkkeb\n",
       "1hXLWZGd0SabTbeHCl+oj1rjFp2ekMGB+EdAqP3O6FXyEocdvASyshOya2U9H6PCgyGbWVG1X2TN\n",
       "yjXwGsTlqCeNwf/G2Le4ffMMK1dI/W57dNqDDT9ihE0oewVftULVuCmkmBB5uglibMOhrNTDpYPn\n",
       "OiDjVz8GwnOzfDnMjp5O1j8vwGO7ukzvYr9EbVnHsq9OTaaCFnuyrxSO9aX/Y6LfsAXji4UoV04L\n",
       "0rlyAHOvxy754A9RecFoUU7t+YiXz5lv6OvYIeNJHmOutIf0nVPxpPQllHqxYXRmKSiLsuf3csd3\n",
       "yLDtOg2LkApmdsLHmvw+6ENIHphLlnvPo+9QekZzM/Bk4chYK25E3mjbqf+rUkfw1Xz776SO0okM\n",
       "PjGTSSeBgserVfHCRBvJWQU968n64jrSek1Sc7ehd6K5YsTv+tNXZ9BzlcdsRlXuNcOrnZRe1tFt\n",
       "acTRkv8TvK9jgO4fJlEewbV2oz3h3vkqgH0VY5iT/dZa4IkDz/2P8e0hDGxlQ+XaEwVTujmyhlx9\n",
       "uTjeLbgH2ejzPghAhhLWqi6M3YLSdVZxR+KhYga1JkC25TjFR+ecBkKVayMrlfHSMZgASnxY3NbH\n",
       "w8QI9qtgAIuAAAAAlgGefmpD/wAAtZOVy3qcWHMdvfRNJyRlplltS8ONx5EDhRVEPA+Gb2ADb1fg\n",
       "OwU8KDt8VfLTSh1xoQoZhgz0dYRdOB0Keu+jF7L++TBD39nJt9JdjXXlSFiBaAi6DE7ilvwKL+7i\n",
       "DHI6ze6g9pk+PO9z1W2IPk1swc3lgrdbzMeZJUfewrXLmsWi5+rBzIUBTsQNXSPiHgAAAwVBmmNJ\n",
       "4QpSZTAgp//+1oywABCHHWAALDZfp/1udM2vlnkVWAVdW3RgdbijIb4LBpSOZS/bT6Zfdg9cfsno\n",
       "aYxoRvFuyChi09b4jYOwbexly4NfEqSRVHZwHjp9lNjQBcWNzGjKcIUBC22CmiGQy0pLs29dgx0O\n",
       "fDQl+6jBkqeiIuuizvpMIjz6PBOQXt0BEF2c5y6UpDU64SMds/3UlWeuuowATOUI7wqYi2PYh9Am\n",
       "HDnETv+ZVp+BBqypIM88xBmG5SJJxytkTBONZr0PCr0ywjI8lSQGnRozOaIPx7YDDw0AhvhQ4pQl\n",
       "vPx99Bau1ZY1jlrTJeuzR/B4ucjZ+qSnMz6e3h/NMMVkh6MVeMRBBoa2t6kRMqrvm9/809+H35v4\n",
       "k5t6qQGkM2AbQqmhgAUQeOokkXyLEud7/3yh+0fv829bOKp3A2M7achVqOn/gpi7yqLdDjZagACC\n",
       "ZpKislpwSsYE/G/7vDDAhoDrL7cMU09SvM9MwR8L6Cip+96fRdF6lsXd1jQDPHRC/aXTMoeEe9nH\n",
       "cXyP2Ys/suc6OPFtB7LLrtRlhwUXtC/jxB8TQIbIK521isqR1I5TWfbu3ZA0KjzLP86f28WJV/B9\n",
       "/UYm3Wdwi7hiaKwBbOJqG/2kgid5s+B0syOx5cBsd/YM9mxshueOSX+Ws2n+sr/Z8e2sryzx0R88\n",
       "zkuzEdzk5BOmTn8Ij7cDn4fswzhVyDBGCPOW+OM0x7M1fLQufYm/xD1gr8robi8xRwGmno570Grk\n",
       "AVWU4d0fzqnMGiCeAFO5hjLzoEPXJ6hSPY+DxCWp9a9VrhREYSfG+OM+Vuu/qaaYnybg3dNdIMYo\n",
       "3pRM7R1BPVJ/gCvo0eBJvCJsXvVurveWse1VQ8tebVTlEpmSIU4JVERCptrJzIBcIa+uVr9ulXHX\n",
       "exrLamCjVgBOKiHSG9JCqqSgkDlim0EdTAZkeyKnSZRUcXWyfKqjgZ4JLlambF6wUavu/TrLJAg4\n",
       "onBtgsSa1XtskiLLC//7e6y8TH4zW+AAAAMCPwAAAKBBnoFFNEwQ/wAAT36eoAJyU3+ESAeG7TUT\n",
       "z37XRuYgFQqmXDIm/0uNTRkoEIaPhS+xAzdax0P/LlEgQlx29fy+j5JSt6SW3eNsh7AOc29JsVne\n",
       "kjN0CGk9xOCSxLE/nviUNzne1tY9fjQRWRHHAqTPtpuGRqZ6623ypkU3+/NgVW+Ffd+MOtDPKslm\n",
       "1D1do/mwTg6tCKhjMUAAAFVVwBnwAAAAmgGeoHRD/wAArvD9mvKQUYANmZv1ZDmGrK3o5cwwT0e3\n",
       "gAdQmyL+jNiqYOI2bVjlL07GeOP+GtS8iouZZoDXm4hCi8B/plFKvbGcMBa0hiMCFSR7I+oYhj9D\n",
       "3Oeph4vIzp9xZOnzU58jvlYH7YQlQ4fphIDp01hyUtMJQIrue+mU7W1sxm8066LmzyM5PY2xuFWr\n",
       "QAAAy86AEnEAAACJAZ6iakP/AACxEzmJpKX0lg/QAO2EhEAe8PRrZTcZfxuN3lKkQt/1HlV4HMU1\n",
       "lOQYqSk2ZyBWAmRtM0o3yfxU9SKBRg/t95rD62vukdr/DbhE18lv/BWxLF/cGziMU0hSX87mI3Vt\n",
       "IzSWNMJtIvUcdo0GTE5GhR5hXieR2YnlA7ZUpgAACekZyW0AAALpQZqnSahBaJlMCCf//rUqgAA9\n",
       "WWl+XWeKQAG2D5pCmqDCqZajwuzxkYh14qgGlGk4GVhY2AzoUqCYBPBI5srbOgaqmEVopJlpz+nr\n",
       "Xb8NPgFBD5z6Gxm18XPZ4eVKQTeC2QuH7T4HFNvnljRFODj/TAKi5weXX+pgS3RPuQmMNZwKKj6q\n",
       "loh0UtHy8WfTdhf+bUug3WMqvcRfjvTOcpjZBx168FVAbrz5rN8pEgxorebkeZJZRr/X70Wxj97D\n",
       "2mLW20zYwpKYx90A7G+IRjJNClL6Icar1lfx/7EI3d0Al6Ba8YKwQwRPxf23Ws84WeABZ75Dg1qj\n",
       "EZTWbeXg5HQ4ETA600lGlXGXOi1IfPfrU6uFXIk+PpyEc5Vi7mn+XPwB/0AaBijXfrEdY7eYnEkq\n",
       "KiorAFiO+R0GRGHrSnBzltBVfpxpxi9ZobIvxWHzEi//IJf+Qyp8kFo26isMRUthYJBmANIw9bPC\n",
       "Dvwe6x8IBez6Xtt1kAFVrL1nDTyapLBUzJlin8cucXbNh6HAuL4hPFdKyQAN14NSS/ayG+fn7ZIE\n",
       "76haMs1s4G0e97vDP+1sI8aJfiBAHZGjDWPyT8gMKYQn5ZFbPVL8HyWqRQnJQgJlfa6yMQmBsoJm\n",
       "lD60dKVgQazeWx9nvkHseO4oZHRKru0fTqTJ7LYrBSeNi65radPc2VdWgMB1WmJOl6IUF6wjCGIC\n",
       "NDyi/Rc0u8V6Z5IbluROzkOaSHg9WeCT2KzHrbGkeOJHDJn7oZkC0l/WNDXEAgvZzvWg1bCNasDJ\n",
       "HZ9fePB412bvmPtf7HeTxThBNGbNhJBA7fFJntwgLseo/8pOS2TNAYD4byfQP5yvLgEQ1jQXOyDu\n",
       "tz925DF+OVUb7eifSkp4kXVg7uyobd8+IcaGHzGG/fkRQw3qrv5bLBHZJEYAp3iKyL1xLalLiAYK\n",
       "cVkzSkMhzX2pqmEplNT8ZyYMUWHxBYCSYOIA9/aJDSYIaFFMaxAAAAMCzwAAAJdBnsVFESwQ/wAA\n",
       "THIauQIBi4AAhw5nZjXtNqghCNSFf63QXy4Yo8j6DYxb/fJix1i/gX5A85B1hE8r0kzHXD78QqNk\n",
       "OQqHirDRc4HsgL0fgydsb7+sWP36uBclviE2Jp9g8Z8eUbdlj58AMsrOm39lMb+NzDP8qNkM5FGy\n",
       "VpLWuQJU4dhqCn6Od8aO2sVq2LkgAAa+UAHzAAAAngGe5HRD/wAAqnD9mvJ0I0AEF6SBloD1D+3R\n",
       "y8xivJ5QX5v1x/C3epLE3AV53IbXeTcs1FgY2MWRhugjvRgt4z3/Q91xfIiIfnt1z+m17RXVZN2T\n",
       "EL7dFe9dJhdzUEcVWhuphxD8FcqSenRfJpiv1wA5M0250d3sn+EuU+gV6txZvnQInpEezEjy9bw8\n",
       "Cj/KVspEgWmtAAADAiU9FKCBAAAAegGe5mpD/wAArJOdQxWtAB/Bd1hXrC0w88C1d/+5X+IEHC/h\n",
       "KOfNR8u2Hu4Tbd0340vSjbfjlHbfq7jKn2w7I+77NvoDlSsRy2kl+emGh5N1DhMwphkesxe1ZuZa\n",
       "RWb5jy9Na3eHTQN0olRH34quavVPmIAAAGuvO9HxAAAC1kGa60moQWyZTAgn//61KoAAPRAGsAHL\n",
       "bhua5fd2p/9eGCR1R9r+oEvzxMjyG2sUq+Cd2TKreY7CB8foWeIAiuyzLbLSqoB6Bq1xaGp4sNFp\n",
       "gYTzjEhzwxtOhvcMiz3Gxash+9q4aAftBIrKRpf/0flgUDt4HNQ/bKke0Ujon0+kiuDOMTPxNgr+\n",
       "U6N/lQpnGhFfyzKtUKZn/yFPeWG6dY7b4puyo+czp4ZoTVOig7eQwRaw2jCNXv9bZHA1EvYzh0lm\n",
       "/pg4Q9mYo4w7YnG9vLw6rms7+Ul1C/QFE0L1+4d4QUjISILMff+cTJ0fzeVsU8BKrMlZ5cCAhVA4\n",
       "E/B/MvtrFz96uWcgu5oMBgWSRnrxpWZ4TRlneb4uZ/R4ru8lfHj87cr663ZUT4uldCMgBf0QDNkg\n",
       "YbErOAAKPNHsZlYxI2rBpbCMvgiIckyii7jDd6Mr+H6X6GLojM3xNYnthziMqi2/9udZ6wSSWKyp\n",
       "WoQrlsy5ENU5J8S84For9VtIZnoegzR9C7xpFenlGPUj/bS6o7BZ1toWbQIo2CNzTmPKkoK1YZea\n",
       "SZsuMHwU5sjhoCJrOSBxRuB/nIT6PBPzx7sh0PG/v7kYUFTI/Z2de/OC3MCBVKLQ6vbCDPrt1eWS\n",
       "XfqtCqa5i40fJqiKzPXDhgqDfmL6XWvOEf9VlcJ8IhRbvLK5XgYgwIcOQ10TFesP3KQOe/ReT1NI\n",
       "XFIyLU+qdaIk2sV8DuquyorI7iputROt5G0Jb1m7GmuqrIBII/cREMAdqEdt2l40ct/XdOXTXQa4\n",
       "q96SdUWgrUdlq4bRBb/xpwVabGo+kqHJnbhE7dznG52xd8rbQipJUEruXeG1riXk8zILpd16gl5b\n",
       "ygMYJEF1+pY2k3wdzI75YXIuo52ojnt4cm+yUGz1KQl1GcAIAp3iuKjGTTCFpX5ebG14gBwdmbTS\n",
       "5aa4kWRXgf7Rwqg+2AAAAwDlgAAAAJNBnwlFFSwQ/wAATVDtZYAAdn9YEk70kAG45a5v8hNRg5pb\n",
       "UBPEH40vW1wbUOq7vw6sgjzHyyFX/rQ6zhlF0DrrPwnFK76w6qkn7/tKczOAmmosgjyNVKyuF7KB\n",
       "i7q3fqFShtp2oTix98eMEUZ6TwNS+Oab8DRPHdhI+HCuq73Jn8+2HbYASE98Ik8AAAMAjP4nCTgA\n",
       "AAB8AZ8odEP/AACl8PpxwXXQAaFAtYNL1d6yaF/0boZZ/H2LMsIJTqmNt2RppkS86yJ+CX0Oas3b\n",
       "gIairlosWGWFb3ucuHe0V1/OruzNwdOOCu+sZooBecDFRBlTRQu5O0+a1gw9mE/0bmv9mjvvZpoh\n",
       "KWJHTP1YAABJalxZLwAAAHEBnypqQ/8AAKgTkmPMNRIAJRjUfA6VAfLgCl2HBOTIH5Z6rDGf4kFY\n",
       "QibLSUqA0xPo1WeZ6WpzAzkLWq+SNtWI7Ii2P6vZPLn66jzdFKJou/phbFVimRgfndaZe90FR6RT\n",
       "W/gLNA9pLd2AAANLiaLMWAAAAt9Bmy9JqEFsmUwIJ//+tSqAADvRCR0AW4/dFNzuD9NdZ0UGLyjD\n",
       "XQH+r35glw1Zslesz1iY3ElLRxvdW7hm4Qy9BZ6MlB//84a146UY7tkqL+ALvSjxAmbquAPUU0UO\n",
       "Gxv2HsMve2yXgIOM6VlCp5TC9RcC0beM/a5XszMC0G9GFm1NWcs8+fYI1vOZetHezXqKEKB3N100\n",
       "+ZMjK3nUPzL6flUoGQNjy5/yffLHHjvOVtW5UeROZrWl/3pmVKkSs9EPQT2yCkufA30OB9dN7Y8n\n",
       "n4xXFbazqjYBS/x8ZMi/vlxthwPV2OB8F10H0s1Yf1FffEOzYYksQKIEnyVgu3IdAPCZSp1So7H/\n",
       "v25LwrANPQ1FMzbhgsSLm8w2NmZjuoro8qDi2ILsOBCWZvnAU3cp7XJuYHCCsNKkxvjsVkvBqaSA\n",
       "4o0fxjybBKrBfDKnETH1olibPqUJFFoEeNFeh89ALntfHd1tcl5sgtdckLC4YAyQH4PhXwj1ej/3\n",
       "aHxqYR6f/WMNZ61UO0+QrYEGZPllYwJYl0y21fT2RKYbUXtDP+CmBNvGIPYsrhnXbMTlMKDVMNTl\n",
       "iEdXn85dNsEC3S+lEoxfQZYLmPkWM8ko3iRHvI2mY8X4FKLqDpaGLL6glEM7O/Cwb2oBQbi8JwEr\n",
       "eOoMJO6XprhBudng1lBSH9Ggunxmy7YjzfUXN++Rfgq57uzNfgbHrqJFLkmjs61YvzITv9eziBu+\n",
       "+5grJ4gk7DO/3E9MO2RHm9qhuzi4kGtGoz1Rd7GoBUVlR85RNiVtUpGNM7Ia2QO3Wsdu7lGsvCtD\n",
       "A7xrXujDMeP7bijAt8NGSsAllLzUdENp5/oCkunc6oibme/4OxUeULGWBMtLijlnCxA64HDlDsvm\n",
       "PKaigmIM5STCwcYuSwAvRnIH8X3yns1EOh+NqKhDgJgtGqIC91aVcF7amIQkmGllmpzDRomaW8Uo\n",
       "WEgHYI7GvdcoAAADAeMAAACrQZ9NRRUsEP8AAElQ7ucoAAmjeSnyE0XMIwuMs+MP9dJoEUoTtFKP\n",
       "zavuF4yel9eLtThUEYv8RrBkqkAnwgVa966+yyf54HVVlAfi6daxMpKb40Vt86sRZ4bgHKqTyRdp\n",
       "0a9W/PqiK/Vy0sJ59jG0JaU0e9YDW2lY1g8wBgY+/G4+B/yj18PtQgt4CFHFrTnS3DBIbK9fFfSF\n",
       "/gyUvW7X9PkAAAMADJC0syFhAAAAcAGfbHRD/wAAoXHwmPIKQAgeAzl0hbCHg3wEKsazb2JOOrBD\n",
       "jCg47cScTQsWIFqonsrPfktOtyL+l76DRLanbJl83+Rw6U8SECSzvTgMJuLIVuyN5LxmGuL13du/\n",
       "O/khA+8b8/dD/Rf4kAAAGrk2ygkAAABzAZ9uakP/AACdDUvMAG1XZW9iNipHz+bzpWVFYxjDyU6A\n",
       "nAbcMydBDPnZ9/9zS3+uF5/oJDzv2ec9OCHg0MHnurYWXm7qszkFyHj8Lf4tsECt5rGd4RWeOmF2\n",
       "DzsyqKIsqO6XPEIbAIY+qdnIAABAfunS8QAABuFBm3NJqEFsmUwIJf/+tSqAADqCuDFAjAJqb7UI\n",
       "fxEJNIkFmIahkqaHcbKPpOgIRzJ7E0vhztkHmcl5/7EowkTG+i+tb3e2oBVkWfXtocXRMOd9lQ9+\n",
       "ZKAegwtJ+4b4fiVbKvSkdw4r0mkRXX/lpEXKLfpTFebPdhWZbr2f/39JKZhlQfV3G+5q38/0jRa/\n",
       "0TBJNRoichGZLjrA+E5MRzsGN/p0AS6gf9v6EyDUo7s0VW4wGJP6fMMCyE6Qmb+EA1d2QcnAwisK\n",
       "MpbWj53ZYk3/4z10V57wo7RoSQsBM5eW6oS98Tte2lI4PhB3B5usz+Uf77w49iMnWYZvP2gjlpQd\n",
       "HqVVY6j4X/oxfNWiIxiJb+NqWzqoo/mEEHH5L87T7syycBSikUqVbaTSRtVfn6s5EeEN7P/FCCku\n",
       "t/+JPhJIxhXHce17Bt9zvReAzAVopCWp/1WZnHe7z8TLE4AOGZh9URMEQmiuLaEbFPuzMDHqU+qh\n",
       "bKiBjxbJx655wMN6KYwFAkyQFWsi4wcdVuBCgrxLUtxN63z48FgjIrdjExT/YkXs8bFhomjNrQaj\n",
       "lCQ5/aA0jquazYXgshGhf3SJg+Ae6Wd8sPoZJQIEWaRk86pz/SiE4hR4dk82kWgQEcM0Z/WDumEV\n",
       "X6O0nwP2Fv/Sdc341r/R7/TQMs+qlG/gAscJ4oPGbEBbqHhDDI309KCZ7cThLAKzFnoq+P8EqY9w\n",
       "FIsU+j3VW7XAFh7KO4Zuj2rLi37nz6sGCarYXvu7z995zH9VrhNwPy3XUdjawpcZqgEdI1fNxwKQ\n",
       "XUtPxFRsexY0PwxwIsQujoQqEv/j0qeL1h5Lb7qlek4bCGx+1wqmebp9RkG9jz0A3Vn+yo51lxpU\n",
       "MK9uSFMhNnd1stKCSjKd7kxgYIFtrdh01N2pJuEiIE9GmrZrOp3t7yMit2XAAUkNu1JwA75S14+B\n",
       "bHWwF/C2bv8/oZHc+LS00AKscUgOeH+sHFavh6gSjNKMz5Q7bypz87gnH7pi0r1fMthdRK9gLrrm\n",
       "XnUJF18mAd0L2kY4ykjgbumLADma3SELjaolvb78O7m/BcVgyWdpK/wu4mm3SL3P8a+qi0prW0EQ\n",
       "F/rlNhyEOZz4CRnAcnInuZ/w5/AKkzOxxwIMo04PyfBhOLtTSXGKx4ufxrv28s3Bs2gPKaGRCoMG\n",
       "e/6PjG4jVqtoDiO4ytyi/bmbw4JNkn8ceM2OrntLxceT0W4u2RChh0VbSo082MDB7eOHDqj2uNTU\n",
       "jpg+TeFMsXtT+J45r+pZ4LZAXOOuGADZT6I4CGhHKXKCfkZ1ppje7lifWbbeJpn193BQ3OZbd51J\n",
       "90w5kbgyKWH13iB1NwjZJE9xYfnRQuKNlMhVYZewe3/r/BmtlcNGP42Y47th48i8dcp8hgNFyVuC\n",
       "URP8DQqKPu/q3DBkQ2YXJGXOXNQ3AnLe4df0eblnhDolbUgbodS3pA2reWf6glC8ddnTcym+oIH1\n",
       "uaP9U6Kmew/o12sQGwQRqjxd7owKEXbscadn8g9HWbcQYbGZiCoGMvFufR7IddZmkncYNjNOEHP4\n",
       "eYU6iBAke8qe9IvN0TaB0UH8roW4QiNZQt20nxFLDpcYH7p5FPbjVyElY9OI3fD8GLQVINeJbKXm\n",
       "QpBJERKCz6y6jqhaNiALD1fNqqIoptMEGxVxTWvMHHLUN2FEGWQBpakDjA6FBTa1EDZ0G3aS/UUo\n",
       "sLMAQHvsfGzUwPWTzRoq98DEmIw8hzK2AqMQXOhHgXHCkttVq/2Op71Du9BNkvaVXoeomApQ3HpZ\n",
       "ZBHYWBeQvyTxd+U0E0Tfadb/+1J9b6v+PTAbikhrKUJ7C2zi++ooLKr5WfGP5XqDQIfYWrzUn5Qd\n",
       "T7NoFYJmnwd6c6j/9CKt/0zwoM/leJjoOGSAFgl4o2AQnN7/X+vwUcV2Rjx+PWv4NieKwSm0OKJA\n",
       "3iaM+M1OHBZFX/QAER7sUvm7ZLpLI8VDKbUFL/tZsl2FbdwHsem2T2v6k5XkXMimj2YGZVDzsx+H\n",
       "NzLxM+Io8HulXUI6p+qJWTj8srCddTKnnds5gyywOsUHQgFS3E29KH7+bolSGzE663NaHoXtyhkC\n",
       "56sHl1UpsKdRNKzepRKiR7Antn/7mPMzscSkXdOvwh0+/s4FXFY8fgTlt63jvadr6iJ3fPnsRgYz\n",
       "YuaSZfDwJXEeAka0vC8j3NRdddeOd/xtURN0GDLUPzd8o1h5sU6sF/tSRDXMYqHDWc7ajW/8HfLD\n",
       "k/f7OLIdXSMqqz0J+Ib/opo4mRoZWN/8zviI4wL/IwlnkZLVP2pcNQC2QAjFLhvrIdd+6nPk1qwS\n",
       "CdoMT4d69DMsMHpBs9nSxctjV5i4LuAAAAC6QZ+RRRUsEP8AAEdQ7qEdpEwAhHv2D+Gj7XqpWUn3\n",
       "K0N/kVreghR867As/GuQA8LsK888Kj3HvlX3tRSaDDWvi9Xo+f0ah0KHQP/vAMo14X83vv6Ux/+Z\n",
       "q4+yLlO5B/hgzPopJeLiAkeYHnXgNgX8Xi1KfOfFYP15rAGNPpjaHEYg13rQt6C2ITrwXwQFbfbX\n",
       "CuaY4H5upTAaSao3pmNxnsKIaNP7WRYOyexcyXAsgU9kFiJzdPrq/A8IAAAAWQGfsHRD/wAAnPFO\n",
       "YSaiRACHU+W/7+RSHcW5aQoYT8e0JRfrFYAMqZNE8CiCM9ARGiDUIpQeA1w6Q4r/C7rvrGDhKbcB\n",
       "ZtGgtR2bKMcDtTjd14AABAiatD5hAAAAsAGfsmpD/wAAmrXcyAEKeqsKdqSObBtdV0LxH76rbG6S\n",
       "Vs6fIF/QRDlxWB8y/gEf28F/FQQ4s8x1ETTIcTTO9S5TwflH1R2SRLaUygMy7JGvUECIBv+lpKZ8\n",
       "1slkykKcOn8rg6Yh8x8wwGQfd30Zbwqe1aGHfeXRy6bMqneOqwLO7ierfxAeeGt4xiNQZ2koRs5y\n",
       "kXy6ibswMf7Q5ivwSNdrhVoLXpbqB9tXsM4TcaIeAAAGR0GbtEmoQWyZTAgn//61KoAAGMqTQABE\n",
       "VgmLw39v+BdcsSgKMu+2mZwpWkEC3vlQeiXhHdWOWcgrcf4CEzkIlGog1b0b/8LN57l8PR5kW/Pi\n",
       "/bDvVAJ1/eDZvr9yyJsaRZVcxDxH2J0zslCbFaqk6gCWB87MG/qQW+wp3KcHA3T3jfKEv0acqUl0\n",
       "KVtZPcRvKusEzXSSiscXP5fXqbPKp0jRMX5YfL0h3MZE7nTUU86HIGurHeKpSXLgTHel7T/jV90w\n",
       "zOBPV4yu0rBsG/qYTLA5ZlKMmg+LoEN1NFsiIOMM6Cpe078VCNUwUORLdnrA6ipSjui8UNEXAy3W\n",
       "Zlm7RUXBTzfuYGhrD+rTF2aeUz2VIFdVrRprBTgF2iDCbpbkBspIH0rX0brxwHX39BXJ8IWqUa9F\n",
       "0Ydk9gOiEcW9gVy42pBqC+WyUbvvlsG0xfZLZ+RLS5Bida3Y/TaD7Wj0wkWHl/mX9BMDDL1ACzw3\n",
       "60VKbGT6SLTA6YpMFIZv2kuQpQx94iTZ6Jh1lpqJ4TTtpOUaIDGVDl4n+a/mQdeCZWKWkLRc1okj\n",
       "2SnfnR7qW3J7NcTGNuD5MQ0toxjoeYAUqYAkI7p+jnMBr5vk4tICh0GolDozuw70Stc42OlWBPmZ\n",
       "vhsNAgax7nUNpfwtUoFmnIEcDu0utq1oRPi0puppTGtv08lDko6dNOaIiD4VAERnSweSwCcUDkcV\n",
       "Sd+Fm9UElIORHhlY+bIq950rPqkUHiGhiAK3QCNza7fRBNL+v0OrJW67qbzdONllBrlPWqCrZuhc\n",
       "d8yc3i/G2Gr6LM5CN5dqyh2w/qnj20PKk2GdO+BUU4eaKfJvUlTt9TifJzhJNwXcFHK1OT+dJJ64\n",
       "CA/s+/3+lvmJAJr7DSEtAabisVNWmkRDb2sltjcnk1GG2g467oRog1neHc0nP3Uk9EB3LYZf6DpN\n",
       "snk4fv8TqVSIc37iULzHmT1JVYdrWSrsZPeUzh25l8GWokD1y+7J8oIS1LzlsnWe3oZPu0+aYnyR\n",
       "ne4VZqbXJjuL52g9i6iP/DicDeDI/QYFIgRfDr+wrt7HLhuPpibmvpHF8UBYR4+tdJu8T/wevaWr\n",
       "CK1su3P1SI1QdR4jOrtYFq4SsgAaw8r4bgKt0qutQFY5tdZz2VuEs7SXItFYyaR9ByP6yn+DTh0S\n",
       "EtApn2NkITh3j0SiPS1JxOQ1dKMTmjf3v3B9qUo5+PLMNvkYkYtCutez7MJ70hiUQLJ+Em8jQDt3\n",
       "qn48Lf+TV4d1SwfZtn7jDG6MdIUky2N9bkGXM2qeA+HSvUD5BTVQ5gEoVmTDb0xQf6fxD/9Mzy6w\n",
       "kWXoXLcYZqujbblC+q9SstM/DZ2W5+sL42UPEA+O1TB5TyiEvW4Ee42FZniaZuA/TuNEx+l5wH2O\n",
       "AlHiMYtFjcrDxrIEg+JF7cGLT5Swd8+CxrYSnh3qntIq8DgFLl9N2kqIWLb4lLvwbHU1gK2LpEZU\n",
       "/nTPRx0TASSI3WzIHVPEyslq0GnhLmHtiCl6GpE7c9CtSsQUy38thzgXtGqu6re7n0H7U6F86Dh1\n",
       "Urzo7HeB0uUpVhJNtTLpwjUvQSXY1MMlBdxCa6GN9aN9XYnAOnVfIutYuz/+k77DahchqVpBDSMU\n",
       "tzi6JLr9jsMmmHkI6sPS6cN3U+yaMNshQyyqgaAVaqRcHydFUGcqA/AZcjY/TSyjq8dlGbJZwOUN\n",
       "le8chBGcZLzLwVpoSzesDp37o5JyonE28BT1vMXI8e9OJNOiaqcSPTCh+cNj70ECRrSB77uW7XbG\n",
       "JYgsWmf4A42OuLDrXGtKS/en/t8gQrrRqU/HBXJ2l4Jc7//Y7TNpkPJhOY62prje0y8KcTk29yVA\n",
       "t5Nz7yPXry/OB/mhMMP4EHmurcSZw/bRm5tKySmaIG/CtMxKF6A5kEW976Yih8oTAZZOFrj8dbVj\n",
       "qhIrchufkF8x16EhBGK0ROG5gW4p+MyjGvDzdXRlTHlNSgah94ERKBTgnavw05qf8vdQ6G/GZTNN\n",
       "YWWb6cr1c1JT86Ec8Wn2B7QFYVWWDjxT0QLkUbr8f+KApEAV5ydMtsT6OtDFuAnfX12s9/b84ZnM\n",
       "glPNR6FHr6alf7WRfydZ9r3feI2DU38b/e94WTACKH2iq443/kBxsvI+QOmAAAADG0Gb1UnhClJl\n",
       "MCCf//61KoAAA5NcYAqANEqy/XTE9/eFo4jljvrC1zikO05DhvHnZVQ/rYZwp1atcqqCUgIStD/d\n",
       "yjTeqkEkLxo7Lvf34qizZ9Ghvp/BF+ZLOX5lW/gkPtFCpV1cxe5SEZyu2SrvLxMclELv66IvSdxL\n",
       "PS+6cYhkSaV3aHVuJjAxjjfwUq9QPqz51JGG9lZudj8Ly4rX/vzcPDM6dQtPeZccKNxQNk16A0GD\n",
       "iUsa/ljyPteDCgGREWqqYlnbB5adhtf1mAmQ+gnIR5H2+YBdfG/hOS9TdsVGnvTomoFfw7n0vnpV\n",
       "JivRfeq6VgpO/KZK5Z244duK1UX6AhzT0tzwFFSnyyNtfw1gMpwscuNBtp2xb7MRQ7ATwS96OT/U\n",
       "GmuI48BVnrvqh1h1iGEboXInMuRTioEPg63e0HMXXisy75sQ7dRTj1mDSy9g5XEnw5wMexteZpH4\n",
       "6wBECXZHTazDnOjRlaDxRk1zC3fPnSxCgpJuf5fNQ28wHWPY/y56mqMTNlh6/Lya+DWhzXFLphm0\n",
       "k0MOVbO+aOVpo5v+lEsRVdpZg7IPai2BZIbuWru2LMXntcbfeObLqBPgPGV15OnH2ViytgyHw/Cg\n",
       "X1Ma6BXq3Un5mDr4hsQaz/hS2hABBEQV4UIrssXAHnu87yhkFuiXID5CZEcWaRyV+bfDte1geiPU\n",
       "NB+DKjJm68b0S8w4e64S7kFEclKDkmqI+J1y+1RTMfItKRoKtesZ6esiFlAPhJXpeoNXwyUhFVO0\n",
       "53C3MlwbxEakhWmbyOx/c9tUqixmyBKh7jCXZmCi8LUvuzinQsNF3k9vmPynJ+o7HWWAXULWEUWr\n",
       "YbLZ1mVMBSv5BBB/FSXV1EErX3BMIgXrA6vppioLU5k61Js/6lEN35Sc3yt3NeX3/VH41WuAnyKT\n",
       "ZFvPbyOkOcni8e2PaMTKMwETsnzkdL16en/XhvYUYFDLmPOCB0vP2Gy5/0aUXZb3Bh1kG0fSBTIr\n",
       "FgBrj9O8+3crJn8hU1S9W4F0mUpxXUuwZ/PwL1fBTmgnZf5pRAhN9cCkAG4csQAABUxBm/lJ4Q6J\n",
       "lMCCf/61KoAAAAMAAkDhroBZod4KoiFo/oDXTpE0P0t66nIVtAGxjJ2+PV9oBVxt/Og7K86LNdkI\n",
       "vIOLyfCv8G1Ov5FsiabZaD3ytpeeO+d+j2BAYXUf7tJralqWdWCdrqq7jjaYYjTgwsCyGYEidFth\n",
       "kRuUw8gcqfcmhE+01IMBpc/NdctTjNmAAfbIY/YCjvbKugWzacUugTDiriNHaMixPV6FPTjIvR34\n",
       "9H3lt8eoFOYan4c6ucmwG4bgFRNChPT7r/ZvvfDs0kKpJihfBMBPDfD/Bx/5sumRI3UvvGPbNLTa\n",
       "ufHoAKyjf8YSZmDuny1j39Zom3HLJF+IKrpyXVjtxQ8Y3n8c5OKPj9aAyxnx0g0NsprARG6TGFE6\n",
       "At2CivOTQy+OJYTw5MmFJuhe++HaGX+LFCu5qKbFzqMK89V3Z0teChdiSI4vUs4VGd9HwmKfPAOF\n",
       "C5aC0uxfaIjNPFDc2rtks6+Ds/iVEcr4Bvf1JNQuHU5QPtax86g5T9L+eMARwpIyAkEcYEJnyXhc\n",
       "9i23TeovmZceOXLGWtgYiT3GgR6hKvnJCVhUYSeNbgHssSzF78d6D0+yZKWoEubuCmHyAS7EYlUx\n",
       "VaH36wtZr9KB5JZxPuFDhC0tMOUYlFfnoAiq9P6AuHlW56kPwW522y8Oy4dNuVZwiHTK9VcnGdUT\n",
       "N+30WQcRPb3JqF8zi8yQOP6skkxAO5dVE9Ic+c8BKQdIJrAHcdBQbqNLX5C0Gg/fMUb761XnwVe/\n",
       "umFRkQhHwN3NnYpbUKwJCwcPmlBhGuh75sF44NH4YvGxvWE0OKPo14ddbQGc147wr4gAAAYzfj+Q\n",
       "SpTFVrZlt/A1KkKdp9GKiuomXmvIH+AfgNjzvJHbjgcewoRD7wAjk3SdhJAuzjtAHb1NVGryEfEl\n",
       "rf+elTG9g4opj+fllIhG1MfaIVxzeEh76gYjhFOMzafnxfHBU/coZRlNo3x8YnUnuZZkc3SSds53\n",
       "gY4necAmlyjKtlZ/+jMQilHOBcXFQ8aRK9KpudBRdwsGejMBdVmBF/3X2FCUxx74YzKgR9D3xIyD\n",
       "+nbQdHqQ6jGNj7t52OPjfT1/2YsTE1OgzD3ycHvqyTNkMd5+KyAHH2KlpdqhXStuIRyla2+fQ9Wz\n",
       "JLTo0W+JrVeaMUVO+hwhPqD0y7xmOhnwCNeP7WDaabBbZ1v+gU23kz8oVFRj/tMC7hrNsDa9+5hK\n",
       "bUyvJLnsfbjk+MdmYTuLFrCV2ZQKLIW/1YZVf3pTGLHK2/b+0VPG/4GsF4hP5G7odmAx7EYrF82W\n",
       "quSeBnT/iR8SQ7SfFNODzCMAqgcpZVh0dEG8UTj/ho9VVm+wgdKDdhnwwYsulyzCW/bMRhKase63\n",
       "zWtR3s9VDw5DyWXixYtz/mX6Bw6oM5wTcJwwZQUfdwP+8jf21d/a8E6x9yPnHUnv6SLIhv2/uPlB\n",
       "NnOj3Nkj6SPH7obJtK4ZZrk44T/CyUi8OMotpWblqXE+/7MFDZRCGuobcf9nEOBBvVmIteyV9dR6\n",
       "qBxtiKRktB+8UiPMO9ksESM8sdfIrH4GpJ7NxffpQi+gpRcBeA3T5IIwlOB5tzBAhmGB3d/Hw5Lo\n",
       "dRfIK96gLgaq3w85kPkIo2UBMjBehtzp3x2IasvOcj9j7e/jMZqK0UOnhQ8AFDSTMoWnKR76V6xk\n",
       "oFxMxLGSyJWPb15J6GeJFFJDuJljX8DbSX0I73P39OvXHFrT2l3DRXQ0M1yN5mOSAr3lRMNynWgT\n",
       "v0H1HNsbkvboEx77+O9Ez2IE8oxS3Chy+Uw4rcH4O/5B79YjD4AAAAEPQZ4XRRE8EP8AAAtZGbEf\n",
       "YfAp1lj8qB9NOEz3FZuHyyEtu6OgBt8GPH7VOHqkgg7gtSWCcHtFK+CTOJLTPLlnL4OVWC/Mncvd\n",
       "04MfhEi/7JBtYp48hhyfF0cKS7Lfr+v7RV0/HmFa1CjnHOoNcXJ/b3PRX4NI3wppghgzqADxUVWQ\n",
       "N//DixYqlmeTO3xEq5ga63vhoDz3irEPHUlEf38SP6T3vv0pGA4jnsnqgHiWkGYHlDT7oE3Rth8p\n",
       "hwkuxkegserJrk9yC3zkI+Bmu0Wo399eUrSKtq+oOnVQM0k2lmQ0/094wM3LdLxCo/s3zXkrxAQy\n",
       "8muyBFHusokESz7h7b0CUqfxUz9ASwsRM4QyoQAAAMIBnjZ0Q/8AABkbpJuCgUQ29JtR83ly1GPQ\n",
       "uuPlZ3HEAGz8SnsNzqYHpFhCafGGzD3b5mY2CV9PI5BX1RxdaUPUWC6wPmCLS/zyAunzhrDUTvoU\n",
       "LgnB3tJI0VEDnmqUEcuodL0JjDerQcSz+W0vv5lM7CuIzG2p9EXhfR8mL7AKJdlIKXx0JOovRzCX\n",
       "ynvCnu/g0/g01x5l/gGX/UsTABGbaybOQhzbdr8K5T4xL/JFk3mDxezKWbIrCpGgv/ACk4Ql4QAA\n",
       "ANQBnjhqQ/8AABkfHbR761GEIQXPOHg1xgbknhAYcdggAt1EIye198ZsmR38R+nJqIm1RnXZq3uk\n",
       "p+etjVLmF6DUqaPu+OyTr59KpBa2T5qJ+M+E9j+Q8yTAGjw8COyL8IA0VNbKu3ePIy0j8tFRQIC7\n",
       "ysxoFYM9eSGQE3Wjpn9En4roF28k87/QxdCeHsdjEXc50h9u+E2gUFRhwtasd1KpJTIXWtfOUcRT\n",
       "wzkDWWPnZbjhmcTyKLEUV6GUT2oB7vzhMmCBwNbmgzC/eC4kgM9h0VoVsAAAAzVBmjtJqEFomUwU\n",
       "8FP//taMsAAAAwAAlCkWIi+AHNjZ314f8tS852biZwkGHuxdzJlIJAgPqAFC5zEI8peh35ALsL/J\n",
       "Ts99tUSfsm7bxDQzINUKDxwMnaWl1gSI+JVr1FUSLb3hYxbzGNm0hbEEjxEH9fC09AWoILJbFiK1\n",
       "vAU4Opt475PMZIk0nxjJRr+YKVJTp/3W+WmZJtdk25aPk49+sjTiKinR+5Dkcnwc2q0/a1mho8yJ\n",
       "r+YeHEkqKcs6bqWWeNggerkmzJ8wNW+5wvQbUZJfof07Z+LLZwNOJxJtrQqmG9qL/hWpqQlyn3tg\n",
       "3oyUL7DbITvGtII44++oDwoeWYekgUSSZQnWgzO6WwOInYYUehUWvkQq7jTDjeEjbubNCjKm+2nA\n",
       "OtQ992EAVO8HISabQy36RWAfoMjnD6b+gP/6cIlPvVo8cYvDrLfqDujMGe2ewe+suYl0vYURhstZ\n",
       "tBksiiX0PTYiPbul4y+LtAUv4B5gaTrISfA1AOUcYX0IWM62IGQnQlQGHihUEixjXPrQfvaqq9b2\n",
       "3/FSgb4Ae0HI8yBSRA4GjAtE/gI+m1CpJFg0xu9xStUABCR9ZIvJP1MZhGDCM+RIl+8raGeNVj+Y\n",
       "tjBZvlK31FQ/qrcnQPhb/fX7kdGOJ6CpiitYvWX4PMNotWPBaB57dIyvJ5gCQPhvY8F9qkOd3fVx\n",
       "+eG7oYdVWeWbX1IA48EGXRJyC5y2e+i46khIeLS5v9te2WEvIfQAh8s3Y1XjLgPAEEojpIGxDZBe\n",
       "xz/b8UeJqe+wMOgMkD4w3Kf+lcsrRpP6IlvqkDwM07LNO6/QK29fOaOy39N76EuwJSGKgckiIjBF\n",
       "5/iep9Zr1n67G4TvqmVr12KN4VYdhtqSnH/zGHGbvHUCCbvFzoC0Sd0Q8QTXdB6vvyWUukuhzXsK\n",
       "x4Sf10eHTgeE6LVpl7KF9oEtAvF7mQGozmnu/j4DQVIjn6eRbEjPVI97p2ZM8GqVv95mSXeeXJyK\n",
       "lhU/QjUVg8HqlM/TbNgqtq53vTkT/mD3CuERydGBxl1VWIHLZqnadxcEhXmx+tqRzo7SE3y0oL9D\n",
       "XWQoVfwKiVs2P0A44QAAAMoBnlpqQ/8AABkgyyNkgKtWKFH1iiZt5AFV74RY9x6BINaPgBr1sGGm\n",
       "Z8l0/6dLmylOxLXJwUaLb7dveFYs11TsRmuoFX9ey2oq30iiwTMG5piquMHzHUFCyqDSzjHkgZay\n",
       "Ce3sPLsAF9T9h/AyYBU5FwlgyFX59VfrzeJRAaVbEMuvD0tnpzUHNPyyVjDjtVfd1uAPeKRRe31k\n",
       "sI5+M82nT1Iqj+Wjlyk8uNFBRQGF5me/APtbTto0xeBYUOrvc0178ZrKYqRW6hDwAAAFNEGaX0nh\n",
       "ClJlMCCn//7WjLAAAAMAAIw7y/AFB34NCAI1znUB1E1kUy17ms2YMilgjwDB/5h3yjuPwKqIKhb8\n",
       "xgMlxIfgPlXSo2D3DzUAVkIdMM6yK16gtSSO/r2vtkXrkTN+UXN1wRYMecUBDWC+S/it65nU+ARD\n",
       "vts+lk2BkO7sWJ1tmHuk8Bd8blXeh9OjP1DgiH+kZryg1OWuQ8xyjuHrKT8rl0CNOflh9a5OEHfa\n",
       "Jz4ccS424oDZGCh/DkF+TDrFxyCHJl3EJNf9jrE3gbQoYRMUBrVbZkb03C+IrPMoVQCZwRCJUN5Q\n",
       "KNxNv0nSael96hO6AaE3gqeQlLQe/MfESurG8FDZaW1XCISrmt0PlwlchM6pFw3AY4XyWujtE0jY\n",
       "w5zY4KOeRp6aO/+h8dG13ntAawVwi8ZGagcBIlCs0IKxIGdvUS7UgvzxPCt5tV6ORDpwV3D2rRBA\n",
       "+BuHMY5UDacYSl78KPWVcnPUcrsBr2Z/n4h7zO+pvQLuUxzMMF5ffIFAI614BoIj/H2m3V4JfrTp\n",
       "H5izP2NX6SoeAWbn6oKpKBSE8H/uk1KTl6LTwEcgVNp0He/UWO9KCC6zpEgzGSZyZpzQMw9EOqx6\n",
       "e0/S2IXQMMn977KoOYrBkf4T43CnHAJj+sXh/axYAs19YjdiGMCBTY8yb3+COMoiiuj/C6K3lxuK\n",
       "6NtGPlYGazSmJj6SctZfkdbH/5Gpqn+MW9ry6WDiMYcbLoLIMtTOoIUtl1XUcviqlWdpRZg2jF3A\n",
       "2SgSRxtbtgCKIDihjp75eBcmLD5yVx9EHpvolGkjISin7/dQd0cJRxGAb/SI3mxgBkyKuL6TwA4R\n",
       "CyW2ebSodaYpLe6VF/PjzoSC0v+Drt5OIWs+DsiV1K81q2njyR8DRf/GuxC8ITM3WHtEupRqovyb\n",
       "f4GKKJcwM5VkFCK20LXI2WdxjKSJTmStL08iQWfCKU9BM3QXUzlXl6/ZXl6KlkJwws+l/1i2b/wm\n",
       "l+fqAjfT7klwlcoZTFUESXR9+u/g5RWZlvg/9Sg5f6fUHRzUDITmrhz2YQAF+KOMlgJJE5e8qxZn\n",
       "adlniSkBzzFgkQJ0zlFyriCMBTHv5HhLO7XxPyU0DHALwE3HQkXpLwx57G6COGlzTT3/1PRF5Oqd\n",
       "ovvRi97RUDrcWCpFL5hcxQ88bH9lH7G+scQYwTJM18m37V2A9SWVqdWSab/fruADKJmTXCOIyHuH\n",
       "kJ2l9fhQivZPBc6x0XqmD0TeTjcBvxl1ZTutu4EYyaEMhgAxBPjLNUURKVqlg6HJ1DHK8D1evOlh\n",
       "YT3MVcr5z2jF+jnosh8OnN9QQkmp+0SnH9+aTGGY3WfSvsORyNpfGwbQ8x6NsfXZ2q2aWG48T84Q\n",
       "vAQ2sbcTy9Q8r4+SWI0YrsV6tjY94yU+eWkCEwATDCYAIP5W0EvTKSoKP+FDY86yxKfFFvUyBUzF\n",
       "PHNRcF8Pj9ohGnm79ppgzqLr/HunkomVRwh52uwJls+uejM/WsrsOQ/dmcCqtdtZ9BVqRlmSxVcG\n",
       "xo5j/7mrqa1051JjzlBYs3xVdnT5W9WH8Xp2DnZ7W8WgteLSXGRTxiGxImGGKmq4H+mX84mGo2B3\n",
       "VoNeZ+L+TO8el+TTFaJKPAHpdhCH0kGQIEsOfggdi4b4zfxBIucW5wCPMnCeVlTdKup2lyPtRrl1\n",
       "s1bnX5bsLLpZeM1Uw0D6KQlsaKdfbnFJidvK1SwG89Vex/NoZsHoFoq56gSCtN0AtDykP3PoAG3N\n",
       "rygF7fE7PLqmZYkxJgK/KwAAALBBnn1FNEwQ/wAAC1kZsR9h8CnWWPyoH004TPcVm4enyIIjJkgA\n",
       "nI5/MxRxtWbAeDQXXrRe8jdTvxnzy4rbNMr/BuLwInPBioh/b7JnkdSwzQNJsilCIr6Tt8nyP6Kj\n",
       "vMZkwvhxorG7u0UCe3aFKozwb6WXxQJcAeRRTbjfDffkc/NqzUlcHqVf6cYuGYGtE7EuyYkspUmP\n",
       "7v2zrCnYLnGYPf+g0H8V5AjoI79X+8+ZswAAAOUBnpx0Q/8AABkbpJuCgUQ29JtR83ly1GPOC5vA\n",
       "C2xcbxLkJWtfppWu0yiF3daaSf1gEh0iclBI8DbhIzisCYiC90KOIO4WfyXxdCybvC72xjhlUNps\n",
       "ItOOryzhG68gz2/NMplZuXQSeVQvqh6mZAHDMeHoyzSnoyZMWuQJqh/Bir5nkKq5AvWmlb+vgN5i\n",
       "H1aFlMlnKzDyWtp/MRZiTDMnL7jcSof1Qe7XocGnRcbImQ8yYjMC35lTTAb8EAWcXhc8+YFjyk47\n",
       "itvOymxmDM16AUjclGYgrRY1xS68gXTGX+mj7sbMAAAAlgGenmpD/wAAGR8dtHvrUYQhBc84eDXG\n",
       "BuARJcxZV9uWufXyAGvh0j6f1rzNyThMTF/yAqZWmOXpY0EPd/s+dvj77Cr1Y07Pbm7Yh8PC7Z4c\n",
       "gp+37U96863Y9spsO2VbvpcZpmqjHHn9T6VyQF+WJAG0WJsGkIUC+GX2uO/2ACGFPUWnklGtnNTK\n",
       "P3K3JTl/qLN6YlDCbgAABQxBmoNJqEFomUwIKf/+1oywAAADAACI8//8QdNwKC7BpUhB7mfru/bb\n",
       "Jlij3PRA7PQyrMn+siA6UYLHi9q4RBqmCZDUQHUqvk/aI0hqmQWqp3jNuXB9HQ/nngHB+RqtpSKP\n",
       "SyH3Xf+pM3rotgxQie5d61Vlb4E2xJMPmzAyGixmKG7DXrJOFGcHXZFKXzVUz1SPcR0iNHuUxYpD\n",
       "SHS8szSjQZDZ+W/7Y3L6JyzKH4WA4qGKwJWZ4zEqCbzF6NDkokaDRmxy2WwLFtqcYeZIdwvUKzK3\n",
       "Ch7fcLRTcNJ65GImOHZzUFW8Z7sb90utLn+AbRmAWagYa4pGBD4mpfWMLyvNbf2GIMbyVRAawUAN\n",
       "JlE3pN4GAFqtN6IUspyMXxVRRA0sf7/btfFkL/a/kweGrAV3FR/WV1ObcRocagoG5kwxIoa6r9OF\n",
       "CpGv2erEMPFsAv+aBv8KuGb4RQG8w8dBLOFxFG17AVzE9WerS70rpDOvNIIG3s1PqICVgCWUhUB9\n",
       "X5IJ3vQfIY72Qr1YjDZjTi/jnCnq+SCfhb5NbcPaCaQIajj6bC58kKhG9fOabTFEA6NQJFgPIo22\n",
       "yqnSSqY6DP+RgKP7p3ZeDcBfFzQOj0FqPGEZwtMg13XIIiTvl8/LaTKK8ZP+3QzrPCksqrrNQSlz\n",
       "JnVx6GKP3n0NGCNsRWLubu+EHmNclSQuoQ22xqLsx5EEfFRFj41vLgCu+jM9qGCi6TklqICBIEOn\n",
       "th6DVjY0RC3F0YYnbxlzXPEjrjtNTZA5VHlS+7xdKBUxIeiv2x7NAbowBTwkZPkygjanFktXtL4T\n",
       "JrCEKVL3J2erQO1S2MbdXUuyJHASpAYy+qjIyUOLStcMogZRy9IGWc6xHn5JrlVJMeFWvpyfc9iw\n",
       "NsXJPtgO8NYA+0+MBDHZt2RW83mSXbfyDtaCaiHpoy7z/GUAQ4y1lUjyyYXYq0XV5WdqRd/2qkj5\n",
       "CizCZSL9U9+9nG3DmxQ7YmHou65FJkVSI8z9emp2itg9S34QdRlo2piQOTu9VYL1jROdELgEU3hQ\n",
       "ZN/Z+x9kRAzz2lgkE7qi4NRcRl8MPIELjOut+5L7qHxQ9rq2k6cILUNHC19C8RzHjr51A6B3iUmP\n",
       "cSXLLTLEpajOf9dvVUw2Bn11tVUnfkIoUQOXpgNm4PTbCLVjNMgkDRiS6J1EpXmB2vcYGqgNXKoM\n",
       "5gmAvAEvyjxlwvDTWRQ7iX16rJLdbW12B2JRLo4WkGupetBBWjuKc9MGqt6z5IJ80AElpjn+NJlW\n",
       "buBCAHztm0lNzY1Ifs4ej/IEumAVtgQlPLHWPHdWOiKtEDBnsfDv99MxcH3bsnR+CfgUK34caUXb\n",
       "HMSWGa40cuiD++bIwHs5ZXzNQXDKHCI4JbuPoN+tGcf64ASeP9qclIIfH8x46a9nTg2cABgIMt3A\n",
       "DSKMZyEA18P/w5itVcWAlDPTQZIByWimLCyD34JChitoRg/eVYEcUI1UsNKe7JfX3tlm3hTNuLfp\n",
       "flxV5x+6/YzhyRf64qTZaJQnw8T5sd2VF3zwENvE2pGFqzGilzOdzIbvMhqLexU9VPRBN0kvYORQ\n",
       "beNtFEt47o2/KBvjrQJqaQ/L5d91TMWyGf+yrhhPK3P3QIglgIo0VGnEKea+0yDQoHvxc1+AjJ/u\n",
       "y5ydHvOwMeTXOOqUV/l/jNfF64qrJ4wJ1GkdwSGKlbnAnZsQ/AeL8bsVisMHdFCsTUauaSyUbwAA\n",
       "AJ1BnqFFESwQ/wAAC1lpm1N5KdVmEflZd5p4eaYrO15WkPkhCDjRDt6mwBV9nU9LQaTPc8vOrxFo\n",
       "iSlBg8F6LJ+8pxvU2659zlftm6BT21cP7CNU7s5hoBfigz7syCaiAausJnI1yBSHLGYurJMbTU2K\n",
       "PYDCzxlggb9QAn5pHrkHiCuvdvmkQ3VJhMSlASC3xYE4WqQK1ZpL0D3oXMCAAAAA+AGewHRD/wAA\n",
       "GRukm4KBRDb0m1HzeXLUY8zou13gExt8zJUYTxJ7mFb1WgMrg13tX/xadj37zAdgnuDzaCxtosUP\n",
       "Tb4AfYy7FfLZ/7v0WHuTAp3tqfjas4a/NfaPayz+r1wtCNjDZjT+vPXfr2XWyd4lOM76sVVFXhTJ\n",
       "l7WcHPfB/QDdI0pcG4RfgbeNZ687JrootMp79f1heCX/MtxzDvLL3w7mQFTARBjj+MfIwAdhtSZO\n",
       "bJaZQ7pWw43IfsRmbS3NiAIX3hWUx4h3P1RsHTSB9iZ5S0TW0TQAAUWHY13J32LY8yCKftiOBoOj\n",
       "3oy+jptK29A7Uw6ZAAAA4wGewmpD/wAAGR8dtHvrUYQhBc84eDXGBuAQEELdI7IOs5EAFykmqYIo\n",
       "JYSo18ute+OQsahDrphFgINVKIQmNk3QwWbDHIZOIy5pd1uVvAtBuM91jT7NbFXwNvkT++Zwd8OX\n",
       "GucyqqNYTW3dzlqeBMBQ/vqNByQwOd0UPLNDL4Rdk5XXCPr2nuP7xva5mTu0fffoHdOxGWjtkY0+\n",
       "rGOu9/8QyYvZnBQT+UAwzdTuFrCvsuXcyYSHmVKYzJcdSGoBbjwEDv42WEbYghpE0wAs6wIAFgby\n",
       "es166n4MmkBxq+NnrCQcAAAEF0Gax0moQWyZTAgn//61KoAAAAMAAEwQIgRhJdbZP4ACTwngPymo\n",
       "HaSTbSdoC5JdPzIecSK4sFx6fGqMIXq3NC3rYr/P0jjilEc9qfV5vOboCDr65YCV+qeQ+tzwNovP\n",
       "Hq2e4sATSXFrxWa21vPEAeW/8gsdwzf8MvJ55K18cMCHjF9L9gMCkz2uqRGvkBySb6j1nP2wuL0L\n",
       "85LeB0HWXugFxLCHlKF7Du8FYtcOpls1247Bd2bC99PqpGqsyktBzT9C9FRL8YVsnFRfMgfEkG/2\n",
       "wLRmetjRuMzLOMdXsByMfHFa2Zy89AGS7XqUq0BkbSgLYLeVVhjbTvYuw/sHUW3jLKeJp3Q7HJsV\n",
       "xXV5tSTYKgB4fsmBAvHe5XG/BlCcKQbwBKqb32JQWfFWvQ0Oghm/5StdP1hsZnjIYGV3iykYFDBA\n",
       "++gSpIWWzt5Na4UkfLUqcYN47g6EQEuz9B0iJVDYGtefQ/hvfJem4RqD7hMj/tzI6nV1sgULZAuJ\n",
       "PATMwZfSZvWYjb+D/mBZiwXq2WRE9RSugCp6TohP70NeE5q10iDADKj+qrxdihuKld0SNbyUm7PJ\n",
       "DPtiauHs8Kju6xOFXzfzyfOawRh53YJrdaiFvrUGMveWZsE9E8v3MlkVqflTHamoZjSL7BhApPGX\n",
       "S1S1aPppjw3swawsbTUSLZ5QMZMuGR7gGSeLQV07qDHA72CIxI9dbAm7Wp41C8X7Am43qy4UHOnh\n",
       "Sn3DsQwAqKiL3iRC7zKO6F9DWxzRB+OTG4ZmZEBqd0wyYZtMxcuQMPUAWAeQFwwRgYBx5qXvvc3r\n",
       "UCk1xjH0xpI8q51J4cuw/NVqKMSLZ30/Ij2yhc5LgdH09uigvKbwXHdq2Okd1yuywJA66A8LKMqP\n",
       "i38iVdM9uqLDmoRaSwzW2EYHq6mamPgD4jLlqN/AjTrKx69hz1UVhwd1bvoFaUp2jtt/GaEFhYVh\n",
       "js+WU3uEdPcI8ZE5HmS8nslAp8l52mZP1CdtAk+DN7mtWkyW+QeyNGpDtQ17buCPhEbI06ylTvzu\n",
       "9Tc+OAQ7qb7H6USb2HzVVGmKNVB+2Lcgy5ql0XumHyD4FK22wNOWaF21ob5gZOJ8S7QdvyeVALwO\n",
       "+jr7+CHd5PnvWaqgaSK3RPz1/oHWLrCxGQKlofItDADtjkZ38SySzPHJV4XLLxHaNMBnxFaupdrs\n",
       "+zN+FIa+RTbRjrzxU0h/qtFQA/D7m1LSYlKpXTr3gdnfFeup8vl0YXo9JEoSU6gRe8whVGKIEreY\n",
       "y1EmyU60GO1BoSJYj8YkOMTj9rvmoumh0UOwB/o+xjnXKMfR/OwABs1qWT6d1C9XaOnW/unUfKGP\n",
       "18L1b7KcOuvRXuzaNRXJ9c+DWMv4wPEgGvZpFjX9kIvuz3pePHBxwQAAAMdBnuVFFSwQ/wAAC1lp\n",
       "m1N5KdVmEflZd5p4eaYrO10G6lTeu0p3kAA4tkA+nw5X8gg2biCDcDsRRWniEWBvT8MjpHXdNNkx\n",
       "Lu3/6bZJrEcV3QjUWMxb091/pb/CPqJ05xNOe6JJabCx7WA1sTUayZw5GWJ98R5t17Sr+UKITJlz\n",
       "kcfZxZaB/IHiTBdQDoc/oi62q6RlgAU27leC/zIBOPPe4POluYBfXRVAQtLHogVjqfdZ3UO0y9TZ\n",
       "+TbRVxUtpNlwk6vMFMYtAAAAqAGfBHRD/wAAGRukm4KBRDb0m1HzeXLUY8KsBwZgA/pDh23bSub7\n",
       "bxXKwJuUt5FVu7psEnrQSvSjWmRsE1dwknqEQxHpshWO3pES+aB/zmdf1z0GuYKp7LCI40TJ+jK0\n",
       "ksVi65DpOsYxD826PytnkdG9sovQ+kSLQUwWtx88guaAWFl+Zs8xX/CR0pWwBc06kH4WtJTl59oS\n",
       "OdsgX1H+CZm2FV6+xhDCgQAAAJ0BnwZqQ/8AABkfHbR761GEIQXPOHg1xgbgD6WijcAJVFWDlUvM\n",
       "4JTD/88swU9FteF6ZcK1jzKEghfmWcTTSmbYTSn8/5DnhLT8y2kjFktFLlNoWIAeFiGtXueNoPGB\n",
       "EcmRuV02oSZlaY7RsAtGyVVZf0yDaGJziLUVA9DoZ/UTXDv0YF5xAA6/6yAZBYiiku1Aylab2Um1\n",
       "RaLThCthAAAD6EGbC0moQWyZTAgn//61KoAAAAMAAEocmAAHK81oSeNKksOveuQEMCX/2BFlC+Mb\n",
       "yxm2mmtU5jibY8QMJY5FVtQ+oo/2cbPKr3IAGJKrVk+bRA+mkFkvGuDaelpaUq3NaK3DcS5+wo3J\n",
       "qqn17Qy1roDGe4E/zAoPOlEdVk5sDRpyfbe4N7XNtHDm3IWgE/vRND89NKB0EPCT6aWd9wMvZHMu\n",
       "CQTRbRxTEQVvnhRmlsYxeR+umJd/EaX2QHILmYhZMQpIldw9NyHt4QNo1hAIWZu3w4YXj1BcD2BY\n",
       "HjVHA9F3vQfJCHVGtsLO0KV/Mu3okPc9+LQ+oc9v5FJGk30CS4/5yludIjj4C3FkQ9AzAai7xEos\n",
       "5+qtysoWZOiMpaGaDYzgzWq26mT+Se1AqydoBQ0/tqbgGinWl/7pj27lfD/u2+kSZVNm9B4KSUPq\n",
       "vXkJxZgqS/LP46GqK5/GJV7NUx2QYE2e0uL5r7JBrEd/lbAiGkIt65/i6RoMPRBg1xeUEqzGLFWL\n",
       "ROhMq1sDndETeGS8n+lmJTmN8nqOmTCPPQzodpCiYgQFe7TU92ZmQTzitrcB+rF8WSkcGYYHKqF8\n",
       "k7hLBEkrUs8lfNLvxH37MsyfSCCNCm+gjCE0eHB7r8PhQZ4GzpR5HC/GBQ+vf+nrc7oMTPo4mVuI\n",
       "ceOtF2AUbSaiq1lj/Id7K0j4pfe68L1YeNie4+XSbNvZvaq7LCfK7WllATa6gQhCp+5i3ooDUSVu\n",
       "pRcHkjlxTiWdvcMRW2S8CYvwfLLFwoVQdd6THESZdHeTSdrqtOSpQrDv1WMHaEdTUa2inLay1jp/\n",
       "L6POCYHXFXhQgt7S64veMDLJ0i4tOwM082DR0FhWdEamk2cLLGAbQNRXiCUEnMM9NN4Lw02JMpi8\n",
       "dHj0cB98qqAgJMdD9Bg6M1/KtEgonjW4zqNACkDH+r0qiwBfeOaWwWE4iJjOREzHJQtItjquuul3\n",
       "5THe7T9tjMmBCa1QwYFTenH/PQj2p7iWLbuwL4G4i0zJNzv67zJE/P7U8izmzcdX1rrx36EzG3fL\n",
       "V+KrnHOsvVrPVftZev3rjmDglQh0eK0aL56x5cGE0uVWgVJMVHRLqiyWN7yxbkS1vNCIeovni2+k\n",
       "pTROxoQao0MeDs/h6GmyyxHnH1R3mepPVz7FCP2yqIX89JH7AypHYmNm/LW+oz9bi9NzDDB2VggV\n",
       "ogdmBOpAV68s15J0ActRVy0vJikhsCsvs5nOAnbONflP7Cvc8FL71G/HFCpojjqdioJvrbSpMMFa\n",
       "ztNDLXBWN6olyWxdGDz7qaR8yniKaFfOLqo3ZRTLy2nE4/qkizjmAr4AAADnQZ8pRRUsEP8AAAtZ\n",
       "aZtTeSnVZhH5WXeaeHmmKztdBsIvZc0gc9jQAOGspq33fdDcrnMvnIqxj4V2nTMzLPR3+0GqwOQA\n",
       "O+a8bMBFLe8/7Rz1wXknvLV8nuu1HNHZXjEVZ+njYgpPEzHX71S3qUKUYgJ/4SWqy+UbjAb19UME\n",
       "2tvtMxX8WWVrGRZNHBv/qGSFTa1Di4XbOGihyQv0u0RSx05p8T9WgpV+1mYhXC1c9fpre7JRsdLS\n",
       "qDdVmYNKmxvG2EZIgYThAUnHgIBkncPKeydfNuBrtdnilVewXm0TpxC9/2u0zJmAAAAApQGfSHRD\n",
       "/wAAGRukm4KBRDb0m1HzeXLUY8KrBBawAJyTh78FqIU2gjc216MMCGuevBnDE5l+Qnh61g9Knf82\n",
       "k+xV1vw1Ge6At/lm/l2kf68OqK7Qic21cDD6iHvvK0a09Xa0L8ueb+AbvVXYp+YgwJBPxZmfE7O7\n",
       "QKAtwwqemnqJlRurqtrhUmROrZBwN3OfZACmSV+9HPX1YcUJBvZ50+IRgimJuQAAAJgBn0pqQ/8A\n",
       "ABkfHbR761GEIQXPOHg1xgbgD02ijcAJUypj0FJtz+mI5XEpe05cHw7r8yavtC6Ol9kQBhCePtv/\n",
       "U+uljLWNmDFy6quZ5eDbMtSOOcDdmXVoH0KMqNebzTnOWPmZrRAe7kGF2ehzZSoegs25hOzjv0Fj\n",
       "gAYZcgMMsb72Cgr8j708ocWiLhNj/mcHMu/75zhDFgAAAtBBm05JqEFsmUwIKf/+1oywAAADAAAS\n",
       "hyNcAKptnS33Lkbnwg0Fornu16pxlYM1cl3aaBkEEqTkJ+8lRUG4s00qey43+rf2XPS/ReJFhp3B\n",
       "BKPMWmf1542lSPGPRv9/aKlVwMHyf/fc5Wg6+i8WLW6Ge8l4wWE8rldw4PUpYzxY8LGHXdOHn8+L\n",
       "KPeveMZdRsMIkrB4ZY9thFbD3pGoqBpO88TbhU5a9+N/KN+t564RiHMm1mzT9iA9kQXTnh76kX4j\n",
       "e6623mplXsdviTVJ+s5VVSN6y+g65oLEEbLWKuIErlhm7nPV1zHaTuFI2HCD1GOx7M6l3JRshMU6\n",
       "cFYBu343+sGoleqIGGj3BVXQOaHjgnLOj7VUBi6dPjeQXdOkJVDyrqRtGxPrd+RVExnKdB7s5ayt\n",
       "xgqKJ3OATJpvDV6c14NZC2OsLtJnz+zOxdTL3HK2RQg9QHo635yJkWkFemv/h/j55wmek+FCJAcS\n",
       "kUjnSlI7hHBhFkCWV6jLD6LqjHTuzgDMq3wvmCMsioeeaaTawLpOd04Hhgdw2gYvAuz85g62DOLh\n",
       "Ln65nTc5QrhUXDKPnmrPqP1QTSuED81yXWJdrI7kIAm2YxXzvGvJIPDWZS4LhWI7wm4moLjwSNPv\n",
       "jjqjSIJd6rk+lqTMghfoYA/I94j+TR7tLxSaRZL71wR7KNwvtGGxEjc4uXKWnQN77zZsB4HiWZ50\n",
       "aj3u5wKE34+c4RXihTQKF1aIMP5zSJJ1dqpSSuTX2henZPldBdJ6WQ8UCgzXuGCIYHmKNyHDTRgb\n",
       "JtVJJjWl7TyNZNXgbgb24G2CtsMHBxcM5V15CSblc4xP2eCn6B9hpAUmJz8bwVxf9RLW+LgWONzO\n",
       "vNyeQM8q247BPNh988A2530jHKom/PSG4WdUNDVCmvMw/LclHU2urSUEtua75/73PRAYi4UCSBrv\n",
       "7YY4aGMvsjrOjx+/A7oAAAB+QZ9sRRUsEP8AAAtZaZtTeSnVZhH5WXeaeHmmKztdBpskcACIPY+6\n",
       "3TOdxC97YkNeAcbtjLf2sKBuXd7CHzrDnSvT1a8wO78ZKE1MjOC5CVCylvtLnYOuIqAM8iHJKIJv\n",
       "AADxUseiiHs6JrOiIUG/yyF/3m9pTxcURSSkUw2ZAAAAngGfjWpD/wAAGR8dtHvrUYQhBc84eDXG\n",
       "BuAPZGDoa8TWHXiPgCtJ7w0vI+CST1B/eW3B7g3p618Cu9JD5r9btAS4ON7XSOICHR+5nrGxsFWx\n",
       "xhLhvD7skzkQm5R9c478D5EMobwV35j1BfheBK9EMwiW2+2EySNrw1lya4qgdp5Tc/bwxaqHQSVm\n",
       "qsIolwALhkEfVcLodlF+dJWMUxGxAAADP0GbkkmoQWyZTAgn//61KoAAAAMAAEZONwuACgDpbVHU\n",
       "223rAKDtDCEi1j8V2jRfH0sPBJDC9kC/pNCeFzEpepnbLJfMK4i0EyxazLPvdXc/heXIq1oTsDUy\n",
       "mlOWjMWnpGEA/e3CKvbdITcHmZ/B0ocXcrBDFzqi9qsSWxJPJrS2QJNowGiwhefV6EZ5pDVu0QKU\n",
       "7Tn7FaQ9v15UWHF2i0HSn8NNY3NBnnszCpP5v5CZnqZUc2gSrxgRLnN++j+FKHIuRGoNEDzfbg5z\n",
       "ZtsU3KsPQeJUAnkizHeKVDpDnm+OcXl2lJEUpmnJJf+12xHIQSaMPzQ+PJ2ind+9bq8zPm+f4J5f\n",
       "8gT6C1MqNGEKzO7q0bLxR2rhREfO9uA6hKVVNU5hqBz2yQ+Lakrt/eUt1K5GDPyMYvGYoPCQR/tx\n",
       "+QFQjQsM6Y2hV9aeM/UcozG7OSEwpLN/Wo1Hf9WsZ5TZLu15jj3sbdSDqqoUEzDEc4XswrJ1HxLJ\n",
       "sv6Ue9UvIxFatC3xGegfszklquwXP0LbIiVL8sg4rVeUp3aU96pMZFGoGuUSblGvGGW//fQX/sNJ\n",
       "xVLwol4JvSfptOug52Pf7bU5uiVO7SRa4ZDrDwyDlZTpwbSTLWbnddyZfUJJvIr/yS0tFGJEEJ8o\n",
       "An72kmppjC6UcO+QoRSOXS0jZy1gAGKCUbC0aBPJL5E5XlECKF5HkvWgYLdsTGYmfFRamwfgtoI/\n",
       "pE0VHKGGIYn3/s0E8EGFN/5IGAVyf5ysBPvDR//ig1zugYx09Xe1qYRyFJTuOSHOuxen2ev8UI2n\n",
       "mH8XQ8Lqi2euGUhZ7r517ntKnRxO6j3Pai86wpTn9gqVTOummcMX77OSoYTKknvxnDlxAdI/RTSt\n",
       "j4PNK0XT3recOOHg0z7DBAGS1LVBFYwKCbitvSlNg2Ye1eN5I3gozB/JJawBWOCHoTpez+qNMDfH\n",
       "jRYtowD/+mztmBTp5YYfYa4pD0GcEGycsYMWz3oZzcP9Os2jlZkKyymMuuPwSYELYsQvZ7yx/P5+\n",
       "KXqXUIs70pVcz8UCsZCkD6wjeZOZaHEtNTsZaSN9GkgWSCAclUmF8FYyFklHRhcRb1YhEXoJhPyL\n",
       "jwAAANRBn7BFFSwQ/wAAC1lpm1N5KdVmEflZd5p4eaYrO10GcxugATV8+Bn6US1oaGxhnnw3+u2v\n",
       "UyC7pRGaM7aB2YeMysK/YAPhrKf4NbsDzxnqhOpeD2zukUEtbHZ3ywsEMFCVl0wBDK2drNZlWgYT\n",
       "luMJxVAA4iJmXPqiVgpy7B8rzypDUG7w4l9C8PBPY4tJMVhHSaKblO1mVDRsR4J4xQEVXIATcoHS\n",
       "7341My3/IlQTtAzyzx0ZcVq4Xs73p0pUrn+WqPrL7F7Dqwr/+zqcoTovqilkHAAAAIsBn890Q/8A\n",
       "ABkbpJuCgUQ29JtR83ly1GPCqFEmyx+8ANzwRLvawy8lxDv8yNE6C26gBMftTH8YO+mclA6g++jp\n",
       "xe97sArgM3FEoJN/KFHsirY3xfPd82ujoLONoTTbPy8rUsOyMt0bh1kbOZ+jxAs3wAVQoiD/Prd1\n",
       "nWJ1BCnj2pUrPl3VYa4DyIOAAAAAowGf0WpD/wAAGR8dtHvrUYQhBc84eDXGBuAPDFCqsYAONpfS\n",
       "5Sa5WjXU9WY+PuQ8//f9OSx3V2o5U2/RSAzr6xURaK1vgV4G3iTN004BvXzJb2siutrhRGXW+VB0\n",
       "nd6FlGOLx6YUvp5522pzOraEejaIHs8FYlFczIct3ZsLqVhIgAs4Te3nXwvykKRE7VC0AU3wqhFz\n",
       "H7CYjQ+PGK+FvagcIXcAAAK3QZvWSahBbJlMCCf//rUqgAAAAwAARE4o4PVAHSHbbpVKQMEqbSFU\n",
       "MpalN52uI7nRK1xVmuChPtecxqzOFErnAyoGYGmb1/5NY+trgTipRNgfkk3oThDYatwqYHWQ6tSX\n",
       "NwGfPQeKqH0mJDgiYBKL/1ffP0IqhygcR8kit2VlD3lydCKNjklBshFOHse4ZNablLaXG7HRBlLl\n",
       "jrPDSzsgkuabw7AqsdT1OZEy2xWbbeUHrSacu3woKWMKsv6oIbn7hZ2WBjYxmaZz//u2OTDZQcIz\n",
       "ExS3Q9QE3n29rwDe73p+U5Si8D3oh0raPci74aCSiR6eIKmUr282gQ1L+OWpKyxmdzhT58SLij/s\n",
       "rccUOxYOtbRkTk+9dnoNQkJ7FY26Q6Ep9HQn9bWGdg2Siv93iAfV5SvFCdx6cU2SWHpV5bmKAns4\n",
       "FmoaBz/k0wor7RDyTHWhIq09KeunPmn/mWbPBFLFIZzLyO4qy5uGWZFWm3CSeNg4FuMzksJe/H27\n",
       "x5+iJQKbOwIS7FD0+YW0sBlhQ8IkCA885+mkk6FSVKaFEUsLHxrWh53PinDv3l3lU06DwYPHCe8a\n",
       "HIvy4zHH9+QN9l72oj9cynnym5x5Xo7C7tHbyImbKpwFQfHyFZL2sv1aweZm3Bvt29tVSfAqkcvf\n",
       "4GIWRfYgdL0AtOmO7a28VGKdm6dvBIpT/hEsfHLCzsNMyJCKxaWUG2/URdbcxiqd4WRkpEZ0Wg7N\n",
       "Ai/jaB/C6rrcr5GuyxGYGREJdwcdLi/SB2QH/40rX6C+vWAUEIibL2Sq/3YIHc7LHmpSyIiFXt3C\n",
       "iiUlDen8OX0ndjlGIVa1NJ2IHnA3eghTxP+s9/5Ts+11hRx/3X6NkUMhbD4wrUTM5UN62xcl/JTn\n",
       "Xe4GZHgm9PPPUOmBulgFaK2CqHo0huD5MUTqHFgAAACYQZ/0RRUsEP8AAAtZaZtTeSnVZhH5WXea\n",
       "eHmmKztdBkpU3zl/2EAJl32jYAMc1NHKiv0PdUpcdjf4GnzEuar1w0lMn8uYhi6nlnoCoJgN4crT\n",
       "z++bKW9zx3ncl/1bLJnhOrNLTk0ctlGy08OGAEc9f1OVSq24mlx33iKDE92YL/3YKj3KZ96lmY3/\n",
       "uwFfnI2MmQNs/7KIIuAAAACSAZ4TdEP/AAAZG6SbgoFENvSbUfN5ctRjwqeUKAAF1XZY2bsamyAG\n",
       "G8PSDQPc73+1usZqDKleEgThMBBq6Cw5TLociDIMdplfvorw6LfBs6RRcVpZSa8HVCyNMxoOBuDC\n",
       "hhX6hZUngXRyWt0UpxN0uaYv6NVE/+QavbdD5vLvv/9rIB9jrF2SP5ZuWT6ZyopTFlEAAACsAZ4V\n",
       "akP/AAAZHx20e+tRhCEFzzh4NcYG4A5FoiOAFh+GV6gEljw0JHLc4x+DCDbyiif6qaAVQVaAiZ6n\n",
       "a8HJ9oU1ZygWmGDparWFs7MPSpRt6a8ZEvV35Y7P2d7UgWGAFp77N1s0qe/II8A9jFFUyuK2Zz7m\n",
       "E6GKvOzuWIHjJ1tqFyxMtt44NakV25yLu0ANdkVfSc3cTVRNcxr3QG9dJRK5wsjCmcXakrRCmgAA\n",
       "ApNBmhpJqEFsmUwIJ//+tSqAAAADAABCTl/ZIAnpBazk5pPcvJEuGs4qyKggnktb/X/i+4C6+dgX\n",
       "zRdT5DZNApIONwma+z2SsB2dZ4hAcLBXKB9eqiFbKgoFzyWt+pvoDuZ1Q8OU0R6kckiw6Trn1ra9\n",
       "zzsQZgiUFf5dar0zB1GKwgiARvP9SAG6dz+tDGCsxlMzSRemtg2qNmKmLdM8ZjMYNDWnOqXdrwoG\n",
       "/N3cSlN+LpEt1ZeJYr3ZyC0vPkPilIm3zkFfs0GbWliNIE6WZtwxZppaXkChQUvk9PnVLZe6E62l\n",
       "NWkoya3Xd7FLaXc1Z/z6mpHLX9XcDxJCNpU15OJrA+C9Q1STiZmsXjasRmEOiGvIV+mpLkiIouWq\n",
       "cXW8L4XIwVqNJd7v808JuVy90W/R/9hCzvPtz4EBms2+44ZTVQG6qPocgQ0Mgo+I0vg08U4xJeRL\n",
       "hbFY8EMFPpeynuLL/ta/3MhbgJQoXlcYsr18f76znxghXq9J3LvBhdR96dcXJnoTJuB99N26G7tx\n",
       "Il7V1FwhNB+RpkQofFztYnMMFuN4UWggTL10iHb/96DeCCEVvKwx2+j0s/WXBhQOydtxiR0L+swu\n",
       "K+p7b+9LO/0HYEkGpMA4Cr2Ef5bE2aXRAJnf+5e93zSo+yd3J2YktvErn1RbrflFZWRWG5zG9BLB\n",
       "tzrvWAXz5Ob1m/3/RBt6XhQG1l8k3PRXnioJS1u3L81qjPeo/DCmbqeTuHa8bAZ4+QHe3R0lpGRp\n",
       "SQpE4cEJ+VLJoe8RFNcfieb0w7/0hoUQSluJZf0ok4lLZc5GYMTNKmX3/o7BXaBgMX4rFeFB7VGV\n",
       "6ELRZvu73/UiYk3OWhhWlho90Do+stD6kqPtzSf+DX/vQQAAAMFBnjhFFSwQ/wAAC1lpm1N5KdVm\n",
       "EflZd5p4eaYrO10GIlTfORpf0AIva/tUrw0d9Efnp7uhhr/BIfsdl/XStDbdWwCpFFuta4UKXfjP\n",
       "SfQqVJX3VRsvlK/P06e7XYfaEG9bsGgjvcHpibQV9Ltx4YSdxefpa6I7IOZq5lw0FOB1wUQQ1brw\n",
       "cnIZ1jgM5h3ut9s7N0gHNIoAB15KuMKqS37+7KqOF0ZLW97w82ikWabAP0u993f3AcDzZ1hDcjjC\n",
       "pgm5AAAAhgGeV3RD/wAAGRukm4KBRDb0m1HzeXLUY8Kmi4XKHuIPFOZ3nlMvjQATi+fplsFdFBz6\n",
       "+WkL8/WJiaC9fHSUr5c7YqceP7bSC+R2ySkicVJ3wPpKfvCCTZMEJlpbjZJ7/q2b1gs4AU93g6kt\n",
       "JgQszv5L65EBqlHkYe6LUTNYKAeGIsMY6iHgAAAApAGeWWpD/wAAGR8dtHvrUYQhBc84eDXGBuAN\n",
       "7aIjgBGV0FuYmbVQHE9H7n4Isba10b2sC8EGi4TdtPQIPnUlMh/+vTr4Ep3Kf6eN5DOyyyQHfE9U\n",
       "04Xpr8xliZ9ccBTs3LJQyu+uFwF7U5aJSy9BBwLeCrvShbEBGMFVUhph58JIX36n2d+5MBgBr3Ip\n",
       "E4CFTgsDjIOqSYPYsORMuz+n114RCCllAAACEUGaXkmoQWyZTAgl//61KoAAAAMAABXfrer1RTtB\n",
       "nCElpUGGFT/1thmus8wGEyxbe7S9DgppgIXYiEP3QEZVMwsKCy8joyhw4CKL/pikxB1cgCs2UiJ2\n",
       "W+sH0Tupys2vgH3MA8CPAOfy4l1eKiV16751t9UoY5xABtxO9T8R3RLm8FBRy6Xe2/cYdXz9qrLA\n",
       "KtAp3vlYM+EO69jLzZKKxAQFbOeTaqvqDO6qG8vH8UB9gxHg16onRG7TkfDFoXwODATOkWqk9pXf\n",
       "1M24i/oEfBsAD/YsfW/XIUQQQPozD+U/P7NH+KmuOtjKiHstTGJ35HVja2+1WDpfj5mLaHBC88nQ\n",
       "RIckgf4pSGBs+IkSiA0d3SdF8Qe/dHzooEe2bPFy4j5P2ywyv/QGpulc74iRzGAu4eBdMfwtGGpU\n",
       "xUW6oCKSyeUEzTt7MrbhqNjdo5WABV8kc5pGJjbumz/Ojl/xxIITiJM9MoFTgc8NFA98jviOexk2\n",
       "3FSP5YxBv3O+tAuTFZX6G+2LAMUjJ/xqQlu6Molz6a1k/dPB9CLazx38NbRbE0XeIAr1qe9scH+B\n",
       "uOaYZBtp4QY1ZyQ4vIsyZEeYszUpcPCxTlyT6pqj5A7i6oJHvs0V/zW1yykj7NMP6s28Um3XN+S+\n",
       "M6AIm2Gh7libWh1UjkXouMx+4R1DADYgUkKZsuikZaPsak/oAlJF8cgPK2AAAACKQZ58RRUsEP8A\n",
       "AAtZaZtTeSnVZhH5WXeaeHmmKztdAfDD6APMs8r/SFa67+BeQmHuILvHh3Qoqbn39pcMZlfHHV8M\n",
       "1CETB3K2T2NfN80JcwjrizhD1dHQr+uOqA8bY0OQy2M7Q4xcvUOV7llyWfCwgAzIclAXq/a6rDD5\n",
       "LsNCKrsWgpaB6Bdu0DUhAAAAegGem3RD/wAAGRukm4KBRDb0m1HzeXLUY8KMjaORqebCcI0p3wAf\n",
       "nPF2l+5OclbWInIsOo0CcTjsi1/1TflwDK0c6duA6jpixXMSAcNHOfKgMqwPhUhF4lnNbzv5xKFO\n",
       "rteY9d3AGHiahGDQGresWYOg/SdmK4a7346ZAAAAhQGenWpD/wAAGR8dtHvrUYQhBc84eDXGBuAE\n",
       "l3748+0pKHsk3UgAmZQlxWIHoA1dpWTq8nHmSwfqAq/k2vo4fhpSyQjGuI5dh5Glb17bf+Xp2I/q\n",
       "6euys8sNVwBfJrh21+ze6RAAqB31vFTLYPV2hseZ7pdMlUWJ80U4PBEhUNsJ2I/piTgAAAG8QZqC\n",
       "SahBbJlMCCH//qpVAAAUnvqgR1SyMAANP8TINmE7IyTG8mDlrX6D4I8w5rMMwF39+l2+WiF7APSU\n",
       "NqM4sSFjzwMexIn4CqEl2YCXSSLvVYuGwQjhcIZs7ShWNnQteE6M6hcNQ+5IoOmwDicZgpFCXuKz\n",
       "THPu7RpSGEQx3B4p+WyTwbUqjidWcioiP17qNurW6kdpi7hGuvTrPpLt34NVX9g1eQwUyRujYSU1\n",
       "gP6sAIH6OohVLYk+9YB9bwPg5CpNVkupseh47VqqJBVYsTHLBDwv11HSI6Vr2KO4hsI7LIOdc1NA\n",
       "+jzuHUubfCMn4ecXfor3gLz1n4aJrxjy51qu5f8z1+ezWJK8iT+4y1hgTdcYKyskjC2JpxMUIRAq\n",
       "3Eajs6nt4pwC38dn4WwDHDIl8h2t3a9UUuXHhUHmV2469nmEFHXusdUTGjqVO+uZa/JnS0NUXy3V\n",
       "VCx9qnGJ/1vVEhzQv85NfGKJ/oOwx9UsKE/Bq3pBIZk+u2/cn2u/FgGIdo7FI3G/tJVdhiau4/Nb\n",
       "p0avs8f65XMQQ2jnHnf7rFkgI9ZKrhiggNVKbGhhvp4uESXYWYw/ZU7oAAAAlUGeoEUVLBD/AAAL\n",
       "WWmbU3kp1WYR+Vl3mnh5pis7XQWtxq+l9GIUbczr/RaJkUN78AJmBADEaDvTJLN4E6mHZbdKIqjW\n",
       "SfL7uUb/jE3dallfn8kghI3NIC4sMi3oRtzby9LQ3U3wJQJpET4OTCEYmDTZX3tvrgPrFkNHfABV\n",
       "OLd8khQIy9QCPuS8uXoZZLUfi4eoT8KnAAAAcwGe33RD/wAAGRukm4KBRDb0m1HzeXLUY8KL88Hw\n",
       "KTrApgAJRNyBdLEF0KCHYsFVC1pzXTL+O7f14tfOJWxKbcahGQHjU/3GOlLE9Tt/ic5vCdfx44Al\n",
       "t4upvYjfDd/T1gaPpeo/UMcKQude4jKyULa8f4AAAABTAZ7BakP/AAAZHx20e+tRhCEFzzh4NcYG\n",
       "4A1Sm9xhvavhQmPzcAE0ugMW/ZceQ1u/xlsH1IQgAJrOTKu09s6vmN9iT939etXINiZ4e27jqV4s\n",
       "XcEAAACWQZrDSahBbJlMCH///qmWAAADAAADAJxIBBc8wPI4APzk0Yv/m02EVO8jkMvm0hbaDkaG\n",
       "bAR1iha10FBHlpaYYtFm/i3I7vj8kxKk+gupKvVK79mgUIuja/d/QnH9wAfp4rQ/v1uW2UBvFL1u\n",
       "q69aBnmW+8WsnUBMnPEKJajGDcFPAKneE1viGhFIuaygGjqsOOTnkox8AAAHwm1vb3YAAABsbXZo\n",
       "ZAAAAAAAAAAAAAAAAAAAA+gAAE4gAAEAAAEAAAAAAAAAAAAAAAABAAAAAAAAAAAAAAAAAAAAAQAA\n",
       "AAAAAAAAAAAAAAAAQAAAAAAAAAAAAAAAAAAAAAAAAAAAAAAAAAAAAAAAAAIAAAbtdHJhawAAAFx0\n",
       "a2hkAAAAAwAAAAAAAAAAAAAAAQAAAAAAAE4gAAAAAAAAAAAAAAAAAAAAAAABAAAAAAAAAAAAAAAA\n",
       "AAAAAQAAAAAAAAAAAAAAAAAAQAAAAASwAAABkAAAAAAAJGVkdHMAAAAcZWxzdAAAAAAAAAABAABO\n",
       "IAAAEAAAAQAAAAAGZW1kaWEAAAAgbWRoZAAAAAAAAAAAAAAAAAAAKAAAAyAAVcQAAAAAAC1oZGxy\n",
       "AAAAAAAAAAB2aWRlAAAAAAAAAAAAAAAAVmlkZW9IYW5kbGVyAAAABhBtaW5mAAAAFHZtaGQAAAAB\n",
       "AAAAAAAAAAAAAAAkZGluZgAAABxkcmVmAAAAAAAAAAEAAAAMdXJsIAAAAAEAAAXQc3RibAAAALhz\n",
       "dHNkAAAAAAAAAAEAAACoYXZjMQAAAAAAAAABAAAAAAAAAAAAAAAAAAAAAASwAZAASAAAAEgAAAAA\n",
       "AAAAAQAAAAAAAAAAAAAAAAAAAAAAAAAAAAAAAAAAAAAAAAAAABj//wAAADZhdmNDAWQAH//hABln\n",
       "ZAAfrNlASwzoQAAAAwBAAAADAoPGDGWAAQAGaOvjyyLA/fj4AAAAABx1dWlka2hA8l8kT8W6OaUb\n",
       "zwMj8wAAAAAAAAAYc3R0cwAAAAAAAAABAAAAZAAACAAAAAAUc3RzcwAAAAAAAAABAAAAAQAAAxBj\n",
       "dHRzAAAAAAAAAGAAAAABAAAQAAAAAAEAABgAAAAAAQAACAAAAAABAAAQAAAAAAEAACAAAAAAAgAA\n",
       "CAAAAAABAAAYAAAAAAEAAAgAAAAAAQAAGAAAAAABAAAIAAAAAAEAABgAAAAAAQAACAAAAAACAAAQ\n",
       "AAAAAAEAACgAAAAAAQAAEAAAAAABAAAAAAAAAAEAAAgAAAAAAQAAKAAAAAABAAAQAAAAAAEAAAAA\n",
       "AAAAAQAACAAAAAABAAAQAAAAAAEAABgAAAAAAQAACAAAAAABAAAoAAAAAAEAABAAAAAAAQAAAAAA\n",
       "AAABAAAIAAAAAAEAABgAAAAAAQAACAAAAAABAAAoAAAAAAEAABAAAAAAAQAAAAAAAAABAAAIAAAA\n",
       "AAEAACgAAAAAAQAAEAAAAAABAAAAAAAAAAEAAAgAAAAAAQAAKAAAAAABAAAQAAAAAAEAAAAAAAAA\n",
       "AQAACAAAAAABAAAoAAAAAAEAABAAAAAAAQAAAAAAAAABAAAIAAAAAAEAACgAAAAAAQAAEAAAAAAB\n",
       "AAAAAAAAAAEAAAgAAAAAAgAAEAAAAAABAAAoAAAAAAEAABAAAAAAAQAAAAAAAAABAAAIAAAAAAEA\n",
       "ABgAAAAAAQAACAAAAAABAAAoAAAAAAEAABAAAAAAAQAAAAAAAAABAAAIAAAAAAEAACgAAAAAAQAA\n",
       "EAAAAAABAAAAAAAAAAEAAAgAAAAAAQAAKAAAAAABAAAQAAAAAAEAAAAAAAAAAQAACAAAAAABAAAo\n",
       "AAAAAAEAABAAAAAAAQAAAAAAAAABAAAIAAAAAAEAACAAAAAAAgAACAAAAAABAAAoAAAAAAEAABAA\n",
       "AAAAAQAAAAAAAAABAAAIAAAAAAEAACgAAAAAAQAAEAAAAAABAAAAAAAAAAEAAAgAAAAAAQAAKAAA\n",
       "AAABAAAQAAAAAAEAAAAAAAAAAQAACAAAAAABAAAoAAAAAAEAABAAAAAAAQAAAAAAAAABAAAIAAAA\n",
       "AAEAACgAAAAAAQAAEAAAAAABAAAAAAAAAAEAAAgAAAAAAQAAEAAAAAAcc3RzYwAAAAAAAAABAAAA\n",
       "AQAAAGQAAAABAAABpHN0c3oAAAAAAAAAAAAAAGQAACdBAAAEawAAAFQAAAXaAAAFHQAAALEAAADa\n",
       "AAAD7QAAAN0AAAOhAAABBwAAA9IAAADyAAABigAAAgAAAATlAAAAzAAAAOAAAAC7AAADywAAALgA\n",
       "AACmAAAArAAAAa0AAAKvAAAA2AAAA4EAAACXAAAAugAAAK0AAAIuAAAAmgAAAwkAAACkAAAAngAA\n",
       "AI0AAALtAAAAmwAAAKIAAAB+AAAC2gAAAJcAAACAAAAAdQAAAuMAAACvAAAAdAAAAHcAAAblAAAA\n",
       "vgAAAF0AAAC0AAAGSwAAAx8AAAVQAAABEwAAAMYAAADYAAADOQAAAM4AAAU4AAAAtAAAAOkAAACa\n",
       "AAAFEAAAAKEAAAD8AAAA5wAABBsAAADLAAAArAAAAKEAAAPsAAAA6wAAAKkAAACcAAAC1AAAAIIA\n",
       "AACiAAADQwAAANgAAACPAAAApwAAArsAAACcAAAAlgAAALAAAAKXAAAAxQAAAIoAAACoAAACFQAA\n",
       "AI4AAAB+AAAAiQAAAcAAAACZAAAAdwAAAFcAAACaAAAAFHN0Y28AAAAAAAAAAQAAADAAAABhdWR0\n",
       "YQAAAFltZXRhAAAAAAAAACFoZGxyAAAAAAAAAABtZGlyYXBwbAAAAAAAAAAAAAAAACxpbHN0AAAA\n",
       "JKl0b28AAAAcZGF0YQAAAAEAAAAATGF2ZjYwLjMuMTAw\n",
       "\">\n",
       "  Your browser does not support the video tag.\n",
       "</video>"
      ],
      "text/plain": [
       "<IPython.core.display.HTML object>"
      ]
     },
     "execution_count": 120,
     "metadata": {},
     "output_type": "execute_result"
    },
    {
     "data": {
      "image/png": "[encoded data removed]",
      "text/plain": [
       "<Figure size 1200x400 with 2 Axes>"
      ]
     },
     "metadata": {},
     "output_type": "display_data"
    }
   ],
   "source": [
    "# Do animation\n",
    "from celluloid import Camera\n",
    "fig, ax = plt.subplots(1, 2, figsize=(12, 4))\n",
    "camera = Camera(fig)\n",
    "\n",
    "colors = ['#1f77b4', '#ff7f0e', '#2ca02c', '#d62728', '#9467bd']\n",
    "\n",
    "for t in range(100):\n",
    "    ax[0].plot(out[0, :t, 0], c=colors[0])\n",
    "    ax[0].plot(x[0, :t, 0], c=colors[1])\n",
    "    ax[0].set_xlim(0, 100)\n",
    "    ax[0].set_ylim(-1.1, 1.1)\n",
    "    ax[0].set_ylabel('input/output')\n",
    "    ax[0].set_xlabel('time')\n",
    "    ax[1].axhline(0, c='black', lw=0.5)\n",
    "    ax[1].plot(out[0, :t, 0] / 7, c='gray', ls='--')\n",
    "    for i in range(5):\n",
    "        ax[1].plot(saved_units[0, :t, i], c=colors[i])\n",
    "    ax[1].set_xlim(0, 100)\n",
    "    ax[1].set_ylim(-.5, .5)\n",
    "    ax[1].set_ylabel('hidden units')\n",
    "    ax[1].set_xlabel('time')\n",
    "    camera.snap()\n",
    "\n",
    "anim = camera.animate()\n",
    "# show anim\n",
    "from IPython.display import HTML\n",
    "HTML(anim.to_html5_video())"
   ]
  },
  {
   "cell_type": "code",
   "execution_count": 72,
   "metadata": {},
   "outputs": [],
   "source": [
    "from sklearn.decomposition import PCA"
   ]
  },
  {
   "cell_type": "code",
   "execution_count": 73,
   "metadata": {},
   "outputs": [],
   "source": [
    "# do PCA on saved_units\n",
    "pca = PCA(n_components=2)\n",
    "state_space = saved_units.reshape((32*1000, -1))\n",
    "top = pca.fit_transform(state_space)\n",
    "top_pca = top.reshape((32, 1000, 2))\n"
   ]
  },
  {
   "cell_type": "code",
   "execution_count": null,
   "metadata": {},
   "outputs": [],
   "source": []
  },
  {
   "cell_type": "code",
   "execution_count": null,
   "metadata": {},
   "outputs": [],
   "source": []
  }
 ],
 "metadata": {
  "kernelspec": {
   "display_name": "base",
   "language": "python",
   "name": "python3"
  },
  "language_info": {
   "codemirror_mode": {
    "name": "ipython",
    "version": 3
   },
   "file_extension": ".py",
   "mimetype": "text/x-python",
   "name": "python",
   "nbconvert_exporter": "python",
   "pygments_lexer": "ipython3",
   "version": "3.11.5"
  },
  "orig_nbformat": 4
 },
 "nbformat": 4,
 "nbformat_minor": 2
}
